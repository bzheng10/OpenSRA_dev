{
 "cells": [
  {
   "cell_type": "code",
   "execution_count": 56,
   "metadata": {},
   "outputs": [],
   "source": [
    "#####################################################################################################################\n",
    "##### Python modules\n",
    "import os, json, h5py\n",
    "import numpy as np\n",
    "\n",
    "##### OpenSRA modules and functions\n",
    "from src import fcn_gen\n",
    "\n",
    "##### SimCenter modules\n",
    "import lib.simcenter.OpenSHAInterface as OpenSHAInterface"
   ]
  },
  {
   "cell_type": "code",
   "execution_count": 22,
   "metadata": {},
   "outputs": [],
   "source": [
    "save_dir = r'C:\\Users\\barry\\OneDrive - SlateGeotech\\Fragility\\OpenSRA\\lib\\simcenter\\ucerf3_1'"
   ]
  },
  {
   "cell_type": "code",
   "execution_count": 2,
   "metadata": {},
   "outputs": [],
   "source": [
    "reg_proc = OpenSHAInterface.initEQHazardInterface(1)"
   ]
  },
  {
   "cell_type": "code",
   "execution_count": 3,
   "metadata": {},
   "outputs": [],
   "source": [
    "##\n",
    "nSources = reg_proc.getNumSources()"
   ]
  },
  {
   "cell_type": "code",
   "execution_count": 4,
   "metadata": {},
   "outputs": [
    {
     "data": {
      "text/plain": [
       "261031"
      ]
     },
     "execution_count": 4,
     "metadata": {},
     "output_type": "execute_result"
    }
   ],
   "source": [
    "nSources"
   ]
  },
  {
   "cell_type": "code",
   "execution_count": 5,
   "metadata": {},
   "outputs": [],
   "source": [
    "#Initializing the interface to EQHazardCalc\n",
    "rupSet, rupSourceSections = OpenSHAInterface.set_up_get_rup()"
   ]
  },
  {
   "cell_type": "code",
   "execution_count": 6,
   "metadata": {},
   "outputs": [
    {
     "name": "stdout",
     "output_type": "stream",
     "text": [
      "0\n",
      "10000\n",
      "20000\n",
      "30000\n",
      "40000\n",
      "50000\n",
      "60000\n",
      "70000\n",
      "80000\n",
      "90000\n",
      "100000\n",
      "110000\n",
      "120000\n",
      "130000\n",
      "140000\n",
      "150000\n",
      "160000\n",
      "170000\n",
      "180000\n",
      "190000\n",
      "200000\n",
      "210000\n",
      "220000\n",
      "230000\n",
      "240000\n",
      "250000\n",
      "260000\n"
     ]
    }
   ],
   "source": [
    "seg_unique = {}\n",
    "ps_unique = {}\n",
    "src_connect = {}\n",
    "\n",
    "for src_i in range(nSources):\n",
    "    if src_i%10000==0:\n",
    "        print(src_i)\n",
    "    try:\n",
    "        ## get list of segments\n",
    "        listSeg = list(rupSourceSections[src_i].toArray())\n",
    "        src_connect.update({str(src_i):listSeg})\n",
    "\n",
    "        ## get list of nodes for all segments in current source\n",
    "        for j in range(len(listSeg)):\n",
    "            if not str(listSeg[j]) in seg_unique:\n",
    "                seg_unique[str(listSeg[j])] = {}\n",
    "                section = rupSet.getFaultSectionData(listSeg[j])\n",
    "                trace = section.getFaultTrace()\n",
    "                nodes = []\n",
    "                for point in trace:\n",
    "                    nodes.append([float(point.getLongitude()),float(point.getLatitude()),float(point.getDepth())])\n",
    "                ##\n",
    "                seg_unique[str(listSeg[j])].update({'name':str(section.getSectionName())})\n",
    "                seg_unique[str(listSeg[j])].update({'trace':nodes})\n",
    "\n",
    "    except:\n",
    "        ## point sources\n",
    "        reg_proc.setCurrentRupture(src_i,0)\n",
    "        rupture = reg_proc.getRupture()\n",
    "        surface = rupture.getRuptureSurface()\n",
    "        nodes = [[float(surface.getLocation().getLongitude()), \n",
    "                    float(surface.getLocation().getLatitude()), \n",
    "                    float(surface.getLocation().getDepth())]]\n",
    "        ps_unique.update({str(src_i):nodes[0]})"
   ]
  },
  {
   "cell_type": "code",
   "execution_count": 23,
   "metadata": {},
   "outputs": [],
   "source": [
    "src_connect_arr = []\n",
    "for i in src_connect:\n",
    "    src_connect_arr.append([i,src_connect[i]])\n",
    "    \n",
    "f = open(os.path.join(save_dir,'src_connect.txt'), \"w\")\n",
    "for line in src_connect_arr:\n",
    "    # write line to output file\n",
    "    f.write(str(line))\n",
    "    f.write(\"\\n\")\n",
    "f.close()"
   ]
  },
  {
   "cell_type": "code",
   "execution_count": 24,
   "metadata": {},
   "outputs": [],
   "source": [
    "with open(os.path.join(save_dir,'rup_seg.json'), \"w\") as f:\n",
    "    json.dump(seg_unique, f, indent=4)"
   ]
  },
  {
   "cell_type": "code",
   "execution_count": 26,
   "metadata": {},
   "outputs": [],
   "source": [
    "ps_unique_arr = []\n",
    "for i in ps_unique:\n",
    "    ps_unique_arr.append([i,ps_unique[i][0],ps_unique[i][1],ps_unique[i][2]])\n",
    "\n",
    "np.savetxt(os.path.join(save_dir,'point_source.txt'),ps_unique_arr,fmt='%s')"
   ]
  },
  {
   "cell_type": "code",
   "execution_count": 100,
   "metadata": {},
   "outputs": [],
   "source": [
    "list_pt_src = np.loadtxt(r'C:\\Users\\barry\\OneDrive - SlateGeotech\\Fragility\\OpenSRA\\lib\\simcenter\\ucerf3_1\\point_source.txt')"
   ]
  },
  {
   "cell_type": "code",
   "execution_count": 96,
   "metadata": {},
   "outputs": [
    {
     "data": {
      "text/plain": [
       "0"
      ]
     },
     "execution_count": 96,
     "metadata": {},
     "output_type": "execute_result"
    }
   ],
   "source": [
    "np.where(list_pt_src[0] ==  253395)[0][0]"
   ]
  },
  {
   "cell_type": "code",
   "execution_count": 104,
   "metadata": {},
   "outputs": [
    {
     "name": "stdout",
     "output_type": "stream",
     "text": [
      "[ 2.53395e+05 -1.17200e+02  3.16000e+01  0.00000e+00]\n"
     ]
    }
   ],
   "source": [
    "count = 0\n",
    "for pt_src in list_pt_src:\n",
    "    count += 1\n",
    "    if count < 2:\n",
    "        print(pt_src[1:3])"
   ]
  },
  {
   "cell_type": "code",
   "execution_count": 3,
   "metadata": {},
   "outputs": [],
   "source": [
    "with open(os.path.join(r'C:\\Users\\barry\\OneDrive - SlateGeotech\\Fragility\\OpenSRA\\lib\\simcenter\\ucerf3_1','rup_seg.json'), 'r') as read_file:\n",
    "    list_rup_seg = json.load(read_file)\n",
    "read_file.close()"
   ]
  },
  {
   "cell_type": "code",
   "execution_count": 6,
   "metadata": {},
   "outputs": [
    {
     "data": {
      "text/plain": [
       "{'name': 'La Panza 2011, Subsection 3',\n",
       " 'trace': [[-120.14930992251927, 35.20224071795313, 0.0],\n",
       "  [-120.1879, 35.23274, 0.0],\n",
       "  [-120.21786851991303, 35.24637630411823, 0.0]]}"
      ]
     },
     "execution_count": 6,
     "metadata": {},
     "output_type": "execute_result"
    }
   ],
   "source": [
    "list_rup_seg['10']"
   ]
  },
  {
   "cell_type": "code",
   "execution_count": null,
   "metadata": {},
   "outputs": [],
   "source": []
  },
  {
   "cell_type": "code",
   "execution_count": 66,
   "metadata": {},
   "outputs": [],
   "source": [
    "count = 0\n",
    "seg_pass_rmax = []\n",
    "for seg in list_rup_seg:\n",
    "    count+=1\n",
    "    flag_rmax = check_rmax([[-120,35],[-110,30]],list_rup_seg[seg]['trace'],100)\n",
    "    if flag_rmax == True:\n",
    "        seg_pass_rmax.append(int(seg))"
   ]
  },
  {
   "cell_type": "code",
   "execution_count": 67,
   "metadata": {},
   "outputs": [
    {
     "data": {
      "text/plain": [
       "298"
      ]
     },
     "execution_count": 67,
     "metadata": {},
     "output_type": "execute_result"
    }
   ],
   "source": [
    "len(seg_pass_rmax)"
   ]
  },
  {
   "cell_type": "code",
   "execution_count": 68,
   "metadata": {},
   "outputs": [
    {
     "data": {
      "text/plain": [
       "[1305, 2346, 2364, 1801, 784, 1547, 1679, 231, 2173, 1732]"
      ]
     },
     "execution_count": 68,
     "metadata": {},
     "output_type": "execute_result"
    }
   ],
   "source": [
    "seg_pass_rmax[:10]"
   ]
  },
  {
   "cell_type": "code",
   "execution_count": 57,
   "metadata": {},
   "outputs": [],
   "source": [
    "## initialize dictionaries\n",
    "gm_source_info = {'src':None,'rup':None,'M':None,'rate':None}\n",
    "keys = list(gm_source_info)\n",
    "\n",
    "## see if rup_meta_file already exists\n",
    "## load rup_meta_file\n",
    "with h5py.File(r'C:\\Users\\barry\\Desktop\\opensra_results_for_chris\\gm_out\\rup_meta_10000yr.hdf5', 'r') as f:\n",
    "    for key in keys:\n",
    "        gm_source_info[key] = f.get(key)[:]\n",
    "f.close()"
   ]
  },
  {
   "cell_type": "code",
   "execution_count": 61,
   "metadata": {},
   "outputs": [],
   "source": [
    "src_unique = np.unique(gm_source_info['src'])"
   ]
  },
  {
   "cell_type": "code",
   "execution_count": 59,
   "metadata": {},
   "outputs": [],
   "source": [
    "#####\n",
    "reg_proc = OpenSHAInterface.initEQHazardInterface(1)"
   ]
  },
  {
   "cell_type": "code",
   "execution_count": 63,
   "metadata": {},
   "outputs": [],
   "source": [
    "_, rupSourceSections = OpenSHAInterface.set_up_get_rup()"
   ]
  },
  {
   "cell_type": "code",
   "execution_count": 80,
   "metadata": {},
   "outputs": [
    {
     "name": "stdout",
     "output_type": "stream",
     "text": [
      "No common elements\n",
      "None\n",
      "{2, 2439, 1801, 1547, 2189, 1679, 784, 1297, 1305, 282, 1188, 2346, 940, 814, 823, 441, 1595, 2364, 1732, 836, 1992, 989, 231, 1906, 1781, 2040, 2298, 2173, 1662}\n",
      "None\n",
      "No common elements\n",
      "None\n",
      "No common elements\n",
      "None\n",
      "No common elements\n",
      "None\n",
      "No common elements\n",
      "None\n",
      "No common elements\n",
      "None\n",
      "No common elements\n",
      "None\n",
      "No common elements\n",
      "None\n",
      "No common elements\n",
      "None\n"
     ]
    }
   ],
   "source": [
    "#####\n",
    "count = 0\n",
    "for src_unique_i in src_unique:\n",
    "    count+=1\n",
    "    if count <= 10:\n",
    "        listSeg = list(rupSourceSections[src_unique_i].toArray())\n",
    "        print(common_member(listSeg,seg_pass_rmax))"
   ]
  },
  {
   "cell_type": "code",
   "execution_count": 78,
   "metadata": {},
   "outputs": [
    {
     "data": {
      "text/plain": [
       "[2447, 1495, 520, 1215, 866, 1419, 496, 400, 2504, 2512, 1127, 180]"
      ]
     },
     "execution_count": 78,
     "metadata": {},
     "output_type": "execute_result"
    }
   ],
   "source": [
    "listSeg"
   ]
  },
  {
   "cell_type": "code",
   "execution_count": 69,
   "metadata": {},
   "outputs": [],
   "source": [
    "def common_member(a, b): \n",
    "    a_set = set(a) \n",
    "    b_set = set(b) \n",
    "  \n",
    "    if (a_set & b_set): \n",
    "        print(a_set & b_set) \n",
    "    else: \n",
    "        print(\"No common elements\")  "
   ]
  },
  {
   "cell_type": "code",
   "execution_count": 45,
   "metadata": {},
   "outputs": [],
   "source": [
    "#####################################################################################################################\n",
    "##### check for list of rupture segments that are within rmax\n",
    "#####################################################################################################################\n",
    "def check_rmax(site_loc,seg_trace,rmax):\n",
    "    \"\"\"\n",
    "    check for list of rupture segments that are within rmax\n",
    "    \n",
    "    \"\"\"\n",
    "    ##\n",
    "    for i in range(len(seg_trace)-1):\n",
    "        seg_sub = [seg_trace[i][:2],seg_trace[i+1][:2]]\n",
    "        ##\n",
    "        for site_j in site_loc:\n",
    "            ##\n",
    "            _,dist = get_closest_pt(site_j,seg_sub)\n",
    "            ##\n",
    "            if dist <= rmax:\n",
    "                ##\n",
    "                return True\n",
    "                \n",
    "    return False"
   ]
  },
  {
   "cell_type": "code",
   "execution_count": 53,
   "metadata": {},
   "outputs": [],
   "source": [
    "#####################################################################################################################\n",
    "##### get closest projection and spherical distance for a location relative to a line segment\n",
    "#####################################################################################################################\n",
    "def get_closest_pt(loc,line):\n",
    "    \"\"\"\n",
    "    returns the closest location and shortest distance between a location and a line segment\n",
    "\n",
    "    Parameters\n",
    "    ----------\n",
    "    loc : [float, float]\n",
    "        [degree] coordinate of point\n",
    "    line : [[float, float], [float, float]]\n",
    "        [degree] two pairs of coordinates [pt1, pt2] that define the line\n",
    "    \n",
    "    Returns\n",
    "    -------\n",
    "    closest_loc : [float, float]\n",
    "        [degree] closest point on line\n",
    "    shortest_dist : [float, float]\n",
    "        [degree] shorest distance\n",
    "    \n",
    "    \"\"\"\n",
    "    \n",
    "    ## calculations\n",
    "    line_vect = [line[1][0]-line[0][0],line[1][1]-line[0][1]] # get vector for line from pt 1 to pt 2\n",
    "    len_line = np.dot(line_vect,line_vect)**0.5 # length of line\n",
    "    if line_vect[0] == 0:\n",
    "        line_theta = np.radians(90)\n",
    "    else:\n",
    "        line_theta = np.arctan(line_vect[1]/line_vect[0]) # rad, angle for line vector relative to horizontal\n",
    "    loc_vect = [loc[0]-line[0][0],loc[1]-line[0][1]] # get vector from pt 1 of line to pt to project\n",
    "    proj_dist = np.dot(loc_vect,line_vect/len_line) # compute projected length of pt on line\n",
    "    \n",
    "    ## check if point is within or outside of line:\n",
    "    if proj_dist <= 0:\n",
    "        closest_loc = line[0]\n",
    "    elif proj_dist >= len_line:\n",
    "        closest_loc = line[1]\n",
    "    else:\n",
    "        closest_loc = [line[0][0]+proj_dist*np.cos(line_theta),\n",
    "                        line[0][1]+proj_dist*np.sin(line_theta)] # compute projection\n",
    "        closest_loc = np.round(closest_loc,decimals=6)\n",
    "    \n",
    "    ##\n",
    "    shortest_dist = get_haversine_dist(loc[0],loc[1],closest_loc[0],closest_loc[1])\n",
    "    \n",
    "    ##\n",
    "    return closest_loc,shortest_dist"
   ]
  },
  {
   "cell_type": "code",
   "execution_count": 10,
   "metadata": {},
   "outputs": [],
   "source": [
    "#####################################################################################################################\n",
    "##### Haversine equation for distances\n",
    "#####################################################################################################################\n",
    "def get_haversine_dist(lon1,lat1,lon2,lat2,unit='km'):\n",
    "\t\"\"\"\n",
    "\tcalculates the Haversine distance between two sets of coordinates\n",
    "\t\n",
    "\tParameters\n",
    "\t----------\n",
    "\tlon1 : float, array\n",
    "\t\t[degree] longitude of site 1\n",
    "\tlat1 : float, array\n",
    "\t\t[degree] latitude of site 1\n",
    "\tlon2 : float, array\n",
    "\t\t[degree] longitude of site 2\n",
    "\tlat2 : float, array\n",
    "\t\t[degree] latitude of site 2\n",
    "\tunit : str\n",
    "\t\tunit for output: '**km**' or '**miles**'\n",
    "\t\n",
    "\tReturns\n",
    "\t-------\n",
    "\t\n",
    "\td : float, array\n",
    "\t\tdistance\n",
    "\t\n",
    "\t\"\"\"\n",
    "\t\n",
    "\t## determine unit to reference for Earth's radius\n",
    "\tif 'k' in unit.lower():\n",
    "\t\tr = 6371 # km\n",
    "\telif 'mi' in unit.lower():\n",
    "\t\tr = 3958.8 # miles\n",
    "\t\n",
    "\t## convert long lat from degrees to radians\n",
    "\tlon1 = np.radians(lon1)\n",
    "\tlat1 = np.radians(lat1)\n",
    "\tlon2 = np.radians(lon2)\n",
    "\tlat2 = np.radians(lat2)\n",
    "\t\n",
    "\t## Haversine function for epicentral distance\n",
    "\td = 2*r*np.arcsin(np.sqrt(np.sin((lat2-lat1)/2)**2 + np.cos(lat1)*np.cos(lat2)*np.sin((lon2-lon1)/2)**2))\n",
    "\t\n",
    "\t##\n",
    "\treturn d"
   ]
  },
  {
   "cell_type": "code",
   "execution_count": null,
   "metadata": {},
   "outputs": [],
   "source": []
  }
 ],
 "metadata": {
  "kernelspec": {
   "display_name": "Python 3",
   "language": "python",
   "name": "python3"
  },
  "language_info": {
   "codemirror_mode": {
    "name": "ipython",
    "version": 3
   },
   "file_extension": ".py",
   "mimetype": "text/x-python",
   "name": "python",
   "nbconvert_exporter": "python",
   "pygments_lexer": "ipython3",
   "version": "3.7.4"
  }
 },
 "nbformat": 4,
 "nbformat_minor": 4
}
