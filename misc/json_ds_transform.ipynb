{
 "cells": [
  {
   "cell_type": "code",
   "execution_count": null,
   "metadata": {},
   "outputs": [],
   "source": [
    "from pyproj import Transformer\n",
    "import numpy as np\n",
    "import json, os"
   ]
  },
  {
   "cell_type": "code",
   "execution_count": null,
   "metadata": {},
   "outputs": [],
   "source": [
    "with open(os.getcwd()+'/elevation.json', 'r') as f:\n",
    "    jd = json.load(f)"
   ]
  },
  {
   "cell_type": "code",
   "execution_count": null,
   "metadata": {},
   "outputs": [],
   "source": [
    "feat = jd['features']"
   ]
  },
  {
   "cell_type": "code",
   "execution_count": null,
   "metadata": {},
   "outputs": [],
   "source": [
    "x = [feat[i]['geometry']['x'] for i in range(len(feat))]\n",
    "y = [feat[i]['geometry']['y'] for i in range(len(feat))]"
   ]
  },
  {
   "cell_type": "code",
   "execution_count": null,
   "metadata": {},
   "outputs": [],
   "source": [
    "ind = np.where((x>-13647370.27) & (x<-13558550.45) & (y>4478947.85) & (y<4562219.18))"
   ]
  },
  {
   "cell_type": "code",
   "execution_count": null,
   "metadata": {},
   "outputs": [],
   "source": [
    "feat1 = feat[ind[0]]"
   ]
  },
  {
   "cell_type": "code",
   "execution_count": null,
   "metadata": {},
   "outputs": [],
   "source": [
    "transformer = Transformer.from_crs(3395, 4326)"
   ]
  },
  {
   "cell_type": "code",
   "execution_count": null,
   "metadata": {},
   "outputs": [],
   "source": [
    "x1 = [feat1[i]['geometry']['x'] for i in range(len(feat1))]\n",
    "y1 = [feat1[i]['geometry']['y'] for i in range(len(feat1))]\n",
    "xy = np.asarray(np.vstack([x1,y1]))\n",
    "xy = xy.T"
   ]
  },
  {
   "cell_type": "code",
   "execution_count": null,
   "metadata": {},
   "outputs": [],
   "source": [
    "xy_transform = []\n",
    "for pt in transformer.itransform(xy): xy_transform.append([*pt])\n",
    "xy_transform = np.asarray(xy_transform)"
   ]
  },
  {
   "cell_type": "code",
   "execution_count": null,
   "metadata": {},
   "outputs": [],
   "source": [
    "jd2 = jd\n",
    "new_dict = [{'x': xy_transform[i,0],\n",
    "             'y': xy_transform[i,1],\n",
    "             'z': feat1[i]['attributes']['grid_code']} for i in range(len(feat1))]\n",
    "jd2.update({'features':new_dict})"
   ]
  },
  {
   "cell_type": "code",
   "execution_count": null,
   "metadata": {},
   "outputs": [],
   "source": [
    "jd2 = jd\n",
    "new_dict = [{'x': feat[i]['geometry']['x'],\n",
    "             'y': feat[i]['geometry']['y'],\n",
    "             'z': feat[i]['attributes']['grid_code']} for i in range(len(feat))]\n",
    "jd2.update({'features':new_dict})"
   ]
  },
  {
   "cell_type": "code",
   "execution_count": null,
   "metadata": {},
   "outputs": [],
   "source": [
    "with open(os.getcwd()+'/elevation.json', 'w') as f:\n",
    "    json.dump(jd2, f, indent=4)"
   ]
  },
  {
   "cell_type": "code",
   "execution_count": null,
   "metadata": {},
   "outputs": [],
   "source": []
  }
 ],
 "metadata": {
  "kernelspec": {
   "display_name": "Python 3",
   "language": "python",
   "name": "python3"
  },
  "language_info": {
   "codemirror_mode": {
    "name": "ipython",
    "version": 3
   },
   "file_extension": ".py",
   "mimetype": "text/x-python",
   "name": "python",
   "nbconvert_exporter": "python",
   "pygments_lexer": "ipython3",
   "version": "3.7.6"
  }
 },
 "nbformat": 4,
 "nbformat_minor": 4
}
