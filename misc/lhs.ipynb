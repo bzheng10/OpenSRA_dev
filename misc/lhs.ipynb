{
 "cells": [
  {
   "cell_type": "raw",
   "metadata": {},
   "source": [
    "##\n",
    "## Latin Hypercube Sampling\n",
    "##"
   ]
  },
  {
   "cell_type": "code",
   "execution_count": 1,
   "metadata": {},
   "outputs": [],
   "source": [
    "## Important libraries to import\n",
    "# import math;         # math functions\n",
    "# from math import pi as PI\n",
    "# import os;           # miscellaneous operating system interfaces\n",
    "import numpy as np;  # scientific computing with Python\n",
    "#import scipy;       # scientific computing and technical computing (more tools like optimization)\n",
    "import matplotlib.pyplot as plt;                        # plotting functions\n",
    "# import numpy.polynomial.hermite_e as H\n",
    "# import pandas as pd;\n",
    "# import time\n",
    "from scipy.stats import norm\n",
    "# from scipy.stats import expon\n",
    "# from scipy.stats import uniform"
   ]
  },
  {
   "cell_type": "code",
   "execution_count": 2,
   "metadata": {},
   "outputs": [],
   "source": [
    "def get_mpdf(m, mmin, mmax, b):\n",
    "    val1 = 10**(-b*(m-mmin))\n",
    "    val2 = 10**(-b*(mmax-mmin))\n",
    "    return np.asarray(b*np.log(10)*val1/(1-val2) if m > mmin and m < mmax else 0)"
   ]
  },
  {
   "cell_type": "code",
   "execution_count": 3,
   "metadata": {},
   "outputs": [],
   "source": [
    "def get_rpdf(r, rmin, rmax, rchoice, lfault):\n",
    "    if rchoice == 0: # Area source\n",
    "        return np.asarray(r/5000 if r >= rmin and r <= rmax else 0)\n",
    "    if rchoice == 1: # Line source\n",
    "        return np.asarray(r/50/np.sqrt(r**2-lfault) if r > rmin and r <= rmax else 0)"
   ]
  },
  {
   "cell_type": "code",
   "execution_count": 4,
   "metadata": {},
   "outputs": [],
   "source": [
    "def trap_int(x,t,y0):\n",
    "    yArr = [0]*len(x)\n",
    "    yArr[0] = y0\n",
    "    for i in range(1,len(x)):\n",
    "        yArr[i] = yArr[i-1] + 0.5*(x[i]+x[i-1])*(t[i]-t[i-1]) if x[i] > 0 else yArr[i-1]\n",
    "    return np.asarray(yArr)"
   ]
  },
  {
   "cell_type": "code",
   "execution_count": 5,
   "metadata": {},
   "outputs": [],
   "source": [
    "def binArea(x,y,nbin):\n",
    "    ymarks = np.linspace(0,1,nbin+1)\n",
    "    ymarks = np.delete(ymarks, [len(ymarks)-1,0])\n",
    "    imarks = [next(j for j, k in enumerate(y) if k >= i) for i in ymarks]\n",
    "    return x[imarks], ymarks, imarks"
   ]
  },
  {
   "cell_type": "code",
   "execution_count": 6,
   "metadata": {},
   "outputs": [],
   "source": [
    "def genRandComb(nBin,nVar):\n",
    "    comb = np.zeros((nBin, nVar))\n",
    "    comb[0:,0] = np.random.permutation(np.arange(nBin))\n",
    "    for i in range(1,nVar):\n",
    "        for j in range(nBin):\n",
    "            choice = np.arange(nBin)\n",
    "            usedVal = np.unique(np.append(np.transpose(comb[j,0:i]),comb[0:j,i]))\n",
    "            ind2del = [next(ii for ii, jj in enumerate(choice) if jj == kk) for kk in usedVal]\n",
    "            choice2 = np.delete(choice,ind2del)\n",
    "            comb[j,i] = np.random.permutation(choice2)[0]\n",
    "    return comb"
   ]
  },
  {
   "cell_type": "code",
   "execution_count": 7,
   "metadata": {},
   "outputs": [],
   "source": [
    "def getIM(combVal):\n",
    "    return [-0.152 + 0.859*combVal[i,0] - 1.803*np.log(combVal[i,1]+25) for i in range(len(combVal))]"
   ]
  },
  {
   "cell_type": "code",
   "execution_count": 8,
   "metadata": {},
   "outputs": [],
   "source": [
    "def getIMFull(m,r):\n",
    "    return [-0.152 + 0.859*i - 1.803*np.log(j+25) for i in m for j in r]"
   ]
  },
  {
   "cell_type": "code",
   "execution_count": 9,
   "metadata": {},
   "outputs": [],
   "source": [
    "def getStat(x):\n",
    "    return np.mean(x), np.std(x,ddof=1)"
   ]
  },
  {
   "cell_type": "code",
   "execution_count": 10,
   "metadata": {},
   "outputs": [],
   "source": [
    "mmin = 5\n",
    "mmax = 8\n",
    "b = 1\n",
    "# rmin = 0\n",
    "# rmax = 100\n",
    "lfault = 100\n",
    "lperp = 10\n",
    "rmin = lperp\n",
    "rmax = np.sqrt((lfault/2)**2+lperp**2)\n",
    "rchoice = 1"
   ]
  },
  {
   "cell_type": "code",
   "execution_count": 11,
   "metadata": {},
   "outputs": [],
   "source": [
    "### Var 1\n",
    "dm = 0.001\n",
    "npts = (mmax+0.25-(mmin-0.25))/dm+1\n",
    "m = np.linspace(mmin-0.25,mmax+0.25,npts)\n",
    "mpdf = np.asarray([get_mpdf(i,mmin,mmax,b) for i in m])\n",
    "### Var 2\n",
    "dr = 0.01\n",
    "npts = (rmax+5-0)/dr+1\n",
    "# r = np.linspace(-50,150,npts)\n",
    "r = np.linspace(0,rmax+5,npts)\n",
    "# rpdf = np.asarray([get_rpdf(i,rmin,rmax,rchoice,0) for i in r])\n",
    "rpdf = np.asarray([get_rpdf(i,rmin,rmax,rchoice,lfault) for i in r])"
   ]
  },
  {
   "cell_type": "code",
   "execution_count": 12,
   "metadata": {},
   "outputs": [
    {
     "data": {
      "image/png": "[encoded data removed]",
      "text/plain": [
       "<Figure size 432x288 with 1 Axes>"
      ]
     },
     "metadata": {
      "needs_background": "light"
     },
     "output_type": "display_data"
    }
   ],
   "source": [
    "plt.figure()\n",
    "plt.plot(m,mpdf)\n",
    "plt.plot([5,8],[np.median(mpdf),np.median(mpdf)])\n",
    "plt.show()"
   ]
  },
  {
   "cell_type": "code",
   "execution_count": 13,
   "metadata": {},
   "outputs": [],
   "source": [
    "mcdf = trap_int(mpdf,m,0)\n",
    "rcdf = trap_int(rpdf,r,0)"
   ]
  },
  {
   "cell_type": "code",
   "execution_count": 14,
   "metadata": {},
   "outputs": [],
   "source": [
    "nVar = 2\n",
    "nBinArr = [5,10,20,50,100,200]\n",
    "lnIMOut = np.zeros((len(nBinArr)))\n",
    "stdOut = np.zeros((len(nBinArr)))\n",
    "for i in range(len(nBinArr)):\n",
    "    mcdfBin = [0]\n",
    "    imBin = [0]\n",
    "    mpdfBin = [0]\n",
    "    rBin = [0]\n",
    "    rcdfBin = [0]\n",
    "    irBin = [0]\n",
    "    rpdfBin = [0]\n",
    "    comb = [0]\n",
    "    combVal = [0]\n",
    "    x1 = [0]\n",
    "    x2 = [0]\n",
    "    combPGA = [0]\n",
    "    ##\n",
    "    nBin = nBinArr[i]\n",
    "    ##\n",
    "    mBin, mcdfBin, imBin = binArea(m,mcdf,nBin)\n",
    "    mpdfBin = mpdf[imBin]\n",
    "    rBin, rcdfBin, irBin = binArea(r,rcdf,nBin)\n",
    "    rpdfBin = rpdf[irBin]\n",
    "    ##\n",
    "    comb = genRandComb(nBin,nVar)\n",
    "    combVal = np.zeros((nBin,nVar))\n",
    "    x1 = np.append(np.ones(1)*mmin,np.append(mBin,np.ones(1)*mmax))\n",
    "    x2 = np.append(np.ones(1)*rmin,np.append(rBin,np.ones(1)*rmax))\n",
    "    for j in range(nBin):\n",
    "        combVal[j,0] = (x1[int(comb[j,0])] + x1[int(comb[j,0])+1])/2\n",
    "        combVal[j,1] = (x2[int(comb[j,1])] + x2[int(comb[j,1])+1])/2\n",
    "    ##\n",
    "    combPGA = getIM(combVal)\n",
    "    lnIMOut[i], stdOut[i] = getStat(combPGA)"
   ]
  },
  {
   "cell_type": "code",
   "execution_count": 15,
   "metadata": {},
   "outputs": [],
   "source": [
    "### Var 1\n",
    "dm = 0.05\n",
    "npts = (mmax-mmin)/dm+1\n",
    "mFull = np.linspace(mmin,mmax,npts)\n",
    "### Var 2\n",
    "dr = 0.1\n",
    "npts = (rmax-rmin)/dr+1\n",
    "rFull = np.linspace(rmin,rmax,npts)\n",
    "##\n",
    "##missing get probabilities\n",
    "\n",
    "###\n",
    "lnIM_Full = getIMFull(mFull,rFull)\n",
    "medFull,stdFull = getStat(lnIM_Full)"
   ]
  },
  {
   "cell_type": "code",
   "execution_count": 16,
   "metadata": {},
   "outputs": [
    {
     "data": {
      "image/png": "[encoded data removed]",
      "text/plain": [
       "<Figure size 1080x360 with 2 Axes>"
      ]
     },
     "metadata": {
      "needs_background": "light"
     },
     "output_type": "display_data"
    }
   ],
   "source": [
    "figl = 30;\n",
    "figh = 5;\n",
    "\n",
    "# Create figure handle\n",
    "fig1, ax1 = plt.subplots(1,1,figsize=(figl/2,figh))\n",
    "plt.subplot(1,2,1)\n",
    "plt.plot(nBinArr,np.exp(lnIMOut),'--ok')\n",
    "plt.plot([0,200],[np.exp(medFull),np.exp(medFull)],'--b')\n",
    "plt.xlabel('Number of Bins')\n",
    "plt.ylabel('Median PGA (g)')\n",
    "\n",
    "plt.subplot(1,2,2)\n",
    "plt.plot(nBinArr,stdOut,'--ok')\n",
    "plt.plot([0,200],[stdFull,stdFull],'--b')\n",
    "plt.plot([0,200],[0.57,0.57],'--r')\n",
    "plt.xlabel('Number of Bins')\n",
    "plt.ylabel('Standard deviation of lnPGA')\n",
    "plt.legend(['Latin Hypercube Sampling','Integral','True StDev'])\n",
    "\n",
    "plt.show()"
   ]
  },
  {
   "cell_type": "code",
   "execution_count": 17,
   "metadata": {},
   "outputs": [],
   "source": [
    "dIM = 0.01\n",
    "IMmin = 0.01\n",
    "IMmax = 3\n",
    "npts = (IMmax-IMmin)/dIM+1\n",
    "IM = np.linspace(IMmin,IMmax,npts)\n",
    "P_IM = np.asarray([1-norm.cdf(np.log(IM), loc=lnIMOut[i], scale=stdOut[i]) for i in range(len(lnIMOut))])\n",
    "rate = 0.01\n",
    "rate_IM = P_IM*rate"
   ]
  },
  {
   "cell_type": "code",
   "execution_count": 18,
   "metadata": {},
   "outputs": [
    {
     "data": {
      "text/plain": [
       "<matplotlib.legend.Legend at 0x178e7cd20c8>"
      ]
     },
     "execution_count": 18,
     "metadata": {},
     "output_type": "execute_result"
    },
    {
     "data": {
      "image/png": "[encoded data removed]",
      "text/plain": [
       "<Figure size 576x504 with 1 Axes>"
      ]
     },
     "metadata": {
      "needs_background": "light"
     },
     "output_type": "display_data"
    }
   ],
   "source": [
    "figl = 16\n",
    "figh = 7\n",
    "\n",
    "# Create figure handle\n",
    "fig1, ax1 = plt.subplots(1,1,figsize=(figl/2,figh))\n",
    "lw0 = 1\n",
    "for i in range(len(rate_IM)):\n",
    "    clr = 0.7-0.12*(i+1)\n",
    "    if i < len(rate_IM)-1:\n",
    "        plt.loglog(IM,rate_IM[i,:],'-',color=[clr,clr,clr],linewidth=lw0+0.75*i)\n",
    "    else:\n",
    "        plt.loglog(IM,rate_IM[i,:],'-r',linewidth=lw0+0.5*i)\n",
    "plt.xlabel('PGA (g)')\n",
    "plt.ylabel('Rate(PGA > x | m, r)')\n",
    "plt.xlim((0.01,3))\n",
    "plt.legend(nBinArr)"
   ]
  },
  {
   "cell_type": "code",
   "execution_count": 281,
   "metadata": {},
   "outputs": [],
   "source": []
  },
  {
   "cell_type": "code",
   "execution_count": 280,
   "metadata": {},
   "outputs": [
    {
     "data": {
      "text/plain": [
       "2542"
      ]
     },
     "execution_count": 280,
     "metadata": {},
     "output_type": "execute_result"
    }
   ],
   "source": [
    "len(lnIM_Full)"
   ]
  },
  {
   "cell_type": "code",
   "execution_count": 265,
   "metadata": {},
   "outputs": [
    {
     "data": {
      "text/plain": [
       "(200, 2)"
      ]
     },
     "execution_count": 265,
     "metadata": {},
     "output_type": "execute_result"
    }
   ],
   "source": [
    "combVal.shape"
   ]
  },
  {
   "cell_type": "code",
   "execution_count": 232,
   "metadata": {},
   "outputs": [],
   "source": []
  },
  {
   "cell_type": "code",
   "execution_count": 232,
   "metadata": {},
   "outputs": [
    {
     "data": {
      "text/plain": [
       "list"
      ]
     },
     "execution_count": 232,
     "metadata": {},
     "output_type": "execute_result"
    }
   ],
   "source": [
    "type(P_IM)"
   ]
  },
  {
   "cell_type": "raw",
   "metadata": {},
   "source": [
    "figl = 30;\n",
    "figh = 5;\n",
    "\n",
    "# Create figure handle\n",
    "fig1, ax1 = plt.subplots(1,1,figsize=(figl/2,figh))\n",
    "plt.subplot(1,2,1)\n",
    "plt.plot(m,mpdf,'-k')\n",
    "for i in range(len(mBin)):\n",
    "    plt.plot([mBin[i],mBin[i]],[0,mpdfBin[i]],'--or')\n",
    "plt.xlabel('Magnitude')\n",
    "plt.ylabel('PDF')\n",
    "plt.xlim(4.75,8.25)\n",
    "\n",
    "plt.subplot(1,2,2)\n",
    "plt.plot(r,rpdf,'-k')\n",
    "for i in range(len(rBin)):\n",
    "    plt.plot([rBin[i],rBin[i]],[0,rpdfBin[i]],'--or')\n",
    "plt.xlabel('Distance (km)')\n",
    "plt.ylabel('PDF')\n",
    "plt.xlim(0,rmax+5)\n",
    "plt.show()"
   ]
  },
  {
   "cell_type": "raw",
   "metadata": {},
   "source": [
    "# Create figure handle\n",
    "fig2, ax2 = plt.subplots(1,1,figsize=(figl/2,figh))\n",
    "plt.subplot(1,2,1)\n",
    "plt.plot(m,mcdf,'-k')\n",
    "for i in range(len(mBin)):\n",
    "    plt.plot([mBin[i],mBin[i]],[0,mcdfBin[i]],'--or')\n",
    "plt.xlabel('Magnitude')\n",
    "plt.ylabel('CDF')\n",
    "plt.xlim(4.75,8.25)\n",
    "plt.ylim(0,1.05)\n",
    "\n",
    "plt.subplot(1,2,2)\n",
    "plt.plot(r,rcdf,'-k')\n",
    "for i in range(len(rBin)):\n",
    "    plt.plot([rBin[i],rBin[i]],[0,rcdfBin[i]],'--or')\n",
    "plt.xlabel('Distance (km)')\n",
    "plt.ylabel('CDF')\n",
    "plt.xlim(0,rmax+5)\n",
    "plt.ylim(0,1.05)\n",
    "plt.show()"
   ]
  },
  {
   "cell_type": "raw",
   "metadata": {},
   "source": [
    "figl = 16\n",
    "figh = 8\n",
    "offset = 10\n",
    "# Create figure handle\n",
    "fig3, ax3 = plt.subplots(1,1,figsize=(figl/2,figh))\n",
    "for i in range(len(x1)):\n",
    "    plt.plot([x1[i],x1[i]],[min(x2)-offset,max(x2)+offset],'--',color=[0.6,0.6,0.6])\n",
    "for i in range(len(x2)):\n",
    "    plt.plot([min(x1)-offset,max(x1)+offset],[x2[i],x2[i]],'--',color=[0.6,0.6,0.6])\n",
    "plt.plot(combVal[:,0],combVal[:,1],'xr',markersize=8)\n",
    "plt.xlabel('Magnitude')\n",
    "plt.ylabel('Distance (km)')\n",
    "plt.xlim(mmin,mmax)\n",
    "plt.ylim(rmin,rmax)"
   ]
  },
  {
   "cell_type": "code",
   "execution_count": null,
   "metadata": {},
   "outputs": [],
   "source": []
  }
 ],
 "metadata": {
  "kernelspec": {
   "display_name": "Python 3",
   "language": "python",
   "name": "python3"
  },
  "language_info": {
   "codemirror_mode": {
    "name": "ipython",
    "version": 3
   },
   "file_extension": ".py",
   "mimetype": "text/x-python",
   "name": "python",
   "nbconvert_exporter": "python",
   "pygments_lexer": "ipython3",
   "version": "3.7.3"
  }
 },
 "nbformat": 4,
 "nbformat_minor": 4
}
