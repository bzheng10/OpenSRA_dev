{
 "cells": [
  {
   "cell_type": "code",
   "execution_count": 1,
   "metadata": {},
   "outputs": [],
   "source": [
    "## required packages\n",
    "import numpy as np\n",
    "# import matplotlib.pyplot as plt\n",
    "# import os, time\n",
    "import importlib\n",
    "import im.fcn_im as fcn_im\n",
    "import pandas as pd\n",
    "# from numpy.random import standard_normal\n",
    "# from scipy.linalg import cholesky\n",
    "import model, fcn_gen, os, time\n",
    "from scipy import sparse\n",
    "# import OpenSHAInterface as sha"
   ]
  },
  {
   "cell_type": "code",
   "execution_count": 2,
   "metadata": {},
   "outputs": [
    {
     "data": {
      "text/plain": [
       "1977"
      ]
     },
     "execution_count": 2,
     "metadata": {},
     "output_type": "execute_result"
    }
   ],
   "source": [
    "# base inputs\n",
    "site_loc_file = r'C:\\Users\\barry\\Desktop\\OpenSHAInterface\\CA_pipe_midpt_allsites.txt'\n",
    "rate_min = 1/10000\n",
    "im_tool = 'sha'\n",
    "\n",
    "im_dir = r'C:\\Users\\barry\\Desktop\\OpenSHAInterface\\im_output_10000yr_allsites'\n",
    "dm_dir = r'C:\\Users\\barry\\Desktop\\OpenSHAInterface\\rr_out'\n",
    "rup_meta_file = r'C:\\Users\\barry\\Desktop\\OpenSHAInterface\\rup_meta_10000yr_allsites.hdf5'\n",
    "# sha_meta_file = r'C:\\Users\\barry\\Desktop\\OpenSHAInterface\\sha_meta_10000yr.txt'\n",
    "groups2run = np.loadtxt(r'C:\\Users\\barry\\Desktop\\OpenSHAInterface\\groups2run_allsites.txt',dtype=str)\n",
    "group_num = 0\n",
    "num_rups = 2\n",
    "im_list = ['pgv']\n",
    "\n",
    "## define number of realizations and generate samples\n",
    "nsamp=10\n",
    "flag_corr_d = False\n",
    "flag_corr_T = False\n",
    "# geo_cond = 2 #  for spatial correlation\n",
    "\n",
    "len(groups2run)"
   ]
  },
  {
   "cell_type": "code",
   "execution_count": 3,
   "metadata": {},
   "outputs": [],
   "source": [
    "## reload model.py if it has been modified\n",
    "importlib.reload(model)\n",
    "## create class object\n",
    "A = model.assessment()"
   ]
  },
  {
   "cell_type": "code",
   "execution_count": 4,
   "metadata": {},
   "outputs": [],
   "source": [
    "count = 0\n",
    "inc1 = 5\n",
    "inc2 = 100\n",
    "# out = {}\n",
    "time_start = time.time()"
   ]
  },
  {
   "cell_type": "code",
   "execution_count": 8,
   "metadata": {},
   "outputs": [
    {
     "name": "stdout",
     "output_type": "stream",
     "text": [
      "1a\n"
     ]
    },
    {
     "ename": "TypeError",
     "evalue": "'NoneType' object is not subscriptable",
     "output_type": "error",
     "traceback": [
      "\u001b[1;31m---------------------------------------------------------------------------\u001b[0m",
      "\u001b[1;31mTypeError\u001b[0m                                 Traceback (most recent call last)",
      "\u001b[1;32m<ipython-input-8-59930b2b09bb>\u001b[0m in \u001b[0;36m<module>\u001b[1;34m\u001b[0m\n\u001b[0;32m     48\u001b[0m     \u001b[0mdm_method\u001b[0m\u001b[1;33m.\u001b[0m\u001b[0mappend\u001b[0m\u001b[1;33m(\u001b[0m\u001b[0mmethod\u001b[0m\u001b[1;33m[\u001b[0m\u001b[1;36m0\u001b[0m\u001b[1;33m:\u001b[0m\u001b[0mmethod\u001b[0m\u001b[1;33m.\u001b[0m\u001b[0mfind\u001b[0m\u001b[1;33m(\u001b[0m\u001b[1;34m'_'\u001b[0m\u001b[1;33m)\u001b[0m\u001b[1;33m]\u001b[0m\u001b[1;33m)\u001b[0m\u001b[1;33m\u001b[0m\u001b[1;33m\u001b[0m\u001b[0m\n\u001b[0;32m     49\u001b[0m     A.get_DM(category, method, return_param, im_list, flag_clear_dict=False,\n\u001b[1;32m---> 50\u001b[1;33m              flag_pga=flag_pga, flag_pgv=flag_pgv, nsamp=nsamp)\n\u001b[0m\u001b[0;32m     51\u001b[0m \u001b[1;31m#     print(A._DM_dict['rr_pgv']['method2']['output'][0][0:5])\u001b[0m\u001b[1;33m\u001b[0m\u001b[1;33m\u001b[0m\u001b[1;33m\u001b[0m\u001b[0m\n\u001b[0;32m     52\u001b[0m \u001b[1;33m\u001b[0m\u001b[0m\n",
      "\u001b[1;32m~\\OneDrive - SlateGeotech\\Fragility\\OpenSRA\\src\\model.py\u001b[0m in \u001b[0;36mget_DM\u001b[1;34m(self, category, method, return_param, store_name, im_list, flag_clear_dict, flag_pga, flag_pgv, flag_M, source_dict, source_param, source_method, **kwargs)\u001b[0m\n\u001b[0;32m    911\u001b[0m                                 \u001b[1;31m########################################\u001b[0m\u001b[1;33m\u001b[0m\u001b[1;33m\u001b[0m\u001b[1;33m\u001b[0m\u001b[0m\n\u001b[0;32m    912\u001b[0m \u001b[1;33m\u001b[0m\u001b[0m\n\u001b[1;32m--> 913\u001b[1;33m                                 \u001b[0mresult_curr\u001b[0m \u001b[1;33m=\u001b[0m \u001b[0mnp\u001b[0m\u001b[1;33m.\u001b[0m\u001b[0masarray\u001b[0m\u001b[1;33m(\u001b[0m\u001b[1;33m[\u001b[0m\u001b[0mnp\u001b[0m\u001b[1;33m.\u001b[0m\u001b[0msum\u001b[0m\u001b[1;33m(\u001b[0m\u001b[0moutput\u001b[0m\u001b[1;33m[\u001b[0m\u001b[0mi\u001b[0m\u001b[1;33m]\u001b[0m\u001b[1;33m[\u001b[0m\u001b[0mj\u001b[0m\u001b[1;33m]\u001b[0m\u001b[1;33m.\u001b[0m\u001b[0mmultiply\u001b[0m\u001b[1;33m(\u001b[0m\u001b[0mrate\u001b[0m\u001b[1;33m)\u001b[0m\u001b[1;33m.\u001b[0m\u001b[0mtoarray\u001b[0m\u001b[1;33m(\u001b[0m\u001b[1;33m)\u001b[0m\u001b[1;33m,\u001b[0m\u001b[0maxis\u001b[0m\u001b[1;33m=\u001b[0m\u001b[1;36m0\u001b[0m\u001b[1;33m)\u001b[0m \u001b[1;32mfor\u001b[0m \u001b[0mj\u001b[0m \u001b[1;32min\u001b[0m \u001b[0mrange\u001b[0m\u001b[1;33m(\u001b[0m\u001b[0mnsamp\u001b[0m\u001b[1;33m)\u001b[0m\u001b[1;33m]\u001b[0m\u001b[1;33m)\u001b[0m\u001b[1;33m\u001b[0m\u001b[1;33m\u001b[0m\u001b[0m\n\u001b[0m\u001b[0;32m    914\u001b[0m \u001b[1;33m\u001b[0m\u001b[0m\n\u001b[0;32m    915\u001b[0m                                 \u001b[1;32mtry\u001b[0m\u001b[1;33m:\u001b[0m\u001b[1;33m\u001b[0m\u001b[1;33m\u001b[0m\u001b[0m\n",
      "\u001b[1;32m~\\OneDrive - SlateGeotech\\Fragility\\OpenSRA\\src\\model.py\u001b[0m in \u001b[0;36m<listcomp>\u001b[1;34m(.0)\u001b[0m\n\u001b[0;32m    911\u001b[0m                                 \u001b[1;31m########################################\u001b[0m\u001b[1;33m\u001b[0m\u001b[1;33m\u001b[0m\u001b[1;33m\u001b[0m\u001b[0m\n\u001b[0;32m    912\u001b[0m \u001b[1;33m\u001b[0m\u001b[0m\n\u001b[1;32m--> 913\u001b[1;33m                                 \u001b[0mresult_curr\u001b[0m \u001b[1;33m=\u001b[0m \u001b[0mnp\u001b[0m\u001b[1;33m.\u001b[0m\u001b[0masarray\u001b[0m\u001b[1;33m(\u001b[0m\u001b[1;33m[\u001b[0m\u001b[0mnp\u001b[0m\u001b[1;33m.\u001b[0m\u001b[0msum\u001b[0m\u001b[1;33m(\u001b[0m\u001b[0moutput\u001b[0m\u001b[1;33m[\u001b[0m\u001b[0mi\u001b[0m\u001b[1;33m]\u001b[0m\u001b[1;33m[\u001b[0m\u001b[0mj\u001b[0m\u001b[1;33m]\u001b[0m\u001b[1;33m.\u001b[0m\u001b[0mmultiply\u001b[0m\u001b[1;33m(\u001b[0m\u001b[0mrate\u001b[0m\u001b[1;33m)\u001b[0m\u001b[1;33m.\u001b[0m\u001b[0mtoarray\u001b[0m\u001b[1;33m(\u001b[0m\u001b[1;33m)\u001b[0m\u001b[1;33m,\u001b[0m\u001b[0maxis\u001b[0m\u001b[1;33m=\u001b[0m\u001b[1;36m0\u001b[0m\u001b[1;33m)\u001b[0m \u001b[1;32mfor\u001b[0m \u001b[0mj\u001b[0m \u001b[1;32min\u001b[0m \u001b[0mrange\u001b[0m\u001b[1;33m(\u001b[0m\u001b[0mnsamp\u001b[0m\u001b[1;33m)\u001b[0m\u001b[1;33m]\u001b[0m\u001b[1;33m)\u001b[0m\u001b[1;33m\u001b[0m\u001b[1;33m\u001b[0m\u001b[0m\n\u001b[0m\u001b[0;32m    914\u001b[0m \u001b[1;33m\u001b[0m\u001b[0m\n\u001b[0;32m    915\u001b[0m                                 \u001b[1;32mtry\u001b[0m\u001b[1;33m:\u001b[0m\u001b[1;33m\u001b[0m\u001b[1;33m\u001b[0m\u001b[0m\n",
      "\u001b[1;31mTypeError\u001b[0m: 'NoneType' object is not subscriptable"
     ]
    }
   ],
   "source": [
    "## for generating samples\n",
    "multi = 13\n",
    "range_start = 0+100*multi\n",
    "range_end = range_start+1\n",
    "# range_end = range_start+1\n",
    "flag_sample_exist = True\n",
    "for im_group in groups2run[range_start:range_end]:\n",
    "    #####################################################################\n",
    "    count += 1\n",
    "    path_sample = im_dir+'/'+im_group+'/'\n",
    "    \n",
    "    #####################################################################\n",
    "    ## load GM predictions and create random variable\n",
    "    A.create_RV(im_tool, site_loc_file, im_dir, im_list, rup_meta_file, flag_clear_dict=True, \n",
    "                flag_sample_exist=flag_sample_exist, im_group=im_group, num_rups=num_rups)\n",
    "\n",
    "    #####################################################################\n",
    "    ## generate/import samples\n",
    "    A.get_IM(nsamp, im_list, flag_corr_d, flag_corr_T, flag_clear_dict=True, \n",
    "            flag_sample_exist=flag_sample_exist,path_sample=path_sample)\n",
    "\n",
    "    if flag_sample_exist is False:\n",
    "        for i in range(nsamp):\n",
    "            out1 = sparse.csc_matrix(np.round(A._IM_dict['pgv'][i].log1p(),decimals=3))\n",
    "            out2 = sparse.csc_matrix(np.round(A._IM_dict['pga'][i].log1p(),decimals=3))\n",
    "            sparse.save_npz(im_dir+'/'+im_group+'/'+'pgv_samp_'+str(i)+'.npz',out1)\n",
    "            sparse.save_npz(im_dir+'/'+im_group+'/'+'pga_samp_'+str(i)+'.npz',out2)\n",
    "\n",
    "    #####################################################################\n",
    "    dm_method = []\n",
    "    ## get rr from HAZUS (FEMA, 2014)\n",
    "    category = 'rr'\n",
    "    method = 'hazus_2014_rr'\n",
    "    return_param = ['rr_pgv']\n",
    "    flag_pgv = True\n",
    "    flag_pga = False\n",
    "    dm_method.append(method[0:method.find('_')])\n",
    "    A.get_DM(category, method, return_param, im_list, flag_clear_dict=False,\n",
    "             flag_pga=flag_pga, flag_pgv=flag_pgv, nsamp=nsamp)\n",
    "#     print(A._DM_dict['rr_pgv']['method1']['output'][0][0:5])\n",
    "    \n",
    "    ## get rr from ALA (2001)\n",
    "    category = 'rr'\n",
    "    method = 'orourke_2020_rr'\n",
    "    return_param = ['rr_pgv']\n",
    "    flag_pgv = True\n",
    "    flag_pga = False\n",
    "    dm_method.append(method[0:method.find('_')])\n",
    "    A.get_DM(category, method, return_param, im_list, flag_clear_dict=False,\n",
    "             flag_pga=flag_pga, flag_pgv=flag_pgv, nsamp=nsamp)\n",
    "#     print(A._DM_dict['rr_pgv']['method2']['output'][0][0:5])\n",
    "\n",
    "    #####################################################################\n",
    "#     if count % inc1 == 0:\n",
    "    print('folder '+str(count)+': '+im_group+'--- %10.6f seconds ---' % (time.time() - time_start))\n",
    "    time_start = time.time()\n",
    "\n",
    "    #####################################################################\n",
    "    if count % inc2 == 0 or count == len(groups2run)-1:\n",
    "        print('saved files: '+str(range_start)+'_'+str(range_end))\n",
    "        for i in range(len(return_param)):\n",
    "            count_dm = 0\n",
    "            for j in A._DM_dict[return_param[i]]:\n",
    "                save_name = dm_dir+'/'+return_param[i]+'_'+dm_method[count_dm]+'_'+str(range_start)+'_'+str(range_end)+'.txt'\n",
    "#                 print(save_name)\n",
    "                np.savetxt(save_name,np.transpose(A._DM_dict[return_param[i]][j]['output']),fmt='%6.4E')\n",
    "                count_dm += 1"
   ]
  },
  {
   "cell_type": "code",
   "execution_count": 29,
   "metadata": {},
   "outputs": [
    {
     "data": {
      "text/plain": [
       "['hazus', 'ala']"
      ]
     },
     "execution_count": 29,
     "metadata": {},
     "output_type": "execute_result"
    }
   ],
   "source": [
    "dm_method"
   ]
  },
  {
   "cell_type": "code",
   "execution_count": null,
   "metadata": {},
   "outputs": [],
   "source": []
  }
 ],
 "metadata": {
  "kernelspec": {
   "display_name": "Python 3",
   "language": "python",
   "name": "python3"
  },
  "language_info": {
   "codemirror_mode": {
    "name": "ipython",
    "version": 3
   },
   "file_extension": ".py",
   "mimetype": "text/x-python",
   "name": "python",
   "nbconvert_exporter": "python",
   "pygments_lexer": "ipython3",
   "version": "3.7.4"
  }
 },
 "nbformat": 4,
 "nbformat_minor": 4
}
