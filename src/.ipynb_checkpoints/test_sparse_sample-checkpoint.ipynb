{
 "cells": [
  {
   "cell_type": "code",
   "execution_count": 1,
   "metadata": {},
   "outputs": [],
   "source": [
    "## required packages\n",
    "import numpy as np\n",
    "import im.fcn_im as fcn_im\n",
    "import pandas as pd\n",
    "import model, fcn_gen, os, importlib, time\n",
    "from scipy import sparse"
   ]
  },
  {
   "cell_type": "code",
   "execution_count": 2,
   "metadata": {},
   "outputs": [
    {
     "data": {
      "text/plain": [
       "1977"
      ]
     },
     "execution_count": 2,
     "metadata": {},
     "output_type": "execute_result"
    }
   ],
   "source": [
    "# base inputs\n",
    "site_loc_file = r'C:\\Users\\barry\\Desktop\\OpenSHAInterface\\CA_pipe_midpt_allsites.txt'\n",
    "rate_min = 1/10000\n",
    "im_tool = 'sha'\n",
    "\n",
    "im_dir = r'C:\\Users\\barry\\Desktop\\OpenSHAInterface\\im_output_10000yr_allsites'\n",
    "dm_dir = r'C:\\Users\\barry\\Desktop\\OpenSHAInterface\\rr_out'\n",
    "rup_meta_file = r'C:\\Users\\barry\\Desktop\\OpenSHAInterface\\rup_meta_10000yr_allsites.hdf5'\n",
    "# sha_meta_file = r'C:\\Users\\barry\\Desktop\\OpenSHAInterface\\sha_meta_10000yr.txt'\n",
    "groups2run = np.loadtxt(r'C:\\Users\\barry\\Desktop\\OpenSHAInterface\\groups2run_allsites.txt',dtype=str)\n",
    "group_num = 0\n",
    "num_rups = 2\n",
    "im_list = ['pga','pgv']\n",
    "\n",
    "##\n",
    "# missing_folders = np.loadtxt(r'C:\\Users\\barry\\Desktop\\OpenSHAInterface\\missing_samples.txt',dtype=str)\n",
    "\n",
    "## define number of realizations and generate samples\n",
    "nsamp=10\n",
    "flag_corr_d = False\n",
    "flag_corr_T = False\n",
    "# geo_cond = 2 #  for spatial correlation\n",
    "\n",
    "len(groups2run)"
   ]
  },
  {
   "cell_type": "code",
   "execution_count": 3,
   "metadata": {},
   "outputs": [],
   "source": [
    "## reload model.py if it has been modified\n",
    "importlib.reload(model)\n",
    "## create class object\n",
    "A = model.assessment()"
   ]
  },
  {
   "cell_type": "code",
   "execution_count": 4,
   "metadata": {},
   "outputs": [],
   "source": [
    "count = 0\n",
    "inc1 = 5\n",
    "inc2 = 100\n",
    "# out = {}"
   ]
  },
  {
   "cell_type": "code",
   "execution_count": 5,
   "metadata": {},
   "outputs": [
    {
     "name": "stdout",
     "output_type": "stream",
     "text": [
      "folder 5: 47600_47699--- 264.288174 seconds ---\n",
      "folder 10: 4800_4899--- 227.579701 seconds ---\n",
      "folder 15: 48500_48599--- 152.641264 seconds ---\n",
      "folder 20: 49000_49099--- 293.070718 seconds ---\n",
      "folder 25: 49400_49499--- 325.686949 seconds ---\n",
      "folder 30: 49900_49999--- 224.553761 seconds ---\n",
      "folder 35: 50200_50299--- 226.930267 seconds ---\n",
      "folder 40: 50700_50799--- 145.420849 seconds ---\n",
      "folder 45: 51100_51199--- 276.452108 seconds ---\n",
      "folder 50: 51600_51699--- 300.531877 seconds ---\n",
      "folder 55: 5200_5299--- 257.629757 seconds ---\n",
      "folder 60: 52500_52599--- 160.501616 seconds ---\n",
      "folder 65: 53000_53099--- 186.295122 seconds ---\n",
      "folder 70: 53400_53499--- 311.579472 seconds ---\n",
      "folder 75: 53900_53999--- 283.425978 seconds ---\n",
      "folder 80: 54300_54399--- 212.516709 seconds ---\n",
      "folder 85: 54800_54899--- 131.372805 seconds ---\n",
      "folder 90: 55200_55299--- 168.784134 seconds ---\n",
      "folder 95: 55700_55799--- 277.174468 seconds ---\n",
      "folder 100: 56100_56199--- 306.631346 seconds ---\n"
     ]
    }
   ],
   "source": [
    "## Lateral spreading\n",
    "time_start = time.time()\n",
    "\n",
    "multi = 14\n",
    "range_start = 0+100*multi\n",
    "range_end = range_start+100\n",
    "flag_sample_exist = False\n",
    "\n",
    "##\n",
    "for im_group in groups2run[range_start:range_end]:\n",
    "    #####################################################################\n",
    "    count += 1\n",
    "    path_sample = im_dir+'/'+im_group+'/'\n",
    "\n",
    "    #####################################################################\n",
    "    ## load GM predictions and create random variable\n",
    "    A.create_RV(im_tool, site_loc_file, im_dir, im_list, rup_meta_file, flag_clear_dict=True, \n",
    "                flag_sample_exist=flag_sample_exist, im_group=im_group, num_rups=num_rups)\n",
    "\n",
    "    #####################################################################\n",
    "    ## generate/import samples\n",
    "    A.get_IM(nsamp, im_list, flag_corr_d, flag_corr_T, flag_clear_dict=True, \n",
    "            flag_sample_exist=flag_sample_exist,path_sample=path_sample)\n",
    "\n",
    "    if flag_sample_exist is False:\n",
    "        for i in range(nsamp):\n",
    "            out1 = sparse.csc_matrix(np.round(A._IM_dict['pgv'][i].log1p(),decimals=3))\n",
    "            out2 = sparse.csc_matrix(np.round(A._IM_dict['pga'][i].log1p(),decimals=3))\n",
    "            sparse.save_npz(im_dir+'/'+im_group+'/'+'pgv_samp_'+str(i)+'.npz',out1)\n",
    "            sparse.save_npz(im_dir+'/'+im_group+'/'+'pga_samp_'+str(i)+'.npz',out2)\n",
    "\n",
    "    #####################################################################\n",
    "#     if count % inc1 == 0:\n",
    "    print('folder '+str(count)+': '+im_group+'--- %10.6f seconds ---' % (time.time() - time_start))\n",
    "    time_start = time.time()"
   ]
  },
  {
   "cell_type": "code",
   "execution_count": 22,
   "metadata": {},
   "outputs": [
    {
     "data": {
      "text/plain": [
       "'38200_38299'"
      ]
     },
     "execution_count": 22,
     "metadata": {},
     "output_type": "execute_result"
    }
   ],
   "source": [
    "groups2run[1300]"
   ]
  },
  {
   "cell_type": "code",
   "execution_count": 23,
   "metadata": {},
   "outputs": [
    {
     "data": {
      "text/plain": [
       "'38300_38399'"
      ]
     },
     "execution_count": 23,
     "metadata": {},
     "output_type": "execute_result"
    }
   ],
   "source": [
    "groups2run[1301]"
   ]
  },
  {
   "cell_type": "code",
   "execution_count": 17,
   "metadata": {},
   "outputs": [],
   "source": []
  },
  {
   "cell_type": "code",
   "execution_count": 17,
   "metadata": {},
   "outputs": [],
   "source": []
  },
  {
   "cell_type": "code",
   "execution_count": 4,
   "metadata": {},
   "outputs": [
    {
     "data": {
      "text/plain": [
       "766"
      ]
     },
     "execution_count": 4,
     "metadata": {},
     "output_type": "execute_result"
    }
   ],
   "source": []
  },
  {
   "cell_type": "code",
   "execution_count": 17,
   "metadata": {},
   "outputs": [],
   "source": []
  },
  {
   "cell_type": "code",
   "execution_count": 17,
   "metadata": {},
   "outputs": [],
   "source": []
  },
  {
   "cell_type": "code",
   "execution_count": 17,
   "metadata": {},
   "outputs": [],
   "source": []
  },
  {
   "cell_type": "code",
   "execution_count": 17,
   "metadata": {},
   "outputs": [
    {
     "data": {
      "text/plain": [
       "[[0, 0],\n",
       " [1, 0],\n",
       " [2, 0],\n",
       " [3, 0],\n",
       " [4, 0],\n",
       " [5, 0],\n",
       " [6, 0],\n",
       " [7, 0],\n",
       " [8, 0],\n",
       " [9, 0],\n",
       " [10, 0],\n",
       " [11, 0],\n",
       " [12, 0],\n",
       " [13, 100],\n",
       " [14, 100],\n",
       " [15, 100],\n",
       " [16, 100],\n",
       " [17, 100],\n",
       " [18, 0],\n",
       " [19, 0]]"
      ]
     },
     "execution_count": 17,
     "metadata": {},
     "output_type": "execute_result"
    }
   ],
   "source": [
    "multi2run"
   ]
  },
  {
   "cell_type": "code",
   "execution_count": null,
   "metadata": {},
   "outputs": [],
   "source": []
  },
  {
   "cell_type": "code",
   "execution_count": null,
   "metadata": {},
   "outputs": [],
   "source": []
  }
 ],
 "metadata": {
  "kernelspec": {
   "display_name": "Python 3",
   "language": "python",
   "name": "python3"
  },
  "language_info": {
   "codemirror_mode": {
    "name": "ipython",
    "version": 3
   },
   "file_extension": ".py",
   "mimetype": "text/x-python",
   "name": "python",
   "nbconvert_exporter": "python",
   "pygments_lexer": "ipython3",
   "version": "3.7.4"
  }
 },
 "nbformat": 4,
 "nbformat_minor": 4
}
