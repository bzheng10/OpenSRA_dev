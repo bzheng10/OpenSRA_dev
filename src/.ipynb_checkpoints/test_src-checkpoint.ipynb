{
 "cells": [
  {
   "cell_type": "code",
   "execution_count": 1,
   "metadata": {},
   "outputs": [],
   "source": [
    "import numpy as np\n",
    "import os"
   ]
  },
  {
   "cell_type": "code",
   "execution_count": 2,
   "metadata": {},
   "outputs": [],
   "source": [
    "import edp.land as land\n",
    "import edp.fcn_liq_land as fcn_liq_land\n",
    "import fcn_gen\n",
    "import edp.liq as liq\n",
    "import edp.corr_cpt as corr_cpt"
   ]
  },
  {
   "cell_type": "code",
   "execution_count": 3,
   "metadata": {},
   "outputs": [],
   "source": [
    "##### check jibson\n",
    "beta = [55, 40, 35, 25, 5]\n",
    "M = 7.2\n",
    "pga = 0.8\n",
    "Ia = 0.5\n",
    "H = 10\n",
    "c = [20, 20, 33, 33, 33]\n",
    "phi = [20, 20, 33, 33, 33]\n",
    "gamma = [30, 30, 15, 15, 15]\n",
    "cr = 0\n",
    "t = H\n",
    "m = 0\n",
    "slope_type = ['rock', 'rock', 'infinite', 'rotational','ls']\n",
    "method = 'grant'\n",
    "y = 30"
   ]
  },
  {
   "cell_type": "code",
   "execution_count": 4,
   "metadata": {},
   "outputs": [
    {
     "name": "stdout",
     "output_type": "stream",
     "text": [
      "5.92644958892109 nan\n",
      "{'ky_pga': [0, 1.1743183974269635], 'ky_pga_M': [0, 1.0453736322192968], 'ky_Ia': [2.2757732936051652e-07, 1.5104958210040942], 'ky_pga,Ia': [0, 1.4183924172843323]}\n",
      "0\n"
     ]
    }
   ],
   "source": [
    "##### check jibson\n",
    "i = 3\n",
    "ky,FS = fcn_liq_land.get_ky(slope_type=slope_type[i],phi=phi[i],c=c[i],\n",
    "                            beta=beta[i],gamma=gamma[i],pga=pga,H=H,\n",
    "                            cr=cr,t=t,m=m,method=method,y=H)\n",
    "print(ky,FS)\n",
    "print(land.jibson_2007(ky=ky,pga=pga,M=M,Ia=Ia))"
   ]
  },
  {
   "cell_type": "code",
   "execution_count": null,
   "metadata": {},
   "outputs": [],
   "source": []
  },
  {
   "cell_type": "code",
   "execution_count": 12,
   "metadata": {},
   "outputs": [],
   "source": [
    "##### check cetin et al (2004) - kramer and mayfield (2007)\n",
    "z = [2,4,6,8,10,12]\n",
    "fc = [0, 0, 0, 0, 0, 0]\n",
    "N1_60 = [10,12,18,22,26,30]\n",
    "M = 6.57\n",
    "amax = 0.332\n",
    "dtw = 2\n",
    "flag_include_error = True\n",
    "gamma_dry = 17.2\n",
    "gamma_sat = 20\n",
    "gamma_z = []\n",
    "for i in z:\n",
    "    if i <= dtw:\n",
    "        gamma_z.append(gamma_dry)\n",
    "    else:\n",
    "        gamma_z.append(gamma_sat)"
   ]
  },
  {
   "cell_type": "code",
   "execution_count": 6,
   "metadata": {},
   "outputs": [
    {
     "data": {
      "text/plain": [
       "(array([ 34.4,  74.4, 114.4, 154.4, 194.4, 234.4]),\n",
       " array([ 34.4 ,  54.78,  75.16,  95.54, 115.92, 136.3 ]))"
      ]
     },
     "execution_count": 6,
     "metadata": {},
     "output_type": "execute_result"
    }
   ],
   "source": [
    "##### check cetin et al (2004) - kramer and mayfield (2007)\n",
    "sv0_tot,u_z,sv0_eff = fcn_liq_land.get_stress(z=z,dtw=dtw,gamma_z=gamma_z)\n",
    "sv0_tot, sv0_eff"
   ]
  },
  {
   "cell_type": "code",
   "execution_count": 7,
   "metadata": {},
   "outputs": [
    {
     "name": "stdout",
     "output_type": "stream",
     "text": [
      "[0.9866568  0.9725542  0.95770333 0.93722465 0.90493425 0.85651837]\n"
     ]
    }
   ],
   "source": [
    "##### check cetin et al (2004) - kramer and mayfield (2007)\n",
    "# method = 'idriss_1999'\n",
    "# rd = fcn_liq_land.get_rd(method=method,z=z,M=M,amax=amax)\n",
    "# method = 'cetin_2000'\n",
    "# rd = fcn_liq_land.get_rd(method=method,z=z,M=M,amax=amax)\n",
    "method = 'youd_etal_2001'\n",
    "rd = fcn_liq_land.get_rd(method=method,z=z,M=M,amax=amax)\n",
    "print(rd)"
   ]
  },
  {
   "cell_type": "code",
   "execution_count": 13,
   "metadata": {},
   "outputs": [
    {
     "name": "stdout",
     "output_type": "stream",
     "text": [
      "csr_eq =  0.2129205379857929\n",
      "csr_eq =  0.28504679412147227\n",
      "csr_eq =  0.3145731790456835\n",
      "csr_eq =  0.3268565586991113\n",
      "csr_eq =  0.3274962680343776\n",
      "csr_eq =  0.31787024105528755\n"
     ]
    }
   ],
   "source": [
    "##### check cetin et al (2004) - kramer and mayfield (2007)\n",
    "out = []\n",
    "for i in range(len(N1_60)):\n",
    "    out.append(liq.cetin_etal_2004_liq(N1_60=N1_60[i],fc=fc[i],z=z[i],rd=rd[i],amax=amax,\n",
    "                                      sv0_tot=sv0_tot[i],sv0_eff=sv0_eff[i],M=M,flag_include_error=flag_include_error))"
   ]
  },
  {
   "cell_type": "code",
   "execution_count": 14,
   "metadata": {},
   "outputs": [
    {
     "data": {
      "text/plain": [
       "[(nan, 0.11758528589272033, 0.8289297614456047),\n",
       " (nan, 0.17915348562285305, 0.9680329118927368),\n",
       " (nan, 0.2158828741139419, 0.8502023863496451),\n",
       " (nan, 0.23978437361597893, 0.666529931251823),\n",
       " (nan, 0.2535213626569511, 0.3677119220553844),\n",
       " (nan, 0.25740198798032315, 0.10770907822590314)]"
      ]
     },
     "execution_count": 14,
     "metadata": {},
     "output_type": "execute_result"
    }
   ],
   "source": [
    "out"
   ]
  },
  {
   "cell_type": "code",
   "execution_count": null,
   "metadata": {},
   "outputs": [],
   "source": []
  },
  {
   "cell_type": "code",
   "execution_count": null,
   "metadata": {},
   "outputs": [],
   "source": []
  },
  {
   "cell_type": "code",
   "execution_count": 7,
   "metadata": {},
   "outputs": [],
   "source": [
    "##### check moss et al. (2006)\n",
    "z = [5,5,5,5]\n",
    "qc = [10,7,5,2]\n",
    "Rf = [5,5,5,5]\n",
    "p_liq = [0.1,0.3,0.5,0.9]\n",
    "M = 6.57\n",
    "amax = 0.332\n",
    "dtw = 0\n",
    "gamma_z = [19.62,19.62,19.62,19.62]"
   ]
  },
  {
   "cell_type": "code",
   "execution_count": 8,
   "metadata": {},
   "outputs": [
    {
     "data": {
      "text/plain": [
       "(array([98.1, 98.1, 98.1, 98.1]), array([49.05, 49.05, 49.05, 49.05]))"
      ]
     },
     "execution_count": 8,
     "metadata": {},
     "output_type": "execute_result"
    }
   ],
   "source": [
    "##### ##### \n",
    "sv0_tot,u_z,sv0_eff = fcn_liq_land.get_stress(z=z,dtw=dtw,gamma_z=gamma_z)\n",
    "sv0_tot, sv0_eff"
   ]
  },
  {
   "cell_type": "code",
   "execution_count": null,
   "metadata": {},
   "outputs": [],
   "source": [
    "out = []\n",
    "for i in range(len(qc)):\n",
    "    out.append(corr_cpt.moss_etal_2006_corr(qc=qc[i],sv0_tot=sv0_tot[i],sv0_eff=sv0_eff[i],Rf=Rf[i],))"
   ]
  },
  {
   "cell_type": "code",
   "execution_count": null,
   "metadata": {},
   "outputs": [],
   "source": []
  },
  {
   "cell_type": "code",
   "execution_count": 6,
   "metadata": {},
   "outputs": [
    {
     "name": "stdout",
     "output_type": "stream",
     "text": [
      "Help on function moss_etal_2006_corr in module edp.corr_cpt:\n",
      "\n",
      "moss_etal_2006_corr(**kwargs)\n",
      "    CPT tip resistance correction to **qc_1** using the Moss et al. (2006a) method. Note that Moss et al. (2006a) uses **qc_1** instead as one of the model parameters for estimating the probability of liquefaction (see :func:`edp.liq.moss_etal_2006_liq`). Users can need to specify **qc**, and the function will apply the overburden correction to obtain qc_1.\n",
      "    \n",
      "    Parameters\n",
      "    ----------\n",
      "    qc : float\n",
      "            [kPa] tip resistance\n",
      "            \n",
      "    Parameters for overburden correction\n",
      "    sv0_tot : float\n",
      "            [kPa] initial vertical total stress\n",
      "    sv0_eff : float\n",
      "            [kPa] initial vertical effective stress\n",
      "    patm : float\n",
      "            [kPa] atmospheric pressure, default = 101.3 kPa\n",
      "    c : float, optional\n",
      "            normalization exponent for overburden correction, users can specify this instead of calculating it interally\n",
      "    fs : float, optional\n",
      "            [kPa] sleeve friction, required to calculate **Rf** if **Rf** is not given\n",
      "    Rf : float, optional\n",
      "            [%] friction ratio, required if **fs** is not provided to calculate **Rf**\n",
      "            \n",
      "    Returns\n",
      "    -------\n",
      "    qc_1 : float\n",
      "            normalized tip resistance corrected for overburden, used by Moss et al. (2006a) for liquefaction triggering\n",
      "    Rf : float\n",
      "            [%] friction ratio, used by Moss et al. (2006a) for liquefaction triggering\n",
      "    c : float\n",
      "            overburden normalization exponent, used by Moss et al. (2006a) for liquefaction triggering\n",
      "            \n",
      "    References\n",
      "    ----------\n",
      "    .. [1] Moss, R.E.S., Seed, R.B., Kayen, R.E., Stewart, J.P., Der Kiureghian, A., and Cetin, K.O., 2006a, CPT-Based Probabilistic and Deterministic Assessment of In Situ Seismic Soil Liquefaction Potential, Journal of Geotechnical and Geoenvironmental Engineering, vol. 132, no. 8, pp. 1032-1051.\n",
      "    .. [2] Moss, R.E.S., Seed, R.B., and Olsen, R.S., 2006b, Normalizing the CPT for Overburden Stress, Journal of Geotechnical and Geoenvironmental Engineering, vol. 132, no. 3, pp. 378-387.\n",
      "\n"
     ]
    }
   ],
   "source": [
    "help(corr_cpt.moss_etal_2006_corr)"
   ]
  },
  {
   "cell_type": "code",
   "execution_count": 15,
   "metadata": {},
   "outputs": [
    {
     "name": "stdout",
     "output_type": "stream",
     "text": [
      "Help on function moss_etal_2006_liq in module edp.liq:\n",
      "\n",
      "moss_etal_2006_liq(**kwargs)\n",
      "    A CPT-based procedure to quantify liquefaction at a given location using probabilistic model by Moss et al. (2006). This function produces **p_liq** or equivalent **crr** if **p_liq** is specified. This function is to be used in conjuction with :func:`edp.corr_cpt.moss_etal_2006_corr`.\n",
      "    \n",
      "    Parameters\n",
      "    ----------\n",
      "    qc_1 : float\n",
      "            normalized tip resistance corrected for overburden, see :func:`edp.corr_cpt.moss_etal_2006_corr`\n",
      "    Rf : float\n",
      "            [%] friction ratio, see :func:`edp.corr_cpt.moss_etal_2006_corr`\n",
      "    c : float\n",
      "            overburden normalization exponent, see :func:`edp.corr_cpt.moss_etal_2006_corr`\n",
      "    amax : float\n",
      "            [g] peak ground acceleration\n",
      "    sv0_tot : float\n",
      "            [g] initial vertical total stress\n",
      "    sve_tot : float\n",
      "            [g] initial vertical effective stress\n",
      "    rd : float\n",
      "            [g] depth-reduction factor, see :func:`edp.fcn_liq_land.get_rd`\n",
      "    M : float\n",
      "            moment magnitude\n",
      "    p_liq : float, optional\n",
      "            [%] probability of liquefaction, if looking to get **crr**\n",
      "    \n",
      "    Returns\n",
      "    -------\n",
      "    crr : float\n",
      "            equivalent cyclic resistance ratio if p_liq is specified, otherwise NaN\n",
      "    csr : float\n",
      "            cyclic stress ratio, corrected for magnitude/duration\n",
      "    p_liq : float\n",
      "            [%] probability of liquefaction\n",
      "                    \n",
      "    References\n",
      "    ----------\n",
      "    .. [1] Moss, R.E.S., Seed, R.B., Kayen, R.E., Stewart, J.P., Der Kiureghian, A., and Cetin, K.O., 2006a, CPT-Based Probabilistic and Deterministic Assessment of In Situ Seismic Soil Liquefaction Potential, Journal of Geotechnical and Geoenvironmental Engineering, vol. 132, no. 8, pp. 1032-1051.\n",
      "\n"
     ]
    }
   ],
   "source": [
    "help(liq.moss_etal_2006_liq)"
   ]
  },
  {
   "cell_type": "code",
   "execution_count": null,
   "metadata": {},
   "outputs": [],
   "source": []
  }
 ],
 "metadata": {
  "kernelspec": {
   "display_name": "Python 3",
   "language": "python",
   "name": "python3"
  },
  "language_info": {
   "codemirror_mode": {
    "name": "ipython",
    "version": 3
   },
   "file_extension": ".py",
   "mimetype": "text/x-python",
   "name": "python",
   "nbconvert_exporter": "python",
   "pygments_lexer": "ipython3",
   "version": "3.7.7"
  }
 },
 "nbformat": 4,
 "nbformat_minor": 4
}
