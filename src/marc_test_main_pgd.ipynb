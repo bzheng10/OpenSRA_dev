{
 "cells": [
  {
   "cell_type": "code",
   "execution_count": 1,
   "metadata": {},
   "outputs": [],
   "source": [
    "## required packages\n",
    "import numpy as np\n",
    "# import matplotlib.pyplot as plt\n",
    "# import os, time\n",
    "import importlib\n",
    "import im.fcn_im as fcn_im\n",
    "import pandas as pd\n",
    "# from numpy.random import standard_normal\n",
    "# from scipy.linalg import cholesky\n",
    "import model, fcn_gen, os, time\n",
    "from scipy import sparse"
   ]
  },
  {
   "cell_type": "code",
   "execution_count": 2,
   "metadata": {},
   "outputs": [
    {
     "data": {
      "text/plain": [
       "1977"
      ]
     },
     "execution_count": 2,
     "metadata": {},
     "output_type": "execute_result"
    }
   ],
   "source": [
    "# base inputs\n",
    "site_loc_file = r'C:\\Users\\barry\\Desktop\\OpenSHAInterface\\CA_pipe_midpt_allsites.txt'\n",
    "rate_min = 1/10000\n",
    "im_tool = 'sha'\n",
    "\n",
    "im_dir = r'C:\\Users\\barry\\Desktop\\OpenSHAInterface\\im_output_10000yr_allsites'\n",
    "dm_dir = r'C:\\Users\\barry\\Desktop\\OpenSHAInterface\\rr_out'\n",
    "rup_meta_file = r'C:\\Users\\barry\\Desktop\\OpenSHAInterface\\rup_meta_10000yr_allsites.hdf5'\n",
    "groups2run = np.loadtxt(r'C:\\Users\\barry\\Desktop\\OpenSHAInterface\\groups2run_allsites.txt',dtype=str)\n",
    "num_rups = 2\n",
    "im_list = ['pga','pgv']\n",
    "\n",
    "## define number of realizations and generate samples\n",
    "nsamp=10\n",
    "flag_corr_d = False\n",
    "flag_corr_T = False\n",
    "\n",
    "len(groups2run)"
   ]
  },
  {
   "cell_type": "code",
   "execution_count": 3,
   "metadata": {},
   "outputs": [],
   "source": [
    "##\n",
    "list_coord_marc = np.asarray([[-121.959102,37.952594],\n",
    "                  [-121.969138,37.944882],\n",
    "                  [-121.66069,38.012081],\n",
    "                  [-121.660565,38.020377],\n",
    "                  [-121.508865,37.973593],\n",
    "                  [-121.507891,37.983513],\n",
    "                  [-121.269766,38.128762],\n",
    "                  [-121.26935,38.135931]])\n",
    "ind_marc = [41305, 41312, 29515, 40960, 38581, 76484, 530, 523]\n",
    "rup_marc = [10, 8, 62]\n",
    "samp_marc = 5"
   ]
  },
  {
   "cell_type": "code",
   "execution_count": 4,
   "metadata": {},
   "outputs": [],
   "source": [
    "## reload model.py if it has been modified\n",
    "importlib.reload(model)\n",
    "## create class object\n",
    "A = model.assessment()"
   ]
  },
  {
   "cell_type": "code",
   "execution_count": 5,
   "metadata": {},
   "outputs": [],
   "source": [
    "count = 0\n",
    "inc1 = 5\n",
    "inc2 = 100\n",
    "# out = {}"
   ]
  },
  {
   "cell_type": "code",
   "execution_count": 6,
   "metadata": {},
   "outputs": [],
   "source": [
    "## read inputs for Zhu et al. (2017)\n",
    "zhu_inputs = pd.read_csv('D:\\\\maps_chris\\\\CA_Zhu_pipe_midpt_allsites_withWB_remap.csv')\n",
    "wtd = zhu_inputs['WTD_30m (m)'].values\n",
    "dr = zhu_inputs['DistRivers (km)'].values\n",
    "dc = zhu_inputs['DistCoast (km)'].values\n",
    "dw = zhu_inputs['DistAnyWaterNoWB (km)'].values\n",
    "precip = zhu_inputs['CA_Precip (mm)'].values\n",
    "vs30 = zhu_inputs['vs30_opensha (m/s)'].values\n",
    "dwWB = zhu_inputs['DistAnyWaterWB (km)'].values\n",
    "\n",
    "## change all -9999 entries to NaN\n",
    "find_val = -9999\n",
    "set_val = np.nan\n",
    "wtd = fcn_gen.find_set_nan(wtd,find_val,set_val)\n",
    "dr = fcn_gen.find_set_nan(dr,find_val,set_val)\n",
    "dc = fcn_gen.find_set_nan(dc,find_val,set_val)\n",
    "dw = fcn_gen.find_set_nan(dw,find_val,set_val)\n",
    "precip = fcn_gen.find_set_nan(precip,find_val,set_val)\n",
    "vs30 = fcn_gen.find_set_nan(vs30,find_val,set_val)\n",
    "dwWB = fcn_gen.find_set_nan(dwWB,find_val,set_val)\n",
    "\n",
    "## elevation from DEM maps\n",
    "z = np.ones(vs30.shape)*10 ## set to 10 for now, get data from DEM map later"
   ]
  },
  {
   "cell_type": "code",
   "execution_count": 7,
   "metadata": {},
   "outputs": [
    {
     "name": "stderr",
     "output_type": "stream",
     "text": [
      "C:\\Users\\barry\\OneDrive - SlateGeotech\\Fragility\\OpenSRA\\src\\edp\\liq.py:653: RuntimeWarning: invalid value encountered in less\n",
      "  b_0[dc<dc_cutoff] = 12.435\n",
      "C:\\Users\\barry\\OneDrive - SlateGeotech\\Fragility\\OpenSRA\\src\\edp\\liq.py:656: RuntimeWarning: invalid value encountered in less\n",
      "  b_ln_pgv[dc<dc_cutoff] = 0.301\n",
      "C:\\Users\\barry\\OneDrive - SlateGeotech\\Fragility\\OpenSRA\\src\\edp\\liq.py:659: RuntimeWarning: invalid value encountered in less\n",
      "  b_ln_vs30[dc<dc_cutoff] = -2.615\n",
      "C:\\Users\\barry\\OneDrive - SlateGeotech\\Fragility\\OpenSRA\\src\\edp\\liq.py:662: RuntimeWarning: invalid value encountered in less\n",
      "  b_precip[dc<dc_cutoff] = 5.556e-4\n",
      "C:\\Users\\barry\\OneDrive - SlateGeotech\\Fragility\\OpenSRA\\src\\edp\\liq.py:665: RuntimeWarning: invalid value encountered in less\n",
      "  b_sqrt_dc[dc<dc_cutoff] = -0.0287\n",
      "C:\\Users\\barry\\OneDrive - SlateGeotech\\Fragility\\OpenSRA\\src\\edp\\liq.py:668: RuntimeWarning: invalid value encountered in less\n",
      "  b_dr[dc<dc_cutoff] = 0.0666\n",
      "C:\\Users\\barry\\OneDrive - SlateGeotech\\Fragility\\OpenSRA\\src\\edp\\liq.py:671: RuntimeWarning: invalid value encountered in less\n",
      "  b_sqrt_dc_dr[dc<dc_cutoff] = -0.0369\n",
      "C:\\Users\\barry\\OneDrive - SlateGeotech\\Fragility\\OpenSRA\\src\\edp\\liq.py:674: RuntimeWarning: invalid value encountered in less\n",
      "  b_dw[dc<dc_cutoff] = 0\n",
      "C:\\Users\\barry\\OneDrive - SlateGeotech\\Fragility\\OpenSRA\\src\\edp\\liq.py:677: RuntimeWarning: invalid value encountered in less\n",
      "  b_wtd[dc<dc_cutoff] = 0\n",
      "C:\\Users\\barry\\OneDrive - SlateGeotech\\Fragility\\OpenSRA\\src\\edp\\liq.py:680: RuntimeWarning: invalid value encountered in less\n",
      "  a[dc<dc_cutoff] = 42.08\n",
      "C:\\Users\\barry\\OneDrive - SlateGeotech\\Fragility\\OpenSRA\\src\\edp\\liq.py:683: RuntimeWarning: invalid value encountered in less\n",
      "  b[dc<dc_cutoff] = 62.59\n",
      "C:\\Users\\barry\\OneDrive - SlateGeotech\\Fragility\\OpenSRA\\src\\edp\\liq.py:686: RuntimeWarning: invalid value encountered in less\n",
      "  c[dc<dc_cutoff] = 11.43\n",
      "C:\\Users\\barry\\OneDrive - SlateGeotech\\Fragility\\OpenSRA\\src\\edp\\liq.py:694: RuntimeWarning: invalid value encountered in less\n",
      "  liq_susc[dc<0] = -999\n",
      "C:\\Users\\barry\\OneDrive - SlateGeotech\\Fragility\\OpenSRA\\src\\edp\\liq.py:699: RuntimeWarning: invalid value encountered in less\n",
      "  liq_susc_cat[liq_susc<-38.1] = 'none'\n",
      "C:\\Users\\barry\\OneDrive - SlateGeotech\\Fragility\\OpenSRA\\src\\edp\\liq.py:700: RuntimeWarning: invalid value encountered in greater_equal\n",
      "  liq_susc_cat[np.logical_and(liq_susc>=-38.1,liq_susc<-3.20)] = 'very low'\n",
      "C:\\Users\\barry\\OneDrive - SlateGeotech\\Fragility\\OpenSRA\\src\\edp\\liq.py:700: RuntimeWarning: invalid value encountered in less\n",
      "  liq_susc_cat[np.logical_and(liq_susc>=-38.1,liq_susc<-3.20)] = 'very low'\n",
      "C:\\Users\\barry\\OneDrive - SlateGeotech\\Fragility\\OpenSRA\\src\\edp\\liq.py:701: RuntimeWarning: invalid value encountered in greater_equal\n",
      "  liq_susc_cat[np.logical_and(liq_susc>=-3.20,liq_susc<-3.15)] = 'low'\n",
      "C:\\Users\\barry\\OneDrive - SlateGeotech\\Fragility\\OpenSRA\\src\\edp\\liq.py:701: RuntimeWarning: invalid value encountered in less\n",
      "  liq_susc_cat[np.logical_and(liq_susc>=-3.20,liq_susc<-3.15)] = 'low'\n",
      "C:\\Users\\barry\\OneDrive - SlateGeotech\\Fragility\\OpenSRA\\src\\edp\\liq.py:702: RuntimeWarning: invalid value encountered in greater_equal\n",
      "  liq_susc_cat[np.logical_and(liq_susc>=-3.15,liq_susc<-1.95)] = 'moderate'\n",
      "C:\\Users\\barry\\OneDrive - SlateGeotech\\Fragility\\OpenSRA\\src\\edp\\liq.py:702: RuntimeWarning: invalid value encountered in less\n",
      "  liq_susc_cat[np.logical_and(liq_susc>=-3.15,liq_susc<-1.95)] = 'moderate'\n",
      "C:\\Users\\barry\\OneDrive - SlateGeotech\\Fragility\\OpenSRA\\src\\edp\\liq.py:703: RuntimeWarning: invalid value encountered in greater_equal\n",
      "  liq_susc_cat[np.logical_and(liq_susc>=-1.95,liq_susc<-1.15)] = 'high'\n",
      "C:\\Users\\barry\\OneDrive - SlateGeotech\\Fragility\\OpenSRA\\src\\edp\\liq.py:703: RuntimeWarning: invalid value encountered in less\n",
      "  liq_susc_cat[np.logical_and(liq_susc>=-1.95,liq_susc<-1.15)] = 'high'\n",
      "C:\\Users\\barry\\OneDrive - SlateGeotech\\Fragility\\OpenSRA\\src\\edp\\liq.py:704: RuntimeWarning: invalid value encountered in greater\n",
      "  liq_susc_cat[liq_susc>-1.15] = 'very high'\n",
      "C:\\Users\\barry\\OneDrive - SlateGeotech\\Fragility\\OpenSRA\\src\\edp\\liq.py:762: RuntimeWarning: invalid value encountered in less\n",
      "  p_liq_k[dc < 0] = -999\n",
      "C:\\Users\\barry\\OneDrive - SlateGeotech\\Fragility\\OpenSRA\\src\\edp\\ls.py:124: RuntimeWarning: invalid value encountered in less_equal\n",
      "  a[r<=1] = 0\n",
      "C:\\Users\\barry\\OneDrive - SlateGeotech\\Fragility\\OpenSRA\\src\\edp\\ls.py:125: RuntimeWarning: invalid value encountered in greater\n",
      "  a[np.logical_and(r>1,r<=2)] = 12*r[np.logical_and(r>1,r<=2)] - 12\n",
      "C:\\Users\\barry\\OneDrive - SlateGeotech\\Fragility\\OpenSRA\\src\\edp\\ls.py:125: RuntimeWarning: invalid value encountered in less_equal\n",
      "  a[np.logical_and(r>1,r<=2)] = 12*r[np.logical_and(r>1,r<=2)] - 12\n",
      "C:\\Users\\barry\\OneDrive - SlateGeotech\\Fragility\\OpenSRA\\src\\edp\\ls.py:126: RuntimeWarning: invalid value encountered in greater\n",
      "  a[np.logical_and(r>2,r<=3)] = 18*r[np.logical_and(r>2,r<=3)] - 24\n",
      "C:\\Users\\barry\\OneDrive - SlateGeotech\\Fragility\\OpenSRA\\src\\edp\\ls.py:126: RuntimeWarning: invalid value encountered in less_equal\n",
      "  a[np.logical_and(r>2,r<=3)] = 18*r[np.logical_and(r>2,r<=3)] - 24\n",
      "C:\\Users\\barry\\OneDrive - SlateGeotech\\Fragility\\OpenSRA\\src\\edp\\ls.py:128: RuntimeWarning: invalid value encountered in greater\n",
      "  a[r>3] = 70*r[r>3] - 180\n",
      "C:\\Users\\barry\\OneDrive - SlateGeotech\\Fragility\\OpenSRA\\src\\edp\\ls.py:136: RuntimeWarning: invalid value encountered in less_equal\n",
      "  pgd_ls_k[np.logical_or(dw<=0,dw>=dw_cutoff)] = 0\n",
      "C:\\Users\\barry\\OneDrive - SlateGeotech\\Fragility\\OpenSRA\\src\\edp\\ls.py:136: RuntimeWarning: invalid value encountered in greater_equal\n",
      "  pgd_ls_k[np.logical_or(dw<=0,dw>=dw_cutoff)] = 0\n"
     ]
    },
    {
     "name": "stdout",
     "output_type": "stream",
     "text": [
      "10\n",
      "hazus_2014_rr\n",
      "[0. 0. 0. 0. 0. 0. 0. 0.]\n",
      " \n",
      "8\n",
      "hazus_2014_rr\n",
      "[0.         0.         0.         0.         1.52590584 0.\n",
      " 0.         0.        ]\n",
      " \n",
      "62\n",
      "hazus_2014_rr\n",
      "[0.         0.         1.59610284 0.         0.25570261 0.\n",
      " 0.         0.        ]\n",
      " \n",
      "10\n",
      "orourke_2020_rr\n",
      "[0. 0. 0. 0. 0. 0. 0. 0.]\n",
      " \n",
      "8\n",
      "orourke_2020_rr\n",
      "[0.         0.         0.         0.         6.12979815 0.\n",
      " 0.         0.        ]\n",
      " \n",
      "62\n",
      "orourke_2020_rr\n",
      "[0.         0.         5.13507009 0.         2.16308391 0.\n",
      " 0.         0.        ]\n",
      " \n"
     ]
    }
   ],
   "source": [
    "## Lateral spreading\n",
    "time_start = time.time()\n",
    "\n",
    "multi = 0\n",
    "range_start = 0+100*multi\n",
    "range_end = range_start+1\n",
    "flag_sample_exist = True\n",
    "\n",
    "##\n",
    "for im_group in groups2run[range_start:range_end]:\n",
    "    #####################################################################\n",
    "    count += 1\n",
    "    path_sample = im_dir+'/'+im_group+'/'\n",
    "    \n",
    "    #####################################################################\n",
    "    ## load GM predictions and create random variable\n",
    "    A.create_RV(im_tool, site_loc_file, im_dir, im_list, rup_meta_file, flag_clear_dict=True, \n",
    "                flag_sample_exist=flag_sample_exist, im_group=im_group, num_rups=num_rups)\n",
    "\n",
    "    #####################################################################\n",
    "    ## generate/import samples\n",
    "    A.get_IM(nsamp, im_list, flag_corr_d, flag_corr_T, flag_clear_dict=True, \n",
    "            flag_sample_exist=flag_sample_exist,path_sample=path_sample)\n",
    "\n",
    "    if flag_sample_exist is False:\n",
    "        for i in range(nsamp):\n",
    "            out1 = sparse.csc_matrix(np.round(A._IM_dict['pgv'][i].log1p(),decimals=3))\n",
    "            out2 = sparse.csc_matrix(np.round(A._IM_dict['pga'][i].log1p(),decimals=3))\n",
    "            sparse.save_npz(im_dir+'/'+im_group+'/'+'pgv_samp_'+str(i)+'.npz',out1)\n",
    "            sparse.save_npz(im_dir+'/'+im_group+'/'+'pga_samp_'+str(i)+'.npz',out2)\n",
    "\n",
    "    #####################################################################\n",
    "    ## get liq_susc from Zhu et al. (2017)\n",
    "#     category = 'liq'\n",
    "#     method = 'zhu_etal_2017'\n",
    "#     return_param = ['liq_susc']\n",
    "#     dc_cutoff = 20\n",
    "#     A.get_EDP(category=category, method=method, return_param=return_param, \n",
    "#               vs30=vs30, precip=precip, dc=dc, dr=dr, dw=dw, \n",
    "#               wtd=wtd, dc_cutoff=dc_cutoff)\n",
    "    \n",
    "    ## get p_liq and liq_susc from Zhu et al. (2017)\n",
    "    category = 'liq'\n",
    "    method = 'zhu_etal_2017'\n",
    "    return_param = ['liq_susc','p_liq']\n",
    "    flag_pgv = True\n",
    "    flag_M = True\n",
    "    dc_cutoff = 20\n",
    "    A.get_EDP(category=category, method=method, return_param=return_param,\n",
    "              flag_pgv=flag_pgv, flag_M=flag_M, vs30=vs30, precip=precip, dc=dc, dr=dr, dw=dw, \n",
    "              wtd=wtd, dc_cutoff=dc_cutoff, nsamp=nsamp)\n",
    "    \n",
    "    ## get pgd_ls from Grant et al. (2016), same as HAZUS (FEMA, 2014)\n",
    "    category = 'ls'\n",
    "    method = 'hazus_2014_ls'\n",
    "    return_param = ['pgd_ls']\n",
    "    source_dict = ['_EDP_dict']\n",
    "    source_param = ['liq_susc']\n",
    "    source_method = ['zhu_etal_2017']\n",
    "    flag_pga = True\n",
    "    flag_M = True\n",
    "    dw_cutoff = 50\n",
    "    store_name = ['pgd_ls_dw'+str(dw_cutoff)]\n",
    "    A.get_EDP(category=category, method=method, return_param=return_param,\n",
    "              flag_pga=flag_pga, flag_M=flag_M, source_dict=source_dict, \n",
    "              source_param=source_param, source_method=source_method, dw=dwWB*1000, z=z, nsamp=nsamp,\n",
    "              flag_extrap_Epgd=True, dw_cutoff=dw_cutoff)\n",
    "\n",
    "    #####################################################################\n",
    "    dm_method = []\n",
    "    ## get rr from HAZUS (FEMA, 2014)\n",
    "    category = 'rr'\n",
    "    method = 'hazus_2014_rr'\n",
    "    return_param = ['rr_pgd']\n",
    "    source_dict = ['_EDP_dict','_EDP_dict']\n",
    "    source_param = ['p_liq','pgd_ls']\n",
    "    source_method = ['zhu_etal_2017','hazus_2014_ls']\n",
    "    pgd_label = 'pgd_ls'\n",
    "    flag_rup_depend = True\n",
    "    dm_method.append(method[0:method.find('_')])\n",
    "    A.get_DM(category=category, method=method, return_param=return_param, flag_rup_depend=flag_rup_depend,\n",
    "              source_dict=source_dict, source_param=source_param, source_method=source_method, \n",
    "              nsamp=nsamp, pgd_label=pgd_label)\n",
    "    \n",
    "    ## get rr from ALA (2001)\n",
    "    category = 'rr'\n",
    "    method = 'orourke_2020_rr'\n",
    "    return_param = ['rr_pgd']\n",
    "    source_dict = ['_EDP_dict']\n",
    "    source_param = ['pgd_ls']\n",
    "    source_method = ['hazus_2014_ls']\n",
    "    pgd_label = 'pgd_ls'\n",
    "    flag_rup_depend = True\n",
    "    pgd_cutoff = 0\n",
    "    dm_method.append(method[0:method.find('_')])\n",
    "    A.get_DM(category=category, method=method, return_param=return_param, flag_rup_depend=flag_rup_depend,\n",
    "                source_dict=source_dict, source_param=source_param, source_method=source_method, nsamp=nsamp,\n",
    "                pgd_cutoff=pgd_cutoff, pgd_label=pgd_label)\n",
    "\n",
    "    #####################################################################\n",
    "#     if count % inc1 == 0:\n",
    "#     print('folder '+str(count)+': '+im_group+'--- %10.6f seconds ---' % (time.time() - time_start))\n",
    "#     time_start = time.time()\n",
    "\n",
    "    ####################################################################\n",
    "#     if count % inc2 == 0 or count == len(groups2run)-1:\n",
    "#         print('saved files: '+str(range_start)+'_'+str(range_end))\n",
    "#         for param in return_param:\n",
    "#             np.savetxt(dm_dir+'/'+param+'_'+str(range_start)+'_'+str(range_end)+'.txt',np.transpose(A._DM_dict[param]),fmt='%6.4E')\n",
    "#     if count % inc2 == 0 or count == len(groups2run)-1:\n",
    "#         print('saved files: '+str(range_start)+'_'+str(range_end))\n",
    "#         for i in range(len(return_param)):\n",
    "#             count_dm = 0\n",
    "#             str_src = '_ls'\n",
    "#             if 'pgd' in return_param[i]:\n",
    "#                 str_dw = '_dw'+str(dw_cutoff)\n",
    "#             for j in A._DM_dict[return_param[i]]:\n",
    "#                 save_name = dm_dir+'/'+return_param[i]+'_'+dm_method[count_dm]+str_src+str_dw+'_'+str(range_start)+'_'+str(range_end)+'.txt'\n",
    "#                 np.savetxt(save_name,np.transpose(A._DM_dict[return_param[i]][j]['output']),fmt='%6.4E')\n",
    "#                 count_dm += 1"
   ]
  },
  {
   "cell_type": "code",
   "execution_count": null,
   "metadata": {},
   "outputs": [],
   "source": [
    "for i in range(len(return_param)):\n",
    "    count_dm = 0\n",
    "    if 'pgd' in return_param[i]:\n",
    "        str_dw = '_dw'+str(dw_cutoff)\n",
    "    for j in A._DM_dict[return_param[i]]:\n",
    "        save_name = dm_dir+'/'+return_param[i]+'_'+dm_method[count_dm]+str_dw+'_'+str(range_start)+'_'+str(range_end)+'.txt'\n",
    "        np.savetxt(save_name,np.transpose(A._DM_dict[return_param[i]][j]['output']),fmt='%6.4E')\n",
    "        count_dm += 1"
   ]
  },
  {
   "cell_type": "code",
   "execution_count": 8,
   "metadata": {},
   "outputs": [
    {
     "data": {
      "text/plain": [
       "array([2., 2.])"
      ]
     },
     "execution_count": 8,
     "metadata": {},
     "output_type": "execute_result"
    }
   ],
   "source": [
    "np.divide([2,2],[1,1])"
   ]
  },
  {
   "cell_type": "code",
   "execution_count": null,
   "metadata": {},
   "outputs": [],
   "source": []
  },
  {
   "cell_type": "code",
   "execution_count": 8,
   "metadata": {},
   "outputs": [
    {
     "name": "stdout",
     "output_type": "stream",
     "text": [
      "[-121.959102 -121.969138 -121.66069  -121.660565 -121.508865 -121.507891\n",
      " -121.269766 -121.26935 ]\n",
      "[37.952594 37.944882 38.012081 38.020377 37.973593 37.983513 38.128762\n",
      " 38.135931]\n",
      "[0.342592  0.0553938 0.0276969 0.238258  0.0391693 0.607441  2.18174\n",
      " 1.36391  ]\n",
      "['moderate' 'moderate' 'very high' 'high' 'high' 'high' 'high' 'high']\n",
      "10: 5.95459510870155, 0.00012348449023624983\n",
      "[0. 0. 0. 0. 0. 0. 0. 0.]\n",
      "[ 8.31851412  5.45768385 27.64271134 25.3532038  21.78835072 15.57975862\n",
      " 22.33922345 26.66938283]\n",
      "8: 6.639466161281467, 0.001702372352063113\n",
      "[ 0.          0.          0.          0.         15.01344423  0.\n",
      "  0.          0.        ]\n",
      "[20.07374108 15.44435967 39.30648907 42.85350157 33.47331679 23.56669088\n",
      " 29.95841069 38.89529935]\n",
      "62: 7.618024588567435, 0.0001418795360809041\n",
      "[0.         0.         8.61817159 0.         0.5733024  0.\n",
      " 0.         0.        ]\n",
      "[19.03417737 12.89887906 47.7780469  49.2104892  34.91726829 33.49198141\n",
      " 48.49180242 51.75406691]\n"
     ]
    }
   ],
   "source": [
    "pgv = A._IM_dict['pgv'][5].toarray()\n",
    "pga = A._IM_dict['pga'][5].toarray()\n",
    "liq_susc = A._EDP_dict['liq_susc']['method1']['output']\n",
    "pgd = A._EDP_dict['pgd_ls']['method1']['output'][5].toarray()\n",
    "pliq = A._EDP_dict['p_liq']['method1']['output'][5].toarray()\n",
    "print(A._rup_site_dict['site_lon'][ind_marc])\n",
    "print(A._rup_site_dict['site_lat'][ind_marc])\n",
    "print(dwWB[ind_marc])\n",
    "print(liq_susc[ind_marc])\n",
    "for i in rup_marc:\n",
    "#     if pgv[i,ind_marc[0]] > 0:\n",
    "    print(str(i)+': '+str(A._RV_dict['rup']['M'][i])+', '+str(A._RV_dict['rup']['rate'][i]))\n",
    "#     print(pgv[i,ind_marc])\n",
    "#     print(pga[i,ind_marc])\n",
    "\n",
    "    print(pgd[i,ind_marc])\n",
    "    print(pliq[i,ind_marc])"
   ]
  },
  {
   "cell_type": "code",
   "execution_count": 20,
   "metadata": {},
   "outputs": [
    {
     "data": {
      "text/plain": [
       "numpy.str_"
      ]
     },
     "execution_count": 20,
     "metadata": {},
     "output_type": "execute_result"
    }
   ],
   "source": [
    "type(liq_susc[ind_marc][2])"
   ]
  },
  {
   "cell_type": "code",
   "execution_count": 9,
   "metadata": {},
   "outputs": [],
   "source": [
    "b = np.array([10,5])"
   ]
  },
  {
   "cell_type": "code",
   "execution_count": 13,
   "metadata": {},
   "outputs": [
    {
     "data": {
      "text/plain": [
       "array(['very high', 'none'], dtype='<U12')"
      ]
     },
     "execution_count": 13,
     "metadata": {},
     "output_type": "execute_result"
    }
   ],
   "source": [
    "a = np.empty(2,dtype='<U12')\n",
    "a[b<10] = 'none'\n",
    "a[b>=10] = 'very high'\n",
    "a"
   ]
  },
  {
   "cell_type": "code",
   "execution_count": null,
   "metadata": {},
   "outputs": [],
   "source": [
    "\n",
    "\t\ta = np.empty(nSites,dtype='<U8')"
   ]
  },
  {
   "cell_type": "code",
   "execution_count": null,
   "metadata": {},
   "outputs": [],
   "source": []
  },
  {
   "cell_type": "code",
   "execution_count": null,
   "metadata": {},
   "outputs": [],
   "source": []
  },
  {
   "cell_type": "code",
   "execution_count": null,
   "metadata": {},
   "outputs": [],
   "source": []
  },
  {
   "cell_type": "code",
   "execution_count": null,
   "metadata": {},
   "outputs": [],
   "source": []
  },
  {
   "cell_type": "code",
   "execution_count": null,
   "metadata": {},
   "outputs": [],
   "source": [
    "## Ground settlement\n",
    "time_start = time.time()\n",
    "\n",
    "flag_sample_exist = True\n",
    "im_group = groups2run[0]\n",
    "\n",
    "#####################################################################\n",
    "## load GM predictions and create random variable\n",
    "A.create_RV(im_tool, site_loc_file, im_dir, im_list, rup_meta_file, flag_clear_dict=True, \n",
    "            flag_sample_exist=flag_sample_exist, im_group=im_group, num_rups=num_rups)\n",
    "\n",
    "#####################################################################\n",
    "## get liq_susc from Zhu et al. (2017)\n",
    "category = 'liq'\n",
    "method = 'zhu_etal_2017'\n",
    "return_param = ['liq_susc']\n",
    "dc_cutoff = 20\n",
    "A.get_EDP(category=category, method=method, return_param=return_param, \n",
    "          vs30=vs30, precip=precip, dc=dc, dr=dr, dw=dw, \n",
    "          wtd=wtd, dc_cutoff=dc_cutoff)\n",
    "\n",
    "## get pgd_gs from HAZUS (FEMA, 2014)\n",
    "category = 'gs'\n",
    "method = 'hazus_2014_gs'\n",
    "return_param = ['pgd_gs']\n",
    "source_dict = ['_EDP_dict']\n",
    "source_param = ['liq_susc']\n",
    "source_method = ['zhu_etal_2017']\n",
    "A.get_EDP(category=category, method=method, return_param=return_param, \n",
    "          source_dict=source_dict, source_param=source_param, source_method=source_method)\n",
    "\n",
    "#####################################################################\n",
    "dm_method = []\n",
    "## get rr from ALA (2001)\n",
    "category = 'rr'\n",
    "method = 'orourke_2020_rr'\n",
    "return_param = ['rr_pgd']\n",
    "source_dict = ['_EDP_dict']\n",
    "source_param = ['pgd_gs']\n",
    "source_method = ['hazus_2014_gs']\n",
    "pgd_label = 'pgd_gs'\n",
    "pgd_cutoff = 0\n",
    "dm_method.append(method[0:method.find('_')])\n",
    "A.get_DM(category=category, method=method, return_param=return_param,\n",
    "         source_dict=source_dict, source_param=source_param, source_method=source_method, nsamp=1,\n",
    "         pgd_cutoff=pgd_cutoff, pgd_label=pgd_label)\n",
    "\n",
    "####################################################################\n",
    "print('saved file')\n",
    "for i in range(len(return_param)):\n",
    "\tcount_dm = 0\n",
    "\tstr_src = '_gs'\n",
    "\tstr_dw = None\n",
    "\tfor j in A._DM_dict[return_param[i]]:\n",
    "\t\tsave_name = dm_dir+'/'+return_param[i]+'_'+dm_method[count_dm]+str_src+'_all.txt'\n",
    "\t\tnp.savetxt(save_name,np.transpose(A._DM_dict[return_param[i]][j]['output']),fmt='%6.4E')\n",
    "\t\tcount_dm += 1"
   ]
  },
  {
   "cell_type": "code",
   "execution_count": null,
   "metadata": {},
   "outputs": [],
   "source": []
  },
  {
   "cell_type": "code",
   "execution_count": null,
   "metadata": {},
   "outputs": [],
   "source": []
  },
  {
   "cell_type": "code",
   "execution_count": null,
   "metadata": {},
   "outputs": [],
   "source": []
  },
  {
   "cell_type": "code",
   "execution_count": null,
   "metadata": {},
   "outputs": [],
   "source": []
  },
  {
   "cell_type": "code",
   "execution_count": 5,
   "metadata": {},
   "outputs": [],
   "source": []
  },
  {
   "cell_type": "code",
   "execution_count": 5,
   "metadata": {},
   "outputs": [],
   "source": []
  },
  {
   "cell_type": "code",
   "execution_count": 1,
   "metadata": {},
   "outputs": [],
   "source": []
  },
  {
   "cell_type": "code",
   "execution_count": 33,
   "metadata": {},
   "outputs": [],
   "source": [
    "dim_rup = 100\n",
    "dim_d = len(A._rup_site_dict['site_lon'])\n",
    "src_list = [78,144,191,221,247,297,331,337,350,364]\n",
    "count = 0\n",
    "for src in src_list:\n",
    "    seg_list = np.loadtxt(dir_intersect+'/src_'+str(src)+'.txt',dtype=int)\n",
    "    for seg in seg_list:\n",
    "        rows.append(count)\n",
    "        cols.append(seg)\n",
    "    count += 1\n",
    "rows = np.asarray(rows)\n",
    "cols = np.asarray(cols)\n",
    "mat = sparse.coo_matrix((np.ones(len(rows)),(rows,cols)),shape=(dim_rup,dim_d))"
   ]
  },
  {
   "cell_type": "code",
   "execution_count": 17,
   "metadata": {},
   "outputs": [],
   "source": [
    "M = A._RV_dict['rup']['M']"
   ]
  },
  {
   "cell_type": "code",
   "execution_count": 19,
   "metadata": {},
   "outputs": [],
   "source": [
    "M_sparse = sparse.coo_matrix((M[mat.row],(mat.row,mat.col)),shape=mat.shape)"
   ]
  },
  {
   "cell_type": "code",
   "execution_count": 20,
   "metadata": {},
   "outputs": [
    {
     "ename": "TypeError",
     "evalue": "unsupported operand type(s) for ** or pow(): 'int' and 'coo_matrix'",
     "output_type": "error",
     "traceback": [
      "\u001b[1;31m---------------------------------------------------------------------------\u001b[0m",
      "\u001b[1;31mTypeError\u001b[0m                                 Traceback (most recent call last)",
      "\u001b[1;32m<ipython-input-20-202fb6e41e17>\u001b[0m in \u001b[0;36m<module>\u001b[1;34m\u001b[0m\n\u001b[1;32m----> 1\u001b[1;33m \u001b[1;36m10\u001b[0m\u001b[1;33m**\u001b[0m\u001b[0mM_sparse\u001b[0m\u001b[1;33m\u001b[0m\u001b[1;33m\u001b[0m\u001b[0m\n\u001b[0m",
      "\u001b[1;31mTypeError\u001b[0m: unsupported operand type(s) for ** or pow(): 'int' and 'coo_matrix'"
     ]
    }
   ],
   "source": [
    "10**M_sparse"
   ]
  },
  {
   "cell_type": "code",
   "execution_count": 33,
   "metadata": {},
   "outputs": [],
   "source": []
  },
  {
   "cell_type": "code",
   "execution_count": 14,
   "metadata": {},
   "outputs": [
    {
     "name": "stdout",
     "output_type": "stream",
     "text": [
      "100\n"
     ]
    },
    {
     "name": "stderr",
     "output_type": "stream",
     "text": [
      "C:\\Users\\barry\\Anaconda3\\lib\\site-packages\\ipykernel_launcher.py:31: UserWarning: loadtxt: Empty input file: \"C:\\Users\\barry\\Desktop\\OpenSHAInterface\\src_intersect/src_221.txt\"\n",
      "C:\\Users\\barry\\Anaconda3\\lib\\site-packages\\ipykernel_launcher.py:31: UserWarning: loadtxt: Empty input file: \"C:\\Users\\barry\\Desktop\\OpenSHAInterface\\src_intersect/src_247.txt\"\n",
      "C:\\Users\\barry\\Anaconda3\\lib\\site-packages\\ipykernel_launcher.py:31: UserWarning: loadtxt: Empty input file: \"C:\\Users\\barry\\Desktop\\OpenSHAInterface\\src_intersect/src_297.txt\"\n",
      "C:\\Users\\barry\\Anaconda3\\lib\\site-packages\\ipykernel_launcher.py:31: UserWarning: loadtxt: Empty input file: \"C:\\Users\\barry\\Desktop\\OpenSHAInterface\\src_intersect/src_364.txt\"\n",
      "C:\\Users\\barry\\Anaconda3\\lib\\site-packages\\ipykernel_launcher.py:31: UserWarning: loadtxt: Empty input file: \"C:\\Users\\barry\\Desktop\\OpenSHAInterface\\src_intersect/src_659.txt\"\n",
      "C:\\Users\\barry\\Anaconda3\\lib\\site-packages\\ipykernel_launcher.py:31: UserWarning: loadtxt: Empty input file: \"C:\\Users\\barry\\Desktop\\OpenSHAInterface\\src_intersect/src_680.txt\"\n",
      "C:\\Users\\barry\\Anaconda3\\lib\\site-packages\\ipykernel_launcher.py:31: UserWarning: loadtxt: Empty input file: \"C:\\Users\\barry\\Desktop\\OpenSHAInterface\\src_intersect/src_840.txt\"\n",
      "C:\\Users\\barry\\Anaconda3\\lib\\site-packages\\ipykernel_launcher.py:31: UserWarning: loadtxt: Empty input file: \"C:\\Users\\barry\\Desktop\\OpenSHAInterface\\src_intersect/src_955.txt\"\n",
      "C:\\Users\\barry\\Anaconda3\\lib\\site-packages\\ipykernel_launcher.py:31: UserWarning: loadtxt: Empty input file: \"C:\\Users\\barry\\Desktop\\OpenSHAInterface\\src_intersect/src_1006.txt\"\n",
      "C:\\Users\\barry\\Anaconda3\\lib\\site-packages\\ipykernel_launcher.py:31: UserWarning: loadtxt: Empty input file: \"C:\\Users\\barry\\Desktop\\OpenSHAInterface\\src_intersect/src_1142.txt\"\n",
      "C:\\Users\\barry\\Anaconda3\\lib\\site-packages\\ipykernel_launcher.py:31: UserWarning: loadtxt: Empty input file: \"C:\\Users\\barry\\Desktop\\OpenSHAInterface\\src_intersect/src_1180.txt\"\n",
      "C:\\Users\\barry\\Anaconda3\\lib\\site-packages\\ipykernel_launcher.py:31: UserWarning: loadtxt: Empty input file: \"C:\\Users\\barry\\Desktop\\OpenSHAInterface\\src_intersect/src_1310.txt\"\n",
      "C:\\Users\\barry\\Anaconda3\\lib\\site-packages\\ipykernel_launcher.py:31: UserWarning: loadtxt: Empty input file: \"C:\\Users\\barry\\Desktop\\OpenSHAInterface\\src_intersect/src_1512.txt\"\n",
      "C:\\Users\\barry\\Anaconda3\\lib\\site-packages\\ipykernel_launcher.py:31: UserWarning: loadtxt: Empty input file: \"C:\\Users\\barry\\Desktop\\OpenSHAInterface\\src_intersect/src_1524.txt\"\n",
      "C:\\Users\\barry\\Anaconda3\\lib\\site-packages\\ipykernel_launcher.py:31: UserWarning: loadtxt: Empty input file: \"C:\\Users\\barry\\Desktop\\OpenSHAInterface\\src_intersect/src_1670.txt\"\n",
      "C:\\Users\\barry\\Anaconda3\\lib\\site-packages\\ipykernel_launcher.py:31: UserWarning: loadtxt: Empty input file: \"C:\\Users\\barry\\Desktop\\OpenSHAInterface\\src_intersect/src_1757.txt\"\n",
      "C:\\Users\\barry\\Anaconda3\\lib\\site-packages\\ipykernel_launcher.py:31: UserWarning: loadtxt: Empty input file: \"C:\\Users\\barry\\Desktop\\OpenSHAInterface\\src_intersect/src_1762.txt\"\n",
      "C:\\Users\\barry\\Anaconda3\\lib\\site-packages\\ipykernel_launcher.py:31: UserWarning: loadtxt: Empty input file: \"C:\\Users\\barry\\Desktop\\OpenSHAInterface\\src_intersect/src_2150.txt\"\n",
      "C:\\Users\\barry\\Anaconda3\\lib\\site-packages\\ipykernel_launcher.py:31: UserWarning: loadtxt: Empty input file: \"C:\\Users\\barry\\Desktop\\OpenSHAInterface\\src_intersect/src_2151.txt\"\n",
      "C:\\Users\\barry\\Anaconda3\\lib\\site-packages\\ipykernel_launcher.py:31: UserWarning: loadtxt: Empty input file: \"C:\\Users\\barry\\Desktop\\OpenSHAInterface\\src_intersect/src_2161.txt\"\n",
      "C:\\Users\\barry\\Anaconda3\\lib\\site-packages\\ipykernel_launcher.py:31: UserWarning: loadtxt: Empty input file: \"C:\\Users\\barry\\Desktop\\OpenSHAInterface\\src_intersect/src_2162.txt\"\n",
      "C:\\Users\\barry\\Anaconda3\\lib\\site-packages\\ipykernel_launcher.py:31: UserWarning: loadtxt: Empty input file: \"C:\\Users\\barry\\Desktop\\OpenSHAInterface\\src_intersect/src_2199.txt\"\n",
      "C:\\Users\\barry\\Anaconda3\\lib\\site-packages\\ipykernel_launcher.py:31: UserWarning: loadtxt: Empty input file: \"C:\\Users\\barry\\Desktop\\OpenSHAInterface\\src_intersect/src_2201.txt\"\n",
      "C:\\Users\\barry\\Anaconda3\\lib\\site-packages\\ipykernel_launcher.py:31: UserWarning: loadtxt: Empty input file: \"C:\\Users\\barry\\Desktop\\OpenSHAInterface\\src_intersect/src_2298.txt\"\n",
      "C:\\Users\\barry\\Anaconda3\\lib\\site-packages\\ipykernel_launcher.py:31: UserWarning: loadtxt: Empty input file: \"C:\\Users\\barry\\Desktop\\OpenSHAInterface\\src_intersect/src_2335.txt\"\n",
      "C:\\Users\\barry\\Anaconda3\\lib\\site-packages\\ipykernel_launcher.py:31: UserWarning: loadtxt: Empty input file: \"C:\\Users\\barry\\Desktop\\OpenSHAInterface\\src_intersect/src_2393.txt\"\n",
      "C:\\Users\\barry\\Anaconda3\\lib\\site-packages\\ipykernel_launcher.py:31: UserWarning: loadtxt: Empty input file: \"C:\\Users\\barry\\Desktop\\OpenSHAInterface\\src_intersect/src_2434.txt\"\n",
      "C:\\Users\\barry\\Anaconda3\\lib\\site-packages\\ipykernel_launcher.py:31: UserWarning: loadtxt: Empty input file: \"C:\\Users\\barry\\Desktop\\OpenSHAInterface\\src_intersect/src_2664.txt\"\n",
      "C:\\Users\\barry\\Anaconda3\\lib\\site-packages\\ipykernel_launcher.py:31: UserWarning: loadtxt: Empty input file: \"C:\\Users\\barry\\Desktop\\OpenSHAInterface\\src_intersect/src_2748.txt\"\n",
      "C:\\Users\\barry\\Anaconda3\\lib\\site-packages\\ipykernel_launcher.py:31: UserWarning: loadtxt: Empty input file: \"C:\\Users\\barry\\Desktop\\OpenSHAInterface\\src_intersect/src_2891.txt\"\n",
      "C:\\Users\\barry\\Anaconda3\\lib\\site-packages\\ipykernel_launcher.py:31: UserWarning: loadtxt: Empty input file: \"C:\\Users\\barry\\Desktop\\OpenSHAInterface\\src_intersect/src_2954.txt\"\n",
      "C:\\Users\\barry\\Anaconda3\\lib\\site-packages\\ipykernel_launcher.py:31: UserWarning: loadtxt: Empty input file: \"C:\\Users\\barry\\Desktop\\OpenSHAInterface\\src_intersect/src_2959.txt\"\n",
      "C:\\Users\\barry\\Anaconda3\\lib\\site-packages\\ipykernel_launcher.py:31: UserWarning: loadtxt: Empty input file: \"C:\\Users\\barry\\Desktop\\OpenSHAInterface\\src_intersect/src_2971.txt\"\n",
      "C:\\Users\\barry\\Anaconda3\\lib\\site-packages\\ipykernel_launcher.py:31: UserWarning: loadtxt: Empty input file: \"C:\\Users\\barry\\Desktop\\OpenSHAInterface\\src_intersect/src_3284.txt\"\n",
      "C:\\Users\\barry\\Anaconda3\\lib\\site-packages\\ipykernel_launcher.py:31: UserWarning: loadtxt: Empty input file: \"C:\\Users\\barry\\Desktop\\OpenSHAInterface\\src_intersect/src_3412.txt\"\n",
      "C:\\Users\\barry\\Anaconda3\\lib\\site-packages\\ipykernel_launcher.py:31: UserWarning: loadtxt: Empty input file: \"C:\\Users\\barry\\Desktop\\OpenSHAInterface\\src_intersect/src_3451.txt\"\n",
      "C:\\Users\\barry\\Anaconda3\\lib\\site-packages\\ipykernel_launcher.py:31: UserWarning: loadtxt: Empty input file: \"C:\\Users\\barry\\Desktop\\OpenSHAInterface\\src_intersect/src_3501.txt\"\n",
      "C:\\Users\\barry\\Anaconda3\\lib\\site-packages\\ipykernel_launcher.py:31: UserWarning: loadtxt: Empty input file: \"C:\\Users\\barry\\Desktop\\OpenSHAInterface\\src_intersect/src_3511.txt\"\n",
      "C:\\Users\\barry\\Anaconda3\\lib\\site-packages\\ipykernel_launcher.py:31: UserWarning: loadtxt: Empty input file: \"C:\\Users\\barry\\Desktop\\OpenSHAInterface\\src_intersect/src_3554.txt\"\n",
      "C:\\Users\\barry\\Anaconda3\\lib\\site-packages\\ipykernel_launcher.py:31: UserWarning: loadtxt: Empty input file: \"C:\\Users\\barry\\Desktop\\OpenSHAInterface\\src_intersect/src_3583.txt\"\n",
      "C:\\Users\\barry\\Anaconda3\\lib\\site-packages\\ipykernel_launcher.py:31: UserWarning: loadtxt: Empty input file: \"C:\\Users\\barry\\Desktop\\OpenSHAInterface\\src_intersect/src_3663.txt\"\n",
      "C:\\Users\\barry\\Anaconda3\\lib\\site-packages\\ipykernel_launcher.py:31: UserWarning: loadtxt: Empty input file: \"C:\\Users\\barry\\Desktop\\OpenSHAInterface\\src_intersect/src_3717.txt\"\n",
      "C:\\Users\\barry\\Anaconda3\\lib\\site-packages\\ipykernel_launcher.py:31: UserWarning: loadtxt: Empty input file: \"C:\\Users\\barry\\Desktop\\OpenSHAInterface\\src_intersect/src_3835.txt\"\n",
      "C:\\Users\\barry\\Anaconda3\\lib\\site-packages\\ipykernel_launcher.py:31: UserWarning: loadtxt: Empty input file: \"C:\\Users\\barry\\Desktop\\OpenSHAInterface\\src_intersect/src_3862.txt\"\n",
      "C:\\Users\\barry\\Anaconda3\\lib\\site-packages\\ipykernel_launcher.py:31: UserWarning: loadtxt: Empty input file: \"C:\\Users\\barry\\Desktop\\OpenSHAInterface\\src_intersect/src_3894.txt\"\n",
      "C:\\Users\\barry\\Anaconda3\\lib\\site-packages\\ipykernel_launcher.py:31: UserWarning: loadtxt: Empty input file: \"C:\\Users\\barry\\Desktop\\OpenSHAInterface\\src_intersect/src_3931.txt\"\n",
      "C:\\Users\\barry\\Anaconda3\\lib\\site-packages\\ipykernel_launcher.py:31: UserWarning: loadtxt: Empty input file: \"C:\\Users\\barry\\Desktop\\OpenSHAInterface\\src_intersect/src_3940.txt\"\n",
      "C:\\Users\\barry\\Anaconda3\\lib\\site-packages\\ipykernel_launcher.py:31: UserWarning: loadtxt: Empty input file: \"C:\\Users\\barry\\Desktop\\OpenSHAInterface\\src_intersect/src_3956.txt\"\n",
      "C:\\Users\\barry\\Anaconda3\\lib\\site-packages\\ipykernel_launcher.py:31: UserWarning: loadtxt: Empty input file: \"C:\\Users\\barry\\Desktop\\OpenSHAInterface\\src_intersect/src_4117.txt\"\n",
      "C:\\Users\\barry\\Anaconda3\\lib\\site-packages\\ipykernel_launcher.py:31: UserWarning: loadtxt: Empty input file: \"C:\\Users\\barry\\Desktop\\OpenSHAInterface\\src_intersect/src_4120.txt\"\n",
      "C:\\Users\\barry\\Anaconda3\\lib\\site-packages\\ipykernel_launcher.py:31: UserWarning: loadtxt: Empty input file: \"C:\\Users\\barry\\Desktop\\OpenSHAInterface\\src_intersect/src_4136.txt\"\n",
      "C:\\Users\\barry\\Anaconda3\\lib\\site-packages\\ipykernel_launcher.py:31: UserWarning: loadtxt: Empty input file: \"C:\\Users\\barry\\Desktop\\OpenSHAInterface\\src_intersect/src_4158.txt\"\n"
     ]
    },
    {
     "name": "stdout",
     "output_type": "stream",
     "text": [
      "folder 100: 0_99---   0.974392 seconds ---\n"
     ]
    }
   ],
   "source": [
    "## Surface fault rupture\n",
    "time_start = time.time()\n",
    "\n",
    "dir_intersect = r'C:\\Users\\barry\\Desktop\\OpenSHAInterface\\src_intersect'\n",
    "multi = 0\n",
    "range_start = 0+100*multi\n",
    "range_end = range_start+1\n",
    "flag_sample_exist = True\n",
    "\n",
    "##\n",
    "for im_group in groups2run[range_start:range_end]:\n",
    "    #####################################################################\n",
    "    count += 1\n",
    "    path_sample = im_dir+'/'+im_group+'/'\n",
    "    \n",
    "    #####################################################################\n",
    "    ## load GM predictions and create random variable\n",
    "    A.create_RV(im_tool, site_loc_file, im_dir, im_list, rup_meta_file, flag_clear_dict=True, \n",
    "                flag_sample_exist=flag_sample_exist, im_group=im_group, num_rups=num_rups)\n",
    "\n",
    "    #####################################################################\n",
    "    ## set up for surface fault rupture\n",
    "    rows = []\n",
    "    cols = []\n",
    "    dim_rup = len(A._RV_dict['rup']['src'])\n",
    "    print(dim_rup)\n",
    "    dim_d = len(A._rup_site_dict['site_lon'])\n",
    "    count = 0\n",
    "    for src in A._RV_dict['rup']['src']:\n",
    "        try:\n",
    "            seg_list = np.loadtxt(dir_intersect+'/src_'+str(src)+'.txt',dtype=int,ndmin=1)\n",
    "        except Warning():\n",
    "            pass\n",
    "        for seg in seg_list:\n",
    "            rows.append(count)\n",
    "            cols.append(seg)\n",
    "        count += 1\n",
    "    rows = np.asarray(rows)\n",
    "    cols = np.asarray(cols)\n",
    "    mat = sparse.coo_matrix((np.ones(len(rows)),(rows,cols)),shape=(dim_rup,dim_d))\n",
    "    \n",
    "    #####################################################################\n",
    "    ## get pgd_gs from HAZUS (FEMA, 2014)\n",
    "    category = 'surf'\n",
    "    method = 'wells_coppersmith_1994'\n",
    "    return_param = ['pgd_surf']\n",
    "    flag_M = True\n",
    "    A.get_EDP(category=category, method=method, return_param=return_param, flag_M=flag_M, mat_seg2calc=mat)\n",
    "\n",
    "    #####################################################################\n",
    "    dm_method = []\n",
    "    ## get rr from ALA (2001)\n",
    "    category = 'rr'\n",
    "    method = 'orourke_2020_rr'\n",
    "    return_param = ['rr_pgd']\n",
    "    source_dict = ['_EDP_dict']\n",
    "    source_param = ['pgd_surf']\n",
    "    source_method = ['wells_coppersmith_1994']\n",
    "    pgd_label = 'pgd_surf'\n",
    "    pgd_cutoff = 1\n",
    "    dm_method.append(method[0:method.find('_')])\n",
    "    A.get_DM(category=category, method=method, return_param=return_param,\n",
    "             source_dict=source_dict, source_param=source_param, source_method=source_method, nsamp=1,\n",
    "             pgd_cutoff=pgd_cutoff, pgd_label=pgd_label)\n",
    "\n",
    "    #####################################################################\n",
    "#     if count % inc1 == 0:\n",
    "    print('folder '+str(count)+': '+im_group+'--- %10.6f seconds ---' % (time.time() - time_start))\n",
    "    time_start = time.time()\n",
    "\n",
    "#     ####################################################################\n",
    "#     print('saved file')\n",
    "#     for i in range(len(return_param)):\n",
    "#         count_dm = 0\n",
    "#         str_src = '_gs'\n",
    "#         str_dw = None\n",
    "#         for j in A._DM_dict[return_param[i]]:\n",
    "#             save_name = dm_dir+'/'+return_param[i]+'_'+dm_method[count_dm]+str_src+'_all.txt'\n",
    "#             np.savetxt(save_name,np.transpose(A._DM_dict[return_param[i]][j]['output']),fmt='%6.4E')\n",
    "#             count_dm += 1"
   ]
  },
  {
   "cell_type": "code",
   "execution_count": 15,
   "metadata": {},
   "outputs": [
    {
     "data": {
      "text/plain": [
       "{'pgd_surf': {'method1': {'method': 'wells_coppersmith_1994',\n",
       "   'source_param': None,\n",
       "   'source_method': None,\n",
       "   'output': <100x123316 sparse matrix of type '<class 'numpy.float64'>'\n",
       "   \twith 297 stored elements in COOrdinate format>}}}"
      ]
     },
     "execution_count": 15,
     "metadata": {},
     "output_type": "execute_result"
    }
   ],
   "source": [
    "A._EDP_dict"
   ]
  },
  {
   "cell_type": "code",
   "execution_count": null,
   "metadata": {},
   "outputs": [],
   "source": []
  }
 ],
 "metadata": {
  "kernelspec": {
   "display_name": "Python 3",
   "language": "python",
   "name": "python3"
  },
  "language_info": {
   "codemirror_mode": {
    "name": "ipython",
    "version": 3
   },
   "file_extension": ".py",
   "mimetype": "text/x-python",
   "name": "python",
   "nbconvert_exporter": "python",
   "pygments_lexer": "ipython3",
   "version": "3.7.4"
  }
 },
 "nbformat": 4,
 "nbformat_minor": 4
}
