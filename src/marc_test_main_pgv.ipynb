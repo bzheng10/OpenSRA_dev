{
 "cells": [
  {
   "cell_type": "code",
   "execution_count": 1,
   "metadata": {},
   "outputs": [],
   "source": [
    "## required packages\n",
    "import numpy as np\n",
    "# import matplotlib.pyplot as plt\n",
    "# import os, time\n",
    "import importlib\n",
    "import im.fcn_im as fcn_im\n",
    "import pandas as pd\n",
    "# from numpy.random import standard_normal\n",
    "# from scipy.linalg import cholesky\n",
    "import model, fcn_gen, os, time\n",
    "from scipy import sparse\n",
    "# import OpenSHAInterface as sha"
   ]
  },
  {
   "cell_type": "code",
   "execution_count": 2,
   "metadata": {},
   "outputs": [
    {
     "data": {
      "text/plain": [
       "1977"
      ]
     },
     "execution_count": 2,
     "metadata": {},
     "output_type": "execute_result"
    }
   ],
   "source": [
    "# base inputs\n",
    "site_loc_file = r'C:\\Users\\barry\\Desktop\\OpenSHAInterface\\CA_pipe_midpt_allsites.txt'\n",
    "rate_min = 1/10000\n",
    "im_tool = 'sha'\n",
    "\n",
    "im_dir = r'C:\\Users\\barry\\Desktop\\OpenSHAInterface\\im_output_10000yr_allsites'\n",
    "dm_dir = r'C:\\Users\\barry\\Desktop\\OpenSHAInterface\\rr_out'\n",
    "rup_meta_file = r'C:\\Users\\barry\\Desktop\\OpenSHAInterface\\rup_meta_10000yr_allsites.hdf5'\n",
    "# sha_meta_file = r'C:\\Users\\barry\\Desktop\\OpenSHAInterface\\sha_meta_10000yr.txt'\n",
    "groups2run = np.loadtxt(r'C:\\Users\\barry\\Desktop\\OpenSHAInterface\\groups2run_allsites.txt',dtype=str)\n",
    "group_num = 0\n",
    "num_rups = 2\n",
    "im_list = ['pgv']\n",
    "\n",
    "## define number of realizations and generate samples\n",
    "nsamp=10\n",
    "flag_corr_d = False\n",
    "flag_corr_T = False\n",
    "# geo_cond = 2 #  for spatial correlation\n",
    "\n",
    "len(groups2run)"
   ]
  },
  {
   "cell_type": "code",
   "execution_count": 3,
   "metadata": {},
   "outputs": [],
   "source": [
    "##\n",
    "list_coord_marc = np.asarray([[-121.959102,37.952594],\n",
    "                  [-121.969138,37.944882],\n",
    "                  [-121.66069,38.012081],\n",
    "                  [-121.660565,38.020377],\n",
    "                  [-121.508865,37.973593],\n",
    "                  [-121.507891,37.983513],\n",
    "                  [-121.269766,38.128762],\n",
    "                  [-121.26935,38.135931]])\n",
    "ind_marc = [41305, 41312, 29515, 40960, 38581, 76484, 530, 523]\n",
    "rup_marc = [10, 8, 62]\n",
    "samp_marc = 5"
   ]
  },
  {
   "cell_type": "code",
   "execution_count": 7,
   "metadata": {},
   "outputs": [],
   "source": [
    "## reload model.py if it has been modified\n",
    "importlib.reload(model)\n",
    "## create class object\n",
    "A = model.assessment()"
   ]
  },
  {
   "cell_type": "code",
   "execution_count": 8,
   "metadata": {},
   "outputs": [],
   "source": [
    "count = 0\n",
    "inc1 = 5\n",
    "inc2 = 100\n",
    "# out = {}\n",
    "time_start = time.time()"
   ]
  },
  {
   "cell_type": "code",
   "execution_count": 9,
   "metadata": {},
   "outputs": [
    {
     "name": "stdout",
     "output_type": "stream",
     "text": [
      "10\n",
      "hazus_2014_rr\n",
      "[0.00205299 0.00191743 0.0011977  0.00241055 0.00620862 0.00123407\n",
      " 0.00276242 0.00189023]\n",
      " \n",
      "8\n",
      "hazus_2014_rr\n",
      "[1.36438462 3.46218829 0.02037376 0.29553989 0.16962114 0.01882809\n",
      " 0.01315913 0.02700143]\n",
      " \n",
      "62\n",
      "hazus_2014_rr\n",
      "[0.52250274 0.45301465 0.16922593 1.25959311 0.17201149 0.46250276\n",
      " 1.67916269 0.57020557]\n",
      " \n",
      "10\n",
      "orourke_2020_rr\n",
      "[0.0004797  0.00044464 0.00026359 0.00057338 0.0016405  0.0002725\n",
      " 0.0006671  0.00043763]\n",
      " \n",
      "8\n",
      "orourke_2020_rr\n",
      "[0.65634917 1.84707139 0.00614321 0.11995015 0.06472496 0.0056276\n",
      " 0.0037797  0.00840043]\n",
      " \n",
      "62\n",
      "orourke_2020_rr\n",
      "[0.22592809 0.19280027 0.06455742 0.60058173 0.06573922 0.19729222\n",
      " 0.82662442 0.24895966]\n",
      " \n"
     ]
    }
   ],
   "source": [
    "## for generating samples\n",
    "multi = 0\n",
    "range_start = 0+100*multi\n",
    "range_end = range_start+1\n",
    "# range_end = range_start+1\n",
    "flag_sample_exist = True\n",
    "for im_group in groups2run[range_start:range_end]:\n",
    "    #####################################################################\n",
    "    count += 1\n",
    "    path_sample = im_dir+'/'+im_group+'/'\n",
    "    \n",
    "    #####################################################################\n",
    "    ## load GM predictions and create random variable\n",
    "    A.create_RV(im_tool, site_loc_file, im_dir, im_list, rup_meta_file, flag_clear_dict=True, \n",
    "                flag_sample_exist=flag_sample_exist, im_group=im_group, num_rups=num_rups)\n",
    "\n",
    "    #####################################################################\n",
    "    ## generate/import samples\n",
    "    A.get_IM(nsamp, im_list, flag_corr_d, flag_corr_T, flag_clear_dict=True, \n",
    "            flag_sample_exist=flag_sample_exist,path_sample=path_sample)\n",
    "\n",
    "    if flag_sample_exist is False:\n",
    "        for i in range(nsamp):\n",
    "            out1 = sparse.csc_matrix(np.round(A._IM_dict['pgv'][i].log1p(),decimals=3))\n",
    "            out2 = sparse.csc_matrix(np.round(A._IM_dict['pga'][i].log1p(),decimals=3))\n",
    "            sparse.save_npz(im_dir+'/'+im_group+'/'+'pgv_samp_'+str(i)+'.npz',out1)\n",
    "            sparse.save_npz(im_dir+'/'+im_group+'/'+'pga_samp_'+str(i)+'.npz',out2)\n",
    "\n",
    "    #####################################################################\n",
    "    dm_method = []\n",
    "    ## get rr from HAZUS (FEMA, 2014)\n",
    "    category = 'rr'\n",
    "    method = 'hazus_2014_rr'\n",
    "    return_param = ['rr_pgv']\n",
    "    flag_pgv = True\n",
    "    dm_method.append(method[0:method.find('_')])\n",
    "    A.get_DM(category, method, return_param, im_list, flag_clear_dict=False,\n",
    "             flag_pgv=flag_pgv, nsamp=nsamp)\n",
    "#     print(A._DM_dict['rr_pgv']['method1']['output'][0][0:5])\n",
    "    \n",
    "    ## get rr from ALA (2001)\n",
    "    category = 'rr'\n",
    "    method = 'orourke_2020_rr'\n",
    "    return_param = ['rr_pgv']\n",
    "    flag_pgv = True\n",
    "    dm_method.append(method[0:method.find('_')])\n",
    "    A.get_DM(category, method, return_param, im_list, flag_clear_dict=False,\n",
    "             flag_pgv=flag_pgv, nsamp=nsamp)\n",
    "#     print(A._DM_dict['rr_pgv']['method2']['output'][0][0:5])\n",
    "\n",
    "    #####################################################################\n",
    "#     if count % inc1 == 0:\n",
    "#     print('folder '+str(count)+': '+im_group+'--- %10.6f seconds ---' % (time.time() - time_start))\n",
    "#     time_start = time.time()\n",
    "\n",
    "    #####################################################################\n",
    "#     if count % inc2 == 0 or count == len(groups2run)-1:\n",
    "#         print('saved files: '+str(range_start)+'_'+str(range_end))\n",
    "#         for i in range(len(return_param)):\n",
    "#             count_dm = 0\n",
    "#             for j in A._DM_dict[return_param[i]]:\n",
    "#                 save_name = dm_dir+'/'+return_param[i]+'_'+dm_method[count_dm]+'_'+str(range_start)+'_'+str(range_end)+'.txt'\n",
    "# #                 print(save_name)\n",
    "#                 np.savetxt(save_name,np.transpose(A._DM_dict[return_param[i]][j]['output']),fmt='%6.4E')\n",
    "#                 count_dm += 1"
   ]
  },
  {
   "cell_type": "code",
   "execution_count": 31,
   "metadata": {},
   "outputs": [],
   "source": [
    "rup_marc = [10, 8, 62]"
   ]
  },
  {
   "cell_type": "code",
   "execution_count": 32,
   "metadata": {},
   "outputs": [
    {
     "data": {
      "text/plain": [
       "array([5.95459511, 6.93157737, 7.71964645])"
      ]
     },
     "execution_count": 32,
     "metadata": {},
     "output_type": "execute_result"
    }
   ],
   "source": [
    "A._RV_dict['rup']['M'][rup_marc]"
   ]
  },
  {
   "cell_type": "code",
   "execution_count": 33,
   "metadata": {},
   "outputs": [
    {
     "data": {
      "text/plain": [
       "array([0.00012348, 0.01114423, 0.00016967])"
      ]
     },
     "execution_count": 33,
     "metadata": {},
     "output_type": "execute_result"
    }
   ],
   "source": [
    "A._RV_dict['rup']['rate'][rup_marc]"
   ]
  },
  {
   "cell_type": "code",
   "execution_count": 38,
   "metadata": {},
   "outputs": [],
   "source": [
    "pgv = A._IM_dict['pgv'][0].toarray()"
   ]
  },
  {
   "cell_type": "code",
   "execution_count": 41,
   "metadata": {},
   "outputs": [
    {
     "data": {
      "text/plain": [
       "array([19.36871204,  1.74560102, 17.7276305 , 21.28692091, 19.02537061,\n",
       "       11.87129966,  6.89318714,  8.74739432])"
      ]
     },
     "execution_count": 41,
     "metadata": {},
     "output_type": "execute_result"
    }
   ],
   "source": [
    "pgv[:,ind_marc][6]"
   ]
  },
  {
   "cell_type": "code",
   "execution_count": 65,
   "metadata": {},
   "outputs": [
    {
     "data": {
      "text/plain": [
       "{'rr_pgv': {'method1': {'method': 'hazus_2014_rr',\n",
       "   'source_param': None,\n",
       "   'source_method': None,\n",
       "   'output': array([[0.00117442, 0.00075226, 0.00058834, ..., 0.00026506, 0.00046348,\n",
       "           0.00080263],\n",
       "          [0.00042003, 0.00050017, 0.00016908, ..., 0.000579  , 0.00034428,\n",
       "           0.00032627],\n",
       "          [0.00048442, 0.00030545, 0.0004575 , ..., 0.00045737, 0.0002526 ,\n",
       "           0.00038607],\n",
       "          ...,\n",
       "          [0.00022358, 0.00036343, 0.00063471, ..., 0.00022467, 0.00024973,\n",
       "           0.00072461],\n",
       "          [0.00053118, 0.00031321, 0.00042446, ..., 0.00046433, 0.00105056,\n",
       "           0.00036599],\n",
       "          [0.00045225, 0.00022892, 0.00093258, ..., 0.00039517, 0.00060365,\n",
       "           0.00069788]])},\n",
       "  'method2': {'method': 'orourke_2020_rr',\n",
       "   'source_param': None,\n",
       "   'source_method': None,\n",
       "   'output': array([[4.78546915e-04, 2.92018252e-04, 2.35861597e-04, ...,\n",
       "           1.11981796e-04, 1.91499204e-04, 3.61532439e-04],\n",
       "          [1.57100873e-04, 1.90104963e-04, 6.02353688e-05, ...,\n",
       "           2.46243041e-04, 1.32515055e-04, 1.32216619e-04],\n",
       "          [1.80842514e-04, 1.05767775e-04, 1.67450280e-04, ...,\n",
       "           2.01063422e-04, 9.75458894e-05, 1.72493450e-04],\n",
       "          ...,\n",
       "          [8.31395993e-05, 1.35937683e-04, 2.43384570e-04, ...,\n",
       "           9.19347107e-05, 9.58868304e-05, 3.46742567e-04],\n",
       "          [2.00262909e-04, 1.10760303e-04, 1.54413913e-04, ...,\n",
       "           2.01624293e-04, 5.07983044e-04, 1.41047150e-04],\n",
       "          [1.87511277e-04, 8.54379254e-05, 3.75148614e-04, ...,\n",
       "           1.63992725e-04, 2.86540997e-04, 3.16873314e-04]])}}}"
      ]
     },
     "execution_count": 65,
     "metadata": {},
     "output_type": "execute_result"
    }
   ],
   "source": [
    "A._DM_dict"
   ]
  },
  {
   "cell_type": "code",
   "execution_count": 64,
   "metadata": {},
   "outputs": [
    {
     "name": "stdout",
     "output_type": "stream",
     "text": [
      "10: 5.95459510870155, 0.00012348449023624983\n",
      "[3.83074162 3.71618401 3.01485005 4.11409268 6.26450384 3.05519997\n",
      " 4.37092421 3.69266194]\n",
      "8: 6.639466161281467, 0.001702372352063113\n",
      "[ 68.82555079 104.10922     10.62316396  34.87354085  27.24735995\n",
      "  10.2571108    8.74739432  12.03971891]\n",
      "62: 7.618024588567435, 0.0001418795360809041\n",
      "[44.92455769 42.16370586 27.21912671 66.42393004 27.41735358 42.5539326\n",
      " 75.47776156 46.70327243]\n"
     ]
    }
   ],
   "source": [
    "rup_marc = [10, 8, 62]\n",
    "pgv = A._IM_dict['pgv'][5].toarray()\n",
    "for i in rup_marc:\n",
    "#     if pgv[i,ind_marc[0]] > 0:\n",
    "    print(str(i)+': '+str(A._RV_dict['rup']['M'][i])+', '+str(A._RV_dict['rup']['rate'][i]))\n",
    "    print(pgv[i,ind_marc])"
   ]
  },
  {
   "cell_type": "code",
   "execution_count": null,
   "metadata": {},
   "outputs": [],
   "source": []
  },
  {
   "cell_type": "code",
   "execution_count": null,
   "metadata": {},
   "outputs": [],
   "source": []
  }
 ],
 "metadata": {
  "kernelspec": {
   "display_name": "Python 3",
   "language": "python",
   "name": "python3"
  },
  "language_info": {
   "codemirror_mode": {
    "name": "ipython",
    "version": 3
   },
   "file_extension": ".py",
   "mimetype": "text/x-python",
   "name": "python",
   "nbconvert_exporter": "python",
   "pygments_lexer": "ipython3",
   "version": "3.7.4"
  }
 },
 "nbformat": 4,
 "nbformat_minor": 4
}
