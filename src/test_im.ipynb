{
 "cells": [
  {
   "cell_type": "code",
   "execution_count": 2,
   "metadata": {},
   "outputs": [],
   "source": [
    "## required packages\n",
    "import os, h5py, time\n",
    "import numpy as np\n",
    "from scipy import sparse"
   ]
  },
  {
   "cell_type": "code",
   "execution_count": 4,
   "metadata": {},
   "outputs": [],
   "source": [
    "# file_dir = 'D:\\\\OpenSHAInterface\\\\'\n",
    "file_dir = 'C:\\\\Users\\Barry\\\\Desktop\\\\OpenSHAInterface\\\\'\n",
    "im_dir = file_dir + 'im_output\\\\'\n",
    "rup_meta_file = file_dir + 'rup_meta.hdf5'\n",
    "sha_meta_file = file_dir + 'sha_meta.txt'\n",
    "rup_num_start = 1\n",
    "rup_num_end = 2"
   ]
  },
  {
   "cell_type": "code",
   "execution_count": 7,
   "metadata": {},
   "outputs": [
    {
     "name": "stdout",
     "output_type": "stream",
     "text": [
      "0.11491012573242188\n"
     ]
    }
   ],
   "source": [
    "start_time = time.time()\n",
    "im_in, rup_meta = read_OpenSHAInterface(im_dir,rup_meta_file,sha_meta_file,1,10)\n",
    "print(time.time()-start_time)"
   ]
  },
  {
   "cell_type": "code",
   "execution_count": 9,
   "metadata": {},
   "outputs": [
    {
     "data": {
      "text/plain": [
       "dict_keys(['247_0', '350_0', '1001_0', '1143_0', '1180_0', '1574_0', '2096_0', '2161_0', '2297_0'])"
      ]
     },
     "execution_count": 9,
     "metadata": {},
     "output_type": "execute_result"
    }
   ],
   "source": [
    "im_in.keys()"
   ]
  },
  {
   "cell_type": "code",
   "execution_count": 10,
   "metadata": {},
   "outputs": [
    {
     "data": {
      "text/plain": [
       "dict_keys(['247_0', '350_0', '1001_0', '1143_0', '1180_0', '1574_0', '2096_0', '2151_0', '2161_0', '2297_0'])"
      ]
     },
     "execution_count": 10,
     "metadata": {},
     "output_type": "execute_result"
    }
   ],
   "source": [
    "rup_meta.keys()"
   ]
  },
  {
   "cell_type": "code",
   "execution_count": 6,
   "metadata": {},
   "outputs": [],
   "source": [
    "def read_OpenSHAInterface(im_dir, rup_meta_file, sha_meta_file, rup_num_start, rup_num_end):\n",
    "\t\"\"\"\n",
    "\tRead outputs from OpenSHAInterface wrapper\n",
    "\t\n",
    "\tParameters\n",
    "\t----------\n",
    "\tim_dir : str\n",
    "\t\tdirectory of the **IM** outputs from OpenSHAInterface\n",
    "\trup_meta_file : str\n",
    "\t\tfull path for the file containing rupture metadata\n",
    "\tsha_meta_file : str\n",
    "\t\tfull path for the file containing metadata from OpenSHAInterface\n",
    "\trup_num_start : int\n",
    "\t\tstarting rupture number (1 through nRups); default = 1\n",
    "\trup_num_end : int\n",
    "\t\tending rupture nubmer (1 through nRups); default = 1e10 (e.g., all ruptures)\n",
    "\t\t\n",
    "\tReturns\n",
    "\t-------\n",
    "\tim_in : float, dict\n",
    "\t\tdictionary containing the nonzero site indices, and **PGA** and **PGV** predictions (i.e., means, sigmas)\n",
    "\trup_meta : float, dict\n",
    "\t\tdictionary containing the rupture scenario information (UCERF3 index, magnitude, mean annual rate)\n",
    "\t\n",
    "\t\"\"\"\n",
    "\t\n",
    "\t## open rup_meta_file and load in rupture information\n",
    "\twith h5py.File(rup_meta_file, 'r') as f:\n",
    "\t\tsrc = f.get('src')[:]\n",
    "\t\trup = f.get('rup')[:]\n",
    "\t\tM = f.get('M')[:]\n",
    "\t\trate = f.get('rate')[:]\n",
    "\tf.close()\n",
    "\t\t\n",
    "\t## number of rupture scenarios\n",
    "\tnRups = len(rup)\n",
    "\t\n",
    "\t## load sha_meta_file and extra information on nonzero IMs (sparse coordinates)\n",
    "\tsha_meta = np.loadtxt(sha_meta_file,delimiter=',',unpack=True)\n",
    "\t\n",
    "\t## extract start and end rupture numbers for importing \n",
    "\trup_start = sha_meta[1].astype(np.int32)\n",
    "\trup_end = sha_meta[2].astype(np.int32)\n",
    "\tnFiles = len(rup_start)\n",
    "\ti_start = 0 if rup_num_start == 0 else next(ind-1 for ind in range(nFiles) if rup_start[ind] >= rup_num_start)\n",
    "\ti_end = nFiles-1 if rup_num_end >= rup_end[nFiles-1]+1 else next(ind for ind in range(nFiles) if rup_end[ind]+1 >= rup_num_end)\n",
    "\t\n",
    "\t## create list of ruptures to import based on input\n",
    "\trup_list = np.arange(rup_num_start-1,min(rup_num_end,rup_end[nFiles-1]+1))\n",
    "\t\n",
    "\t## loop to impot im_data\n",
    "\tfor i in range(i_start, i_end+1):\n",
    "\t\t## range of ruptures in file to be loaded\n",
    "\t\trup_start_i = rup_start[i]\n",
    "\t\trup_end_i = rup_end[i]\n",
    "\t\t\n",
    "\t\t## load file, store into im_data, then close\n",
    "\t\tim_file = 'im_' + str(rup_start_i) + '_' + str(rup_end_i) + '.hdf5' ## im file name to load\n",
    "\t\twith h5py.File(im_dir+im_file, 'r') as f:\n",
    "\t\t\tim_data = f.get('im')[:]\n",
    "\t\tf.close()\n",
    "\t\t\n",
    "\t\t## get the counting index for the rupture (not UCERF3 index)\n",
    "\t\trow = im_data[0].astype(np.int32)\n",
    "\t\tcol = im_data[1].astype(np.int32) # load in nonzero cols now, easier to convert to integers\n",
    "\t\t\n",
    "\t\t## store ruptures that are in rup_list\n",
    "\t\tim_in = {}\n",
    "\t\tfor j in np.unique(row):\n",
    "\t\t\tif j in rup_list:\n",
    "\t\t\t\tim_in.update({str(src[j])+'_'+str(rup[j]):{'site_nonzero':col[row==i], \n",
    "\t\t\t\t\t\t\t\t\t\t\t\t\t\t'pga_mean':im_data[2][row==i], \n",
    "\t\t\t\t\t\t\t\t\t\t\t\t\t\t'pga_sig_inter':im_data[3][row==i], \n",
    "\t\t\t\t\t\t\t\t\t\t\t\t\t\t'pga_sig_intra':im_data[4][row==i], \n",
    "\t\t\t\t\t\t\t\t\t\t\t\t\t\t'pgv_mean':im_data[5][row==i], \n",
    "\t\t\t\t\t\t\t\t\t\t\t\t\t\t'pgv_sig_inter':im_data[6][row==i], \n",
    "\t\t\t\t\t\t\t\t\t\t\t\t\t\t'pgv_sig_intra':im_data[7][row==i]}})\n",
    "\t\n",
    "\t## create rup_meta dictionary\n",
    "\trup_meta = {}\n",
    "\tfor i in rup_list:\n",
    "\t\trup_meta.update({str(src[i])+'_'+str(rup[i]):{'M':np.round(M[i],decimals=2),\n",
    "\t\t\t\t\t\t\t\t\t\t\t\t\t'r':np.round(rate[i],decimals=6)}})\n",
    "\n",
    "\t##\n",
    "\treturn im_in, rup_meta"
   ]
  },
  {
   "cell_type": "code",
   "execution_count": null,
   "metadata": {},
   "outputs": [],
   "source": []
  },
  {
   "cell_type": "code",
   "execution_count": null,
   "metadata": {},
   "outputs": [],
   "source": []
  },
  {
   "cell_type": "code",
   "execution_count": null,
   "metadata": {},
   "outputs": [],
   "source": [
    "with h5py.File(file_dir+meta_rup_file, 'r') as f:\n",
    "    src = f.get('src')[:]\n",
    "    rup = f.get('rup')[:]\n",
    "    M = f.get('M')[:]\n",
    "    rate = f.get('rate')[:]\n",
    "f.close()\n",
    "nRups = len(rup)\n",
    "nRups"
   ]
  },
  {
   "cell_type": "code",
   "execution_count": null,
   "metadata": {},
   "outputs": [],
   "source": [
    "meta_rup = {}\n",
    "for i in range(nRups):\n",
    "    meta_rup.update({str(src[i])+'_'+str(rup[i]):{'M':np.round(M[i],decimals=2),\n",
    "                                                  'r':np.round(rate[i],decimals=6)}})"
   ]
  },
  {
   "cell_type": "code",
   "execution_count": null,
   "metadata": {},
   "outputs": [],
   "source": [
    "meta_sha = np.loadtxt(file_dir+meta_sha_file,delimiter=',',unpack=True)"
   ]
  },
  {
   "cell_type": "code",
   "execution_count": null,
   "metadata": {},
   "outputs": [],
   "source": [
    "rup_start = meta_sha[1].astype(np.int32)\n",
    "rup_end = meta_sha[2].astype(np.int32)\n",
    "len_sparse = meta_sha[3].astype(np.int32)\n",
    "nFiles = len(rup_start)\n",
    "nFiles"
   ]
  },
  {
   "cell_type": "code",
   "execution_count": null,
   "metadata": {},
   "outputs": [],
   "source": [
    "im_list = ['pga', 'pgv']"
   ]
  },
  {
   "cell_type": "code",
   "execution_count": null,
   "metadata": {},
   "outputs": [],
   "source": [
    "i = 0\n",
    "im_data = {}\n",
    "im_file = 'im_' + str(rup_start[i]) + '_' + str(rup_end[i]) + '.hdf5'\n",
    "with h5py.File(im_data_dir+im_file, 'r') as f:\n",
    "    im_data = f.get('im')[:]\n",
    "f.close()"
   ]
  },
  {
   "cell_type": "code",
   "execution_count": null,
   "metadata": {},
   "outputs": [],
   "source": [
    "rup_end[i]-rup_start[i]"
   ]
  },
  {
   "cell_type": "code",
   "execution_count": null,
   "metadata": {},
   "outputs": [],
   "source": [
    "row = im_data[0].astype(np.int32)\n",
    "col = im_data[1].astype(np.int32)"
   ]
  },
  {
   "cell_type": "code",
   "execution_count": null,
   "metadata": {},
   "outputs": [],
   "source": [
    "sparse_start = []\n",
    "sparse_end = []\n",
    "im_in = {}\n",
    "start_time = time.time()\n",
    "for i in np.unique(row):\n",
    "    im_in.update({i:{'site':col[row==i], \n",
    "                     'pga':{'mean':im_data[2][row==i], \n",
    "                            'inter':im_data[3][row==i], \n",
    "                            'intra':im_data[4][row==i]}, \n",
    "                     'pgv':{'mean':im_data[5][row==i], \n",
    "                            'inter':im_data[6][row==i], \n",
    "                            'intra':im_data[7][row==i]}}})\n",
    "print('time -------%10.4f' % (time.time() - start_time))"
   ]
  },
  {
   "cell_type": "code",
   "execution_count": null,
   "metadata": {},
   "outputs": [],
   "source": [
    "next(j for j in range(len(row)) if row[j] > nRups*(i+1))"
   ]
  },
  {
   "cell_type": "code",
   "execution_count": null,
   "metadata": {},
   "outputs": [],
   "source": [
    "pga_mean = sparse.coo_matrix((im_data[2], (row, col)))"
   ]
  },
  {
   "cell_type": "code",
   "execution_count": null,
   "metadata": {},
   "outputs": [],
   "source": [
    "pga_mean"
   ]
  },
  {
   "cell_type": "code",
   "execution_count": null,
   "metadata": {},
   "outputs": [],
   "source": [
    "np.min(im_data[2])"
   ]
  },
  {
   "cell_type": "code",
   "execution_count": null,
   "metadata": {},
   "outputs": [],
   "source": [
    "np.unique(row)"
   ]
  },
  {
   "cell_type": "code",
   "execution_count": null,
   "metadata": {},
   "outputs": [],
   "source": [
    "col[0:100]"
   ]
  },
  {
   "cell_type": "code",
   "execution_count": null,
   "metadata": {},
   "outputs": [],
   "source": [
    "len(meta_sha[3])"
   ]
  },
  {
   "cell_type": "code",
   "execution_count": null,
   "metadata": {},
   "outputs": [],
   "source": [
    "# for i in range(nRups):\n",
    "#     im_data = {}\n",
    "#     for im in im_list:\n",
    "#         im_file = im + '_' + str(rup_start[i]) + '_' + str(rup_end[i]) + '.hdf5'\n",
    "#         with h5py.File(im_data_dir+im_file, 'r') as f:\n",
    "#             im_data.update({im: f.get(im)[:]})\n",
    "#         f.close()\n",
    "\n",
    "#     im_out = np.vstack([im_data['pga'],im_data['pgv'][2:5]])\n",
    "#     save_name = 'im_' + str(rup_start[i]) + '_' + str(rup_end[i]) + '.hdf5'\n",
    "#     with h5py.File(im_data_dir+save_name, 'w') as f:\n",
    "#         f.create_dataset('im', data=im_out)\n",
    "#     f.close()"
   ]
  },
  {
   "cell_type": "code",
   "execution_count": null,
   "metadata": {},
   "outputs": [],
   "source": [
    "rup_num_start=2"
   ]
  },
  {
   "cell_type": "code",
   "execution_count": null,
   "metadata": {},
   "outputs": [],
   "source": [
    "i_start = 0 if rup_num_start == 0 else next(ind-1 for ind in range(nFiles) if rup_start[ind] >= rup_num_start)\n",
    "i_start"
   ]
  },
  {
   "cell_type": "code",
   "execution_count": null,
   "metadata": {},
   "outputs": [],
   "source": [
    "rup_num_end = 99"
   ]
  },
  {
   "cell_type": "code",
   "execution_count": null,
   "metadata": {},
   "outputs": [],
   "source": [
    "i_end = nFiles-1 if rup_num_end >= rup_end[nFiles-1]+1 else next(ind for ind in range(nFiles) if rup_end[ind]+1 >= rup_num_end)"
   ]
  },
  {
   "cell_type": "code",
   "execution_count": null,
   "metadata": {},
   "outputs": [],
   "source": [
    "i_end"
   ]
  },
  {
   "cell_type": "code",
   "execution_count": null,
   "metadata": {},
   "outputs": [],
   "source": [
    "a = range(rup_num_start-1,min(rup_num_end-1,rup_end[nFiles-1]))\n",
    "a"
   ]
  },
  {
   "cell_type": "code",
   "execution_count": null,
   "metadata": {},
   "outputs": [],
   "source": [
    "2 in np.array([3,2])"
   ]
  },
  {
   "cell_type": "code",
   "execution_count": null,
   "metadata": {},
   "outputs": [],
   "source": [
    "im_data[2]"
   ]
  },
  {
   "cell_type": "code",
   "execution_count": null,
   "metadata": {},
   "outputs": [],
   "source": [
    "for a in [1,2,3]:\n",
    "    print(a)"
   ]
  },
  {
   "cell_type": "code",
   "execution_count": null,
   "metadata": {},
   "outputs": [],
   "source": []
  },
  {
   "cell_type": "code",
   "execution_count": null,
   "metadata": {},
   "outputs": [],
   "source": [
    "a = [0,0,0,1,1,1,2,2,2]\n",
    "b = [0,1,2,0,1,2,0,1,2]\n",
    "c = [2,3,5,0,2,3,0,0,1]"
   ]
  },
  {
   "cell_type": "code",
   "execution_count": null,
   "metadata": {},
   "outputs": [],
   "source": [
    "d = sparse.coo_matrix((c,(a,b)))"
   ]
  },
  {
   "cell_type": "code",
   "execution_count": null,
   "metadata": {},
   "outputs": [],
   "source": [
    "print(d.toarray())"
   ]
  },
  {
   "cell_type": "code",
   "execution_count": null,
   "metadata": {},
   "outputs": [],
   "source": [
    "im_file = 'im_0_99.hdf5'\n",
    "with h5py.File(im_dir+im_file, 'r') as f:\n",
    "    im_data = f.get('im')[:]\n",
    "f.close()\n",
    "rows = im_data[0]\n",
    "for i in np.unique(rows):\n",
    "    print('i = %d: avg = %6.3f, std = %6.3f' % (i, np.mean(im_data[6][rows==i]), np.std(im_data[6][rows==i])))"
   ]
  },
  {
   "cell_type": "code",
   "execution_count": null,
   "metadata": {},
   "outputs": [],
   "source": []
  }
 ],
 "metadata": {
  "kernelspec": {
   "display_name": "Python 3",
   "language": "python",
   "name": "python3"
  },
  "language_info": {
   "codemirror_mode": {
    "name": "ipython",
    "version": 3
   },
   "file_extension": ".py",
   "mimetype": "text/x-python",
   "name": "python",
   "nbconvert_exporter": "python",
   "pygments_lexer": "ipython3",
   "version": "3.7.4"
  }
 },
 "nbformat": 4,
 "nbformat_minor": 4
}
