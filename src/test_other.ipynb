{
 "cells": [
  {
   "cell_type": "code",
   "execution_count": null,
   "metadata": {},
   "outputs": [],
   "source": [
    "##### Required packages\n",
    "import numpy as np\n",
    "import os, time"
   ]
  },
  {
   "cell_type": "code",
   "execution_count": null,
   "metadata": {},
   "outputs": [],
   "source": [
    "def read_EventCalc(dir_im, flag_export=False):\n",
    "\t\"\"\"\n",
    "\tRead outputs from OpenSHA Event Calculator\n",
    "\t\"\"\"\n",
    "\t\n",
    "\t## get filenames in dir_im\n",
    "\tfiles = os.listdir(dir_im)\n",
    "\tprint(files)\n",
    "\t\n",
    "\t## GMMs used\n",
    "\tgm_label = [file[0:file.find('_PGA')] for file in files]\n",
    "\tgm_label = np.unique(gm_label)\n",
    "\t\n",
    "\t## set up empty labels for IM dictionary\n",
    "\tim_in = {}\n",
    "\teq_rup = {}\n",
    "\t\n",
    "\t## get name for metadata file and mport and format data for storage\n",
    "\tmetadata = [file for file in files if 'meta' in file.lower()][0]\n",
    "\tprint(metadata)\n",
    "\twith open(dir_im + metadata) as f:\n",
    "\t\tlines = np.asarray([line.split()[0:4] for line in f])\n",
    "\t[eq_rup.update({str(i[0])+'_'+str(i[1]):{'M':float(i[3]),'r':float(i[2])}}) for i in lines]\n",
    "\t\n",
    "\t## get filenames to import for PGA\n",
    "\tif flag_export is True:\n",
    "\t\tstr_add = ''\n",
    "\telse:\n",
    "\t\tstr_add = '_mean'\n",
    "\t\n",
    "\tfiles_pga = [file for file in files if 'pga'+str_add+'.txt' in file.lower()] # files for pga\n",
    "\tfiles_pgv = [file for file in files if 'pgv'+str_add+'.txt' in file.lower()] # files for pgv\n",
    "\tfiles_im = files_pga + files_pgv\n",
    "\t\n",
    "\t## import and format data for storage\n",
    "\tfor file in files_im:\n",
    "\t\tif 'pga' in file.lower():\n",
    "\t\t\tlabel = 'pga'\n",
    "\t\telif 'pgv' in file.lower():\n",
    "\t\t\tlabel = 'pgv'\n",
    "\t\t\n",
    "\t\tif flag_export is True:\n",
    "\t\t\tmat = np.loadtxt(dir_im+file,unpack=True) # import file\n",
    "\t\t\t\n",
    "\t\t\tmat_red = mat[2:] # remove columns of source and rupture indices\n",
    "\t\t\tmean = np.asarray([mat_red[i] for i in range(len(mat_red)) if np.mod(i,3) == 0]) # retrieve ln_mean values\n",
    "\t\t\tsig_total = np.asarray([mat_red[i] for i in range(len(mat_red)) if np.mod(i,3) == 1])[0][0] # retrieve total sigma\n",
    "\t\t\tsig_inter = np.asarray([mat_red[i] for i in range(len(mat_red)) if np.mod(i,3) == 2])[0][0] # retrieve inter sigma\n",
    "\t\t\tsig_intra = (sig_total**2 - sig_inter**2)**0.5 # calculate intra sigma\n",
    "\t\t\t\n",
    "\t\t\tim_in.update({label+'_mean':mean,\n",
    "\t\t\t\t\t\t\tlabel+'_sig_total':sig_total,\n",
    "\t\t\t\t\t\t\tlabel+'_sig_intra':sig_inter,\n",
    "\t\t\t\t\t\t\tlabel+'_sig_inter':sig_intra})\n",
    "\t\t\t\t\t\t\t\n",
    "\t\t\tnp.savetxt(dir_im+file[0:file.find('.txt')]+'_mean.txt',np.transpose(mean),fmt='%6.4f')\n",
    "\t\t\tnp.savetxt(dir_im+file[0:file.find('.txt')]+'_sigma.txt',[sig_total,sig_inter,sig_intra],fmt='%1.3f')\n",
    "\t\t\t\n",
    "\t\telse:\n",
    "\t\t\tmean = np.loadtxt(dir_im+file)\n",
    "\t\t\tsig = np.loadtxt(dir_im+file[0:file.find('_mean.txt')]+'_sigma.txt')\n",
    "\t\t\t\n",
    "\t\t\tsig_total = sig[0]\n",
    "\t\t\tsig_inter = sig[1]\n",
    "\t\t\tsig_intra = sig[2]\n",
    "\t\t\t\n",
    "\t\t\tim_in.update({label+'_mean':mean,\n",
    "\t\t\t\t\t\t\tlabel+'_sig_total':sig_total,\n",
    "\t\t\t\t\t\t\tlabel+'_sig_intra':sig_inter,\n",
    "\t\t\t\t\t\t\tlabel+'_sig_inter':sig_intra})\n",
    "\t\n",
    "\tif im_in is None:\n",
    "\t\tprint('im_in is empty')\n",
    "\t\n",
    "\t##\n",
    "\treturn im_in, eq_rup"
   ]
  },
  {
   "cell_type": "code",
   "execution_count": null,
   "metadata": {},
   "outputs": [],
   "source": [
    "nsite = '100'\n",
    "dir_im = 'D:\\\\eventcalc_'+nsite+'\\\\'"
   ]
  },
  {
   "cell_type": "code",
   "execution_count": null,
   "metadata": {},
   "outputs": [],
   "source": [
    "im_in, eq_rup = read_EventCalc(dir_im)"
   ]
  },
  {
   "cell_type": "code",
   "execution_count": null,
   "metadata": {},
   "outputs": [],
   "source": [
    "eq_rup['0_0']"
   ]
  },
  {
   "cell_type": "code",
   "execution_count": null,
   "metadata": {},
   "outputs": [],
   "source": [
    "im_in.keys()"
   ]
  },
  {
   "cell_type": "code",
   "execution_count": null,
   "metadata": {},
   "outputs": [],
   "source": [
    "im_in['pga_sig_total']"
   ]
  },
  {
   "cell_type": "code",
   "execution_count": null,
   "metadata": {},
   "outputs": [],
   "source": [
    "im_in['pga_mean']"
   ]
  },
  {
   "cell_type": "code",
   "execution_count": null,
   "metadata": {},
   "outputs": [],
   "source": []
  }
 ],
 "metadata": {
  "kernelspec": {
   "display_name": "Python 3",
   "language": "python",
   "name": "python3"
  },
  "language_info": {
   "codemirror_mode": {
    "name": "ipython",
    "version": 3
   },
   "file_extension": ".py",
   "mimetype": "text/x-python",
   "name": "python",
   "nbconvert_exporter": "python",
   "pygments_lexer": "ipython3",
   "version": "3.7.7"
  }
 },
 "nbformat": 4,
 "nbformat_minor": 4
}
