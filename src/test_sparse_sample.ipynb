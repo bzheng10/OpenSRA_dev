{
 "cells": [
  {
   "cell_type": "code",
   "execution_count": 1,
   "metadata": {},
   "outputs": [],
   "source": [
    "## required packages\n",
    "import numpy as np\n",
    "import im.fcn_im as fcn_im\n",
    "import pandas as pd\n",
    "import model, fcn_gen, os, importlib, time\n",
    "from scipy import sparse"
   ]
  },
  {
   "cell_type": "code",
   "execution_count": 2,
   "metadata": {},
   "outputs": [
    {
     "data": {
      "text/plain": [
       "1977"
      ]
     },
     "execution_count": 2,
     "metadata": {},
     "output_type": "execute_result"
    }
   ],
   "source": [
    "# base inputs\n",
    "site_loc_file = r'C:\\Users\\barry\\Desktop\\OpenSHAInterface\\CA_pipe_midpt_allsites.txt'\n",
    "rate_min = 1/10000\n",
    "im_tool = 'sha'\n",
    "\n",
    "im_dir = r'C:\\Users\\barry\\Desktop\\OpenSHAInterface\\im_output_10000yr_allsites'\n",
    "dm_dir = r'C:\\Users\\barry\\Desktop\\OpenSHAInterface\\rr_out'\n",
    "rup_meta_file = r'C:\\Users\\barry\\Desktop\\OpenSHAInterface\\rup_meta_10000yr_allsites.hdf5'\n",
    "# sha_meta_file = r'C:\\Users\\barry\\Desktop\\OpenSHAInterface\\sha_meta_10000yr.txt'\n",
    "groups2run = np.loadtxt(r'C:\\Users\\barry\\Desktop\\OpenSHAInterface\\groups2run_allsites.txt',dtype=str)\n",
    "group_num = 0\n",
    "num_rups = 2\n",
    "im_list = ['pga','pgv']\n",
    "\n",
    "##\n",
    "# missing_folders = np.loadtxt(r'C:\\Users\\barry\\Desktop\\OpenSHAInterface\\missing_samples.txt',dtype=str)\n",
    "\n",
    "## define number of realizations and generate samples\n",
    "nsamp=10\n",
    "flag_corr_d = False\n",
    "flag_corr_T = False\n",
    "# geo_cond = 2 #  for spatial correlation\n",
    "\n",
    "len(groups2run)"
   ]
  },
  {
   "cell_type": "code",
   "execution_count": 3,
   "metadata": {},
   "outputs": [],
   "source": [
    "## reload model.py if it has been modified\n",
    "importlib.reload(model)\n",
    "## create class object\n",
    "A = model.assessment()"
   ]
  },
  {
   "cell_type": "code",
   "execution_count": 4,
   "metadata": {},
   "outputs": [],
   "source": [
    "count = 0\n",
    "inc1 = 5\n",
    "inc2 = 100\n",
    "# out = {}"
   ]
  },
  {
   "cell_type": "code",
   "execution_count": 5,
   "metadata": {},
   "outputs": [
    {
     "name": "stdout",
     "output_type": "stream",
     "text": [
      "folder 1: 74200_74299---  37.575704 seconds ---\n",
      "folder 2: 74300_74399---  34.697486 seconds ---\n",
      "folder 3: 74400_74499---  34.263728 seconds ---\n",
      "folder 4: 74500_74599---  33.796951 seconds ---\n",
      "folder 5: 74600_74699---  23.112176 seconds ---\n",
      "folder 6: 74700_74799---  24.175017 seconds ---\n",
      "folder 7: 74800_74899---  30.090744 seconds ---\n",
      "folder 8: 74900_74999---  35.166153 seconds ---\n",
      "folder 9: 75000_75099---  44.954726 seconds ---\n",
      "folder 10: 7500_7599---  78.218272 seconds ---\n",
      "folder 11: 75100_75199---  60.340329 seconds ---\n",
      "folder 12: 75200_75299---  75.650494 seconds ---\n",
      "folder 13: 75300_75399---  73.675548 seconds ---\n",
      "folder 14: 75400_75499---  80.086329 seconds ---\n",
      "folder 15: 75500_75599---  80.185713 seconds ---\n",
      "folder 16: 75600_75699---  79.431146 seconds ---\n",
      "folder 17: 75700_75799---  77.689959 seconds ---\n",
      "folder 18: 75800_75899---  63.283710 seconds ---\n",
      "folder 19: 75900_75999---  53.430452 seconds ---\n",
      "folder 20: 76000_76099---  42.009092 seconds ---\n",
      "folder 21: 7600_7699---  64.088000 seconds ---\n",
      "folder 22: 76100_76199---  43.064095 seconds ---\n",
      "folder 23: 76200_76299---  46.879795 seconds ---\n",
      "folder 24: 76300_76399---  43.118061 seconds ---\n",
      "folder 25: 76400_76499---  41.887813 seconds ---\n",
      "folder 26: 76500_76599---  40.591081 seconds ---\n",
      "folder 27: 76600_76699---  43.393044 seconds ---\n",
      "folder 28: 76700_76799---  27.950357 seconds ---\n",
      "folder 29: 76800_76899---  28.225894 seconds ---\n",
      "folder 30: 76900_76999---  32.636776 seconds ---\n",
      "folder 31: 77000_77099---  38.406801 seconds ---\n",
      "folder 32: 7700_7799---  76.901049 seconds ---\n",
      "folder 33: 77100_77199---  42.035204 seconds ---\n",
      "folder 34: 77200_77299---  61.888124 seconds ---\n",
      "folder 35: 77300_77399---  73.626931 seconds ---\n",
      "folder 36: 77400_77499---  83.785207 seconds ---\n",
      "folder 37: 77500_77599---  80.641846 seconds ---\n",
      "folder 38: 77600_77699---  76.942805 seconds ---\n",
      "folder 39: 77700_77799---  80.017977 seconds ---\n",
      "folder 40: 77800_77899---  84.842700 seconds ---\n",
      "folder 41: 77900_77999---  72.246381 seconds ---\n",
      "folder 42: 78000_78099---  61.991685 seconds ---\n",
      "folder 43: 7800_7899---  87.871458 seconds ---\n",
      "folder 44: 78100_78199---  51.866207 seconds ---\n",
      "folder 45: 78200_78299---  42.771408 seconds ---\n",
      "folder 46: 78300_78399---  42.616485 seconds ---\n",
      "folder 47: 78400_78499---  34.956163 seconds ---\n",
      "folder 48: 78500_78599---  33.073848 seconds ---\n",
      "folder 49: 78600_78699---  30.658770 seconds ---\n",
      "folder 50: 78700_78799---  28.240840 seconds ---\n",
      "folder 51: 78800_78899---  23.721639 seconds ---\n",
      "folder 52: 78900_78999---  20.451252 seconds ---\n",
      "folder 53: 79000_79099---  22.850860 seconds ---\n",
      "folder 54: 7900_7999---  61.230848 seconds ---\n",
      "folder 55: 79100_79199---  26.685078 seconds ---\n",
      "folder 56: 79200_79299---  28.417343 seconds ---\n",
      "folder 57: 79300_79399---  45.652683 seconds ---\n",
      "folder 58: 79400_79499---  59.570302 seconds ---\n",
      "folder 59: 79500_79599---  71.654552 seconds ---\n",
      "folder 60: 79600_79699---  72.814639 seconds ---\n",
      "folder 61: 79700_79799---  66.559301 seconds ---\n",
      "folder 62: 79800_79899---  64.954416 seconds ---\n",
      "folder 63: 79900_79999---  69.866147 seconds ---\n",
      "folder 64: 80000_80099---  70.370815 seconds ---\n",
      "folder 65: 8000_8099---  68.881375 seconds ---\n",
      "folder 66: 800_899---  62.027181 seconds ---\n",
      "folder 67: 80100_80199---  65.897971 seconds ---\n",
      "folder 68: 80200_80299---  55.652091 seconds ---\n",
      "folder 69: 80300_80399---  48.821002 seconds ---\n",
      "folder 70: 80400_80499---  42.348007 seconds ---\n",
      "folder 71: 80500_80599---  42.267426 seconds ---\n",
      "folder 72: 80600_80699---  41.435489 seconds ---\n",
      "folder 73: 80700_80799---  41.057801 seconds ---\n",
      "folder 74: 80800_80899---  38.998773 seconds ---\n",
      "folder 75: 80900_80999---  34.868280 seconds ---\n",
      "folder 76: 81000_81099---  30.856723 seconds ---\n",
      "folder 77: 8100_8199---  77.626200 seconds ---\n",
      "folder 78: 81100_81199---  25.638933 seconds ---\n",
      "folder 79: 81200_81299---  25.423052 seconds ---\n",
      "folder 80: 81300_81399---  30.078122 seconds ---\n",
      "folder 81: 81400_81499---  33.259742 seconds ---\n",
      "folder 82: 81500_81599---  38.979355 seconds ---\n",
      "folder 83: 81600_81699---  53.659495 seconds ---\n",
      "folder 84: 81700_81799---  65.594092 seconds ---\n",
      "folder 85: 81800_81899---  72.446567 seconds ---\n",
      "folder 86: 81900_81999---  67.379031 seconds ---\n",
      "folder 87: 82000_82099---  65.873388 seconds ---\n",
      "folder 88: 8200_8299---  65.235733 seconds ---\n",
      "folder 89: 82100_82199---  62.561684 seconds ---\n",
      "folder 90: 82200_82299---  63.037309 seconds ---\n",
      "folder 91: 82300_82399---  58.415618 seconds ---\n",
      "folder 92: 82400_82499---  52.672540 seconds ---\n",
      "folder 93: 82500_82599---  48.656783 seconds ---\n",
      "folder 94: 82600_82699---  42.362231 seconds ---\n",
      "folder 95: 82700_82799---  38.438423 seconds ---\n",
      "folder 96: 82800_82899---  38.578755 seconds ---\n",
      "folder 97: 82900_82999---  38.797338 seconds ---\n",
      "folder 98: 83000_83099---  37.773011 seconds ---\n",
      "folder 99: 8300_8399---  71.785043 seconds ---\n",
      "folder 100: 83100_83199---  36.022564 seconds ---\n"
     ]
    }
   ],
   "source": [
    "## Lateral spreading\n",
    "time_start = time.time()\n",
    "\n",
    "multi = 17\n",
    "range_start = 0+100*multi\n",
    "range_end = range_start+100\n",
    "flag_sample_exist = False\n",
    "\n",
    "##\n",
    "for im_group in groups2run[range_start:range_end]:\n",
    "    #####################################################################\n",
    "    count += 1\n",
    "    path_sample = im_dir+'/'+im_group+'/'\n",
    "\n",
    "    #####################################################################\n",
    "    ## load GM predictions and create random variable\n",
    "    A.create_RV(im_tool, site_loc_file, im_dir, im_list, rup_meta_file, flag_clear_dict=True, \n",
    "                flag_sample_exist=flag_sample_exist, im_group=im_group, num_rups=num_rups)\n",
    "\n",
    "    #####################################################################\n",
    "    ## generate/import samples\n",
    "    A.get_IM(nsamp, im_list, flag_corr_d, flag_corr_T, flag_clear_dict=True, \n",
    "            flag_sample_exist=flag_sample_exist,path_sample=path_sample)\n",
    "\n",
    "    if flag_sample_exist is False:\n",
    "        for i in range(nsamp):\n",
    "            out1 = sparse.csc_matrix(np.round(A._IM_dict['pgv'][i].log1p(),decimals=3))\n",
    "            out2 = sparse.csc_matrix(np.round(A._IM_dict['pga'][i].log1p(),decimals=3))\n",
    "            sparse.save_npz(im_dir+'/'+im_group+'/'+'pgv_samp_'+str(i)+'.npz',out1)\n",
    "            sparse.save_npz(im_dir+'/'+im_group+'/'+'pga_samp_'+str(i)+'.npz',out2)\n",
    "\n",
    "    #####################################################################\n",
    "#     if count % inc1 == 0:\n",
    "    print('folder '+str(count)+': '+im_group+'--- %10.6f seconds ---' % (time.time() - time_start))\n",
    "    time_start = time.time()"
   ]
  },
  {
   "cell_type": "code",
   "execution_count": 22,
   "metadata": {},
   "outputs": [
    {
     "data": {
      "text/plain": [
       "'38200_38299'"
      ]
     },
     "execution_count": 22,
     "metadata": {},
     "output_type": "execute_result"
    }
   ],
   "source": [
    "groups2run[1300]"
   ]
  },
  {
   "cell_type": "code",
   "execution_count": 23,
   "metadata": {},
   "outputs": [
    {
     "data": {
      "text/plain": [
       "'38300_38399'"
      ]
     },
     "execution_count": 23,
     "metadata": {},
     "output_type": "execute_result"
    }
   ],
   "source": [
    "groups2run[1301]"
   ]
  },
  {
   "cell_type": "code",
   "execution_count": 17,
   "metadata": {},
   "outputs": [],
   "source": []
  },
  {
   "cell_type": "code",
   "execution_count": 17,
   "metadata": {},
   "outputs": [],
   "source": []
  },
  {
   "cell_type": "code",
   "execution_count": 4,
   "metadata": {},
   "outputs": [
    {
     "data": {
      "text/plain": [
       "766"
      ]
     },
     "execution_count": 4,
     "metadata": {},
     "output_type": "execute_result"
    }
   ],
   "source": []
  },
  {
   "cell_type": "code",
   "execution_count": 17,
   "metadata": {},
   "outputs": [],
   "source": []
  },
  {
   "cell_type": "code",
   "execution_count": 17,
   "metadata": {},
   "outputs": [],
   "source": []
  },
  {
   "cell_type": "code",
   "execution_count": 17,
   "metadata": {},
   "outputs": [],
   "source": []
  },
  {
   "cell_type": "code",
   "execution_count": 17,
   "metadata": {},
   "outputs": [
    {
     "data": {
      "text/plain": [
       "[[0, 0],\n",
       " [1, 0],\n",
       " [2, 0],\n",
       " [3, 0],\n",
       " [4, 0],\n",
       " [5, 0],\n",
       " [6, 0],\n",
       " [7, 0],\n",
       " [8, 0],\n",
       " [9, 0],\n",
       " [10, 0],\n",
       " [11, 0],\n",
       " [12, 0],\n",
       " [13, 100],\n",
       " [14, 100],\n",
       " [15, 100],\n",
       " [16, 100],\n",
       " [17, 100],\n",
       " [18, 0],\n",
       " [19, 0]]"
      ]
     },
     "execution_count": 17,
     "metadata": {},
     "output_type": "execute_result"
    }
   ],
   "source": [
    "multi2run"
   ]
  },
  {
   "cell_type": "code",
   "execution_count": null,
   "metadata": {},
   "outputs": [],
   "source": []
  },
  {
   "cell_type": "code",
   "execution_count": null,
   "metadata": {},
   "outputs": [],
   "source": []
  }
 ],
 "metadata": {
  "kernelspec": {
   "display_name": "Python 3",
   "language": "python",
   "name": "python3"
  },
  "language_info": {
   "codemirror_mode": {
    "name": "ipython",
    "version": 3
   },
   "file_extension": ".py",
   "mimetype": "text/x-python",
   "name": "python",
   "nbconvert_exporter": "python",
   "pygments_lexer": "ipython3",
   "version": "3.7.4"
  }
 },
 "nbformat": 4,
 "nbformat_minor": 4
}
