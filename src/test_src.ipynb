{
 "cells": [
  {
   "cell_type": "code",
   "execution_count": 1,
   "metadata": {},
   "outputs": [],
   "source": [
    "import numpy as np\n",
    "import os"
   ]
  },
  {
   "cell_type": "code",
   "execution_count": 2,
   "metadata": {},
   "outputs": [],
   "source": [
    "import edp.land as land\n",
    "import edp.fcn_liq_land as fcn_liq_land\n",
    "import fcn_gen\n",
    "import edp.liq as liq\n",
    "import edp.corr_cpt as corr_cpt"
   ]
  },
  {
   "cell_type": "code",
   "execution_count": 7,
   "metadata": {},
   "outputs": [],
   "source": [
    "##### check jibson\n",
    "beta = [55, 40, 35, 25, 5]\n",
    "M = 7.2\n",
    "pga = 0.8\n",
    "Ia = 0.5\n",
    "H = 10\n",
    "c = [20, 20, 15, 15, 15]\n",
    "phi = [20, 20, 33, 33, 33]\n",
    "gamma = [30, 30, 15, 15, 15]\n",
    "cr = 0\n",
    "t = H\n",
    "m = 0\n",
    "slope_type = ['rock', 'rock', 'infinite', 'rotational','ls']\n",
    "method = 'grant'\n",
    "y = 30"
   ]
  },
  {
   "cell_type": "code",
   "execution_count": 13,
   "metadata": {},
   "outputs": [
    {
     "name": "stdout",
     "output_type": "stream",
     "text": [
      "11.89438288234926 nan\n",
      "{'ky_pga': [0, 1.1743183974269635], 'ky_pga_M': [0, 1.0453736322192968], 'ky_Ia': [2.0135470233847932e-08, 1.5104958210040942], 'ky_pga,Ia': [0, 1.4183924172843323]}\n",
      "0\n"
     ]
    }
   ],
   "source": [
    "##### check jibson\n",
    "i = 3\n",
    "ky,FS = fcn_liq_land.get_ky(slope_type=slope_type[i],phi=phi[i],c=c[i],\n",
    "                            beta=beta[i],gamma=gamma[i],pga=pga,H=2,\n",
    "                            cr=cr,t=2,method=method,y=y,m=m)\n",
    "print(ky,FS)\n",
    "print(land.jibson_2007(ky=ky,pga=pga,M=M,Ia=Ia))"
   ]
  },
  {
   "cell_type": "code",
   "execution_count": null,
   "metadata": {},
   "outputs": [],
   "source": []
  },
  {
   "cell_type": "code",
   "execution_count": 12,
   "metadata": {},
   "outputs": [],
   "source": [
    "##### check cetin et al (2004) - kramer and mayfield (2007)\n",
    "z = [2,4,6,8,10,12]\n",
    "fc = [0, 0, 0, 0, 0, 0]\n",
    "N1_60 = [10,12,18,22,26,30]\n",
    "M = 6.57\n",
    "amax = 0.332\n",
    "dtw = 2\n",
    "flag_include_error = True\n",
    "gamma_dry = 17.2\n",
    "gamma_sat = 20\n",
    "gamma_z = []\n",
    "for i in z:\n",
    "    if i <= dtw:\n",
    "        gamma_z.append(gamma_dry)\n",
    "    else:\n",
    "        gamma_z.append(gamma_sat)"
   ]
  },
  {
   "cell_type": "code",
   "execution_count": 6,
   "metadata": {},
   "outputs": [
    {
     "data": {
      "text/plain": [
       "(array([ 34.4,  74.4, 114.4, 154.4, 194.4, 234.4]),\n",
       " array([ 34.4 ,  54.78,  75.16,  95.54, 115.92, 136.3 ]))"
      ]
     },
     "execution_count": 6,
     "metadata": {},
     "output_type": "execute_result"
    }
   ],
   "source": [
    "##### check cetin et al (2004) - kramer and mayfield (2007)\n",
    "sv0_tot,u_z,sv0_eff = fcn_liq_land.get_stress(z=z,dtw=dtw,gamma_z=gamma_z)\n",
    "sv0_tot, sv0_eff"
   ]
  },
  {
   "cell_type": "code",
   "execution_count": 7,
   "metadata": {},
   "outputs": [
    {
     "name": "stdout",
     "output_type": "stream",
     "text": [
      "[0.9866568  0.9725542  0.95770333 0.93722465 0.90493425 0.85651837]\n"
     ]
    }
   ],
   "source": [
    "##### check cetin et al (2004) - kramer and mayfield (2007)\n",
    "# method = 'idriss_1999'\n",
    "# rd = fcn_liq_land.get_rd(method=method,z=z,M=M,amax=amax)\n",
    "# method = 'cetin_2000'\n",
    "# rd = fcn_liq_land.get_rd(method=method,z=z,M=M,amax=amax)\n",
    "method = 'youd_etal_2001'\n",
    "rd = fcn_liq_land.get_rd(method=method,z=z,M=M,amax=amax)\n",
    "print(rd)"
   ]
  },
  {
   "cell_type": "code",
   "execution_count": 13,
   "metadata": {},
   "outputs": [
    {
     "name": "stdout",
     "output_type": "stream",
     "text": [
      "csr_eq =  0.2129205379857929\n",
      "csr_eq =  0.28504679412147227\n",
      "csr_eq =  0.3145731790456835\n",
      "csr_eq =  0.3268565586991113\n",
      "csr_eq =  0.3274962680343776\n",
      "csr_eq =  0.31787024105528755\n"
     ]
    }
   ],
   "source": [
    "##### check cetin et al (2004) - kramer and mayfield (2007)\n",
    "out = []\n",
    "for i in range(len(N1_60)):\n",
    "    out.append(liq.cetin_etal_2004_liq(N1_60=N1_60[i],fc=fc[i],z=z[i],rd=rd[i],amax=amax,\n",
    "                                      sv0_tot=sv0_tot[i],sv0_eff=sv0_eff[i],M=M,flag_include_error=flag_include_error))"
   ]
  },
  {
   "cell_type": "code",
   "execution_count": 14,
   "metadata": {},
   "outputs": [
    {
     "data": {
      "text/plain": [
       "[(nan, 0.11758528589272033, 0.8289297614456047),\n",
       " (nan, 0.17915348562285305, 0.9680329118927368),\n",
       " (nan, 0.2158828741139419, 0.8502023863496451),\n",
       " (nan, 0.23978437361597893, 0.666529931251823),\n",
       " (nan, 0.2535213626569511, 0.3677119220553844),\n",
       " (nan, 0.25740198798032315, 0.10770907822590314)]"
      ]
     },
     "execution_count": 14,
     "metadata": {},
     "output_type": "execute_result"
    }
   ],
   "source": [
    "out"
   ]
  },
  {
   "cell_type": "code",
   "execution_count": null,
   "metadata": {},
   "outputs": [],
   "source": []
  },
  {
   "cell_type": "code",
   "execution_count": null,
   "metadata": {},
   "outputs": [],
   "source": []
  },
  {
   "cell_type": "code",
   "execution_count": 3,
   "metadata": {},
   "outputs": [],
   "source": [
    "##### check moss et al. (2006)\n",
    "z = [5,5,5,5]\n",
    "qc = [10,7,5,2]\n",
    "Rf = [5,5,5,5]\n",
    "p_liq = [0.1,0.3,0.5,0.9]\n",
    "M = 6.57\n",
    "amax = 0.332\n",
    "dtw = 0\n",
    "gamma_z = [19.62,19.62,19.62,19.62]"
   ]
  },
  {
   "cell_type": "code",
   "execution_count": 4,
   "metadata": {},
   "outputs": [
    {
     "data": {
      "text/plain": [
       "(array([98.1, 98.1, 98.1, 98.1]), array([49.05, 49.05, 49.05, 49.05]))"
      ]
     },
     "execution_count": 4,
     "metadata": {},
     "output_type": "execute_result"
    }
   ],
   "source": [
    "##### ##### \n",
    "sv0_tot,u_z,sv0_eff = fcn_liq_land.get_stress(z=z,dtw=dtw,gamma_z=gamma_z)\n",
    "sv0_tot, sv0_eff"
   ]
  },
  {
   "cell_type": "code",
   "execution_count": 5,
   "metadata": {},
   "outputs": [
    {
     "name": "stdout",
     "output_type": "stream",
     "text": [
      "iterNum =  1 , c =  0.23307918011393963\n",
      "iterNum =  2 , c =  0.22084297549286047\n",
      "iterNum =  3 , c =  0.21018640917849388\n",
      "iterNum =  4 , c =  0.20079827017685942\n",
      "iterNum =  5 , c =  0.19244368179381488\n",
      "iterNum =  6 , c =  0.18494230708054712\n",
      "iterNum =  7 , c =  0.17815361169765304\n",
      "iterNum =  8 , c =  0.17196663695827966\n",
      "iterNum =  9 , c =  0.16629274384560577\n",
      "iterNum =  10 , c =  0.16106036615908204\n",
      "iterNum =  11 , c =  0.15621115369328845\n",
      "iterNum =  12 , c =  0.1516970964135676\n",
      "iterNum =  13 , c =  0.14747835305793905\n",
      "iterNum =  14 , c =  0.14352159329804834\n",
      "iterNum =  15 , c =  0.13979871933456636\n",
      "iterNum =  16 , c =  0.13628587115754937\n",
      "iterNum =  17 , c =  0.1329626461146937\n",
      "iterNum =  18 , c =  0.12981148192385694\n",
      "iterNum =  19 , c =  0.1268171654089018\n",
      "iterNum =  20 , c =  0.12396643870292748\n",
      "iterNum =  21 , c =  0.12124768156091033\n",
      "iterNum =  22 , c =  0.1186506535047999\n",
      "iterNum =  23 , c =  0.11616628330290743\n",
      "iterNum =  24 , c =  0.1137864961202703\n",
      "iterNum =  25 , c =  0.11150407082027798\n",
      "iterNum =  26 , c =  0.10931252153055776\n",
      "iterNum =  27 , c =  0.1072059988380551\n",
      "iterNum =  28 , c =  0.10517920694420313\n",
      "iterNum =  29 , c =  0.10322733386072998\n",
      "iterNum =  30 , c =  0.10134599231163821\n",
      "iterNum =  31 , c =  0.09953116946575252\n",
      "iterNum =  32 , c =  0.09777918398594779\n",
      "iterNum =  33 , c =  0.09608664916765526\n",
      "iterNum =  34 , c =  0.09445044116718469\n",
      "iterNum =  35 , c =  0.09286767150255121\n",
      "iterNum =  36 , c =  0.09133566315568052\n",
      "iterNum =  37 , c =  0.08985192972266444\n",
      "iterNum =  38 , c =  0.08841415715405221\n",
      "iterNum =  39 , c =  0.08702018770457719\n",
      "iterNum =  40 , c =  0.08566800577484276\n",
      "iterNum =  41 , c =  0.08435572537915216\n",
      "iterNum =  42 , c =  0.08308157901610107\n",
      "iterNum =  43 , c =  0.0818439077535371\n",
      "iterNum =  44 , c =  0.08064115236842923\n",
      "iterNum =  45 , c =  0.07947184540621721\n",
      "iterNum =  46 , c =  0.0783346040442241\n",
      "iterNum =  47 , c =  0.07722812366044167\n",
      "iterNum =  48 , c =  0.07615117202302416\n",
      "iterNum =  49 , c =  0.07510258402762567\n",
      "iterNum =  50 , c =  0.07408125691967375\n",
      "iterNum =  1 , c =  0.26282196772720184\n",
      "iterNum =  2 , c =  0.24621225512852477\n",
      "iterNum =  3 , c =  0.2321368578155625\n",
      "iterNum =  4 , c =  0.22002693097913525\n",
      "iterNum =  5 , c =  0.20947105049861053\n",
      "iterNum =  6 , c =  0.20016444286548601\n",
      "iterNum =  7 , c =  0.19187678399485825\n",
      "iterNum =  8 , c =  0.1844310306523869\n",
      "iterNum =  9 , c =  0.17768907776382592\n",
      "iterNum =  10 , c =  0.17154178812078977\n",
      "iterNum =  11 , c =  0.16590190811838101\n",
      "iterNum =  12 , c =  0.16069893860118464\n",
      "iterNum =  13 , c =  0.15587536043012168\n",
      "iterNum =  14 , c =  0.15138381739572287\n",
      "iterNum =  15 , c =  0.14718498737319277\n",
      "iterNum =  16 , c =  0.1432459557483017\n",
      "iterNum =  17 , c =  0.13953896027092702\n",
      "iterNum =  18 , c =  0.13604041380907708\n",
      "iterNum =  19 , c =  0.13273013720554522\n",
      "iterNum =  20 , c =  0.1295907524747983\n",
      "iterNum =  21 , c =  0.12660719940784357\n",
      "iterNum =  22 , c =  0.1237663479010624\n",
      "iterNum =  23 , c =  0.12105668507042537\n",
      "iterNum =  24 , c =  0.11846806118477615\n",
      "iterNum =  25 , c =  0.11599148215220792\n",
      "iterNum =  26 , c =  0.11361893907119465\n",
      "iterNum =  27 , c =  0.11134326745962597\n",
      "iterNum =  28 , c =  0.10915803037632953\n",
      "iterNum =  29 , c =  0.1070574208781856\n",
      "iterNum =  30 , c =  0.10503618020424198\n",
      "iterNum =  31 , c =  0.10308952881448692\n",
      "iterNum =  32 , c =  0.10121310798568231\n",
      "iterNum =  33 , c =  0.09940293011765523\n",
      "iterNum =  34 , c =  0.09765533625908\n",
      "iterNum =  35 , c =  0.0959669596435506\n",
      "iterNum =  36 , c =  0.09433469425099715\n",
      "iterNum =  37 , c =  0.0927556675887648\n",
      "iterNum =  38 , c =  0.09122721703058073\n",
      "iterNum =  39 , c =  0.08974686916763745\n",
      "iterNum =  40 , c =  0.08831232171990218\n",
      "iterNum =  41 , c =  0.08692142763203863\n",
      "iterNum =  42 , c =  0.08557218104053882\n",
      "iterNum =  43 , c =  0.08426270484959053\n",
      "iterNum =  44 , c =  0.08299123969504964\n",
      "iterNum =  45 , c =  0.08175613411039195\n",
      "iterNum =  46 , c =  0.080555835737071\n",
      "iterNum =  47 , c =  0.07938888344541768\n",
      "iterNum =  48 , c =  0.07825390025197135\n",
      "iterNum =  49 , c =  0.07714958693564627\n",
      "iterNum =  50 , c =  0.07607471626898867\n",
      "iterNum =  1 , c =  0.29683608179346843\n",
      "iterNum =  2 , c =  0.2743340382635654\n",
      "iterNum =  3 , c =  0.25583433285539764\n",
      "iterNum =  4 , c =  0.24031878367636056\n",
      "iterNum =  5 , c =  0.22708693652025522\n",
      "iterNum =  6 , c =  0.2156406189546965\n",
      "iterNum =  7 , c =  0.20561585927195575\n",
      "iterNum =  8 , c =  0.19674076220818487\n",
      "iterNum =  9 , c =  0.18880838573437206\n",
      "iterNum =  10 , c =  0.18165868311925093\n",
      "iterNum =  11 , c =  0.17516613562646433\n",
      "iterNum =  12 , c =  0.16923107628102693\n",
      "iterNum =  13 , c =  0.1637734764848276\n",
      "iterNum =  14 , c =  0.15872841682920838\n",
      "iterNum =  15 , c =  0.15404273450198255\n",
      "iterNum =  16 , c =  0.1496725081192425\n",
      "iterNum =  17 , c =  0.14558114835617378\n",
      "iterNum =  18 , c =  0.14173793311314073\n",
      "iterNum =  19 , c =  0.13811687300959713\n",
      "iterNum =  20 , c =  0.1346958250942555\n",
      "iterNum =  21 , c =  0.13145579494135845\n",
      "iterNum =  22 , c =  0.12838038301696433\n",
      "iterNum =  23 , c =  0.1254553424389321\n",
      "iterNum =  24 , c =  0.12266822339571942\n",
      "iterNum =  25 , c =  0.12000808545323073\n",
      "iterNum =  26 , c =  0.11746526339259812\n",
      "iterNum =  27 , c =  0.11503117551807358\n",
      "iterNum =  28 , c =  0.11269816585655706\n",
      "iterNum =  29 , c =  0.11045937355392091\n",
      "iterNum =  30 , c =  0.10830862421262376\n",
      "iterNum =  31 , c =  0.10624033902206996\n",
      "iterNum =  32 , c =  0.10424945838965725\n",
      "iterNum =  33 , c =  0.10233137744689934\n",
      "iterNum =  34 , c =  0.10048189132635445\n",
      "iterNum =  35 , c =  0.09869714851499942\n",
      "iterNum =  36 , c =  0.09697361091354467\n",
      "iterNum =  37 , c =  0.09530801948824252\n",
      "iterNum =  38 , c =  0.09369736460669174\n",
      "iterNum =  39 , c =  0.09213886031325492\n",
      "iterNum =  40 , c =  0.09062992193166933\n",
      "iterNum =  41 , c =  0.08916814648897692\n",
      "iterNum =  42 , c =  0.08775129554126435\n",
      "iterNum =  43 , c =  0.08637728005198\n",
      "iterNum =  44 , c =  0.08504414703099947\n",
      "iterNum =  45 , c =  0.08375006768967187\n",
      "iterNum =  46 , c =  0.08249332690580312\n",
      "iterNum =  47 , c =  0.08127231382450843\n",
      "iterNum =  48 , c =  0.08008551344736375\n",
      "iterNum =  49 , c =  0.07893149908431794\n",
      "iterNum =  50 , c =  0.07780892556120916\n",
      "iterNum =  1 , c =  0.43183270352902703\n",
      "iterNum =  2 , c =  0.37718101685714644\n",
      "iterNum =  3 , c =  0.3371882365212014\n",
      "iterNum =  4 , c =  0.306516094808287\n",
      "iterNum =  5 , c =  0.2821691354927252\n",
      "iterNum =  6 , c =  0.2623217015439042\n",
      "iterNum =  7 , c =  0.24579166289335638\n",
      "iterNum =  8 , c =  0.23177744169687345\n",
      "iterNum =  9 , c =  0.21971547687647586\n",
      "iterNum =  10 , c =  0.20919786972560056\n",
      "iterNum =  11 , c =  0.1999222766727447\n",
      "iterNum =  12 , c =  0.1916600942141075\n",
      "iterNum =  13 , c =  0.18423552521280065\n",
      "iterNum =  14 , c =  0.17751138446187967\n",
      "iterNum =  15 , c =  0.17137922500119387\n",
      "iterNum =  16 , c =  0.1657523185761674\n",
      "iterNum =  17 , c =  0.16056057089453676\n",
      "iterNum =  18 , c =  0.15574677831043654\n",
      "iterNum =  19 , c =  0.15126383294131163\n",
      "iterNum =  20 , c =  0.14707260992068247\n",
      "iterNum =  21 , c =  0.1431403526592314\n",
      "iterNum =  22 , c =  0.1394394265077258\n",
      "iterNum =  23 , c =  0.13594634814047887\n",
      "iterNum =  24 , c =  0.13264102345015297\n",
      "iterNum =  25 , c =  0.12950614460757293\n",
      "iterNum =  26 , c =  0.12652670965246493\n",
      "iterNum =  27 , c =  0.1236896371474596\n",
      "iterNum =  28 , c =  0.12098345511550697\n",
      "iterNum =  29 , c =  0.11839804841201906\n",
      "iterNum =  30 , c =  0.11592445235372223\n",
      "iterNum =  31 , c =  0.11355468318219425\n",
      "iterNum =  32 , c =  0.11128159802560462\n",
      "iterNum =  33 , c =  0.10909877861176702\n",
      "iterNum =  34 , c =  0.10700043420526262\n",
      "iterNum =  35 , c =  0.10498132018300528\n",
      "iterNum =  36 , c =  0.10303666939378668\n",
      "iterNum =  37 , c =  0.1011621340182022\n",
      "iterNum =  38 , c =  0.09935373609336791\n",
      "iterNum =  39 , c =  0.09760782522016838\n",
      "iterNum =  40 , c =  0.0959210422507498\n",
      "iterNum =  41 , c =  0.0942902879768287\n",
      "iterNum =  42 , c =  0.09271269601755465\n",
      "iterNum =  43 , c =  0.09118560924870889\n",
      "iterNum =  44 , c =  0.08970655923033934\n",
      "iterNum =  45 , c =  0.0882732481832715\n",
      "iterNum =  46 , c =  0.08688353314077858\n",
      "iterNum =  47 , c =  0.08553541196355831\n",
      "iterNum =  48 , c =  0.08422701095681312\n",
      "iterNum =  49 , c =  0.08295657386985003\n",
      "iterNum =  50 , c =  0.08172245209293942\n"
     ]
    }
   ],
   "source": [
    "out = []\n",
    "for i in range(len(qc)):\n",
    "    out.append(corr_cpt.moss_etal_2006_corr(qc=qc[i],sv0_tot=sv0_tot[i],sv0_eff=sv0_eff[i],Rf=Rf[i]))"
   ]
  },
  {
   "cell_type": "code",
   "execution_count": null,
   "metadata": {},
   "outputs": [],
   "source": []
  },
  {
   "cell_type": "code",
   "execution_count": 6,
   "metadata": {},
   "outputs": [
    {
     "name": "stdout",
     "output_type": "stream",
     "text": [
      "Help on function moss_etal_2006_corr in module edp.corr_cpt:\n",
      "\n",
      "moss_etal_2006_corr(**kwargs)\n",
      "    CPT tip resistance correction to **qc_1** using the Moss et al. (2006a) method. Note that Moss et al. (2006a) uses **qc_1** instead as one of the model parameters for estimating the probability of liquefaction (see :func:`edp.liq.moss_etal_2006_liq`). Users can need to specify **qc**, and the function will apply the overburden correction to obtain qc_1.\n",
      "    \n",
      "    Parameters\n",
      "    ----------\n",
      "    qc : float\n",
      "            [kPa] tip resistance\n",
      "            \n",
      "    Parameters for overburden correction\n",
      "    sv0_tot : float\n",
      "            [kPa] initial vertical total stress\n",
      "    sv0_eff : float\n",
      "            [kPa] initial vertical effective stress\n",
      "    patm : float\n",
      "            [kPa] atmospheric pressure, default = 101.3 kPa\n",
      "    c : float, optional\n",
      "            normalization exponent for overburden correction, users can specify this instead of calculating it interally\n",
      "    fs : float, optional\n",
      "            [kPa] sleeve friction, required to calculate **Rf** if **Rf** is not given\n",
      "    Rf : float, optional\n",
      "            [%] friction ratio, required if **fs** is not provided to calculate **Rf**\n",
      "            \n",
      "    Returns\n",
      "    -------\n",
      "    qc_1 : float\n",
      "            normalized tip resistance corrected for overburden, used by Moss et al. (2006a) for liquefaction triggering\n",
      "    Rf : float\n",
      "            [%] friction ratio, used by Moss et al. (2006a) for liquefaction triggering\n",
      "    c : float\n",
      "            overburden normalization exponent, used by Moss et al. (2006a) for liquefaction triggering\n",
      "            \n",
      "    References\n",
      "    ----------\n",
      "    .. [1] Moss, R.E.S., Seed, R.B., Kayen, R.E., Stewart, J.P., Der Kiureghian, A., and Cetin, K.O., 2006a, CPT-Based Probabilistic and Deterministic Assessment of In Situ Seismic Soil Liquefaction Potential, Journal of Geotechnical and Geoenvironmental Engineering, vol. 132, no. 8, pp. 1032-1051.\n",
      "    .. [2] Moss, R.E.S., Seed, R.B., and Olsen, R.S., 2006b, Normalizing the CPT for Overburden Stress, Journal of Geotechnical and Geoenvironmental Engineering, vol. 132, no. 3, pp. 378-387.\n",
      "\n"
     ]
    }
   ],
   "source": [
    "help(corr_cpt.moss_etal_2006_corr)"
   ]
  },
  {
   "cell_type": "code",
   "execution_count": 15,
   "metadata": {},
   "outputs": [
    {
     "name": "stdout",
     "output_type": "stream",
     "text": [
      "Help on function moss_etal_2006_liq in module edp.liq:\n",
      "\n",
      "moss_etal_2006_liq(**kwargs)\n",
      "    A CPT-based procedure to quantify liquefaction at a given location using probabilistic model by Moss et al. (2006). This function produces **p_liq** or equivalent **crr** if **p_liq** is specified. This function is to be used in conjuction with :func:`edp.corr_cpt.moss_etal_2006_corr`.\n",
      "    \n",
      "    Parameters\n",
      "    ----------\n",
      "    qc_1 : float\n",
      "            normalized tip resistance corrected for overburden, see :func:`edp.corr_cpt.moss_etal_2006_corr`\n",
      "    Rf : float\n",
      "            [%] friction ratio, see :func:`edp.corr_cpt.moss_etal_2006_corr`\n",
      "    c : float\n",
      "            overburden normalization exponent, see :func:`edp.corr_cpt.moss_etal_2006_corr`\n",
      "    amax : float\n",
      "            [g] peak ground acceleration\n",
      "    sv0_tot : float\n",
      "            [g] initial vertical total stress\n",
      "    sve_tot : float\n",
      "            [g] initial vertical effective stress\n",
      "    rd : float\n",
      "            [g] depth-reduction factor, see :func:`edp.fcn_liq_land.get_rd`\n",
      "    M : float\n",
      "            moment magnitude\n",
      "    p_liq : float, optional\n",
      "            [%] probability of liquefaction, if looking to get **crr**\n",
      "    \n",
      "    Returns\n",
      "    -------\n",
      "    crr : float\n",
      "            equivalent cyclic resistance ratio if p_liq is specified, otherwise NaN\n",
      "    csr : float\n",
      "            cyclic stress ratio, corrected for magnitude/duration\n",
      "    p_liq : float\n",
      "            [%] probability of liquefaction\n",
      "                    \n",
      "    References\n",
      "    ----------\n",
      "    .. [1] Moss, R.E.S., Seed, R.B., Kayen, R.E., Stewart, J.P., Der Kiureghian, A., and Cetin, K.O., 2006a, CPT-Based Probabilistic and Deterministic Assessment of In Situ Seismic Soil Liquefaction Potential, Journal of Geotechnical and Geoenvironmental Engineering, vol. 132, no. 8, pp. 1032-1051.\n",
      "\n"
     ]
    }
   ],
   "source": [
    "help(liq.moss_etal_2006_liq)"
   ]
  },
  {
   "cell_type": "code",
   "execution_count": null,
   "metadata": {},
   "outputs": [],
   "source": []
  }
 ],
 "metadata": {
  "kernelspec": {
   "display_name": "Python 3",
   "language": "python",
   "name": "python3"
  },
  "language_info": {
   "codemirror_mode": {
    "name": "ipython",
    "version": 3
   },
   "file_extension": ".py",
   "mimetype": "text/x-python",
   "name": "python",
   "nbconvert_exporter": "python",
   "pygments_lexer": "ipython3",
   "version": "3.7.7"
  }
 },
 "nbformat": 4,
 "nbformat_minor": 4
}
