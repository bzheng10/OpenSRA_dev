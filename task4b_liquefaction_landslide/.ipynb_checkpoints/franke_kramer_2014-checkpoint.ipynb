{
 "cells": [
  {
   "cell_type": "code",
   "execution_count": 1,
   "metadata": {},
   "outputs": [],
   "source": [
    "import numpy as np\n",
    "from scipy.stats import norm\n",
    "import matplotlib.pyplot as plt\n",
    "import os"
   ]
  },
  {
   "cell_type": "code",
   "execution_count": 2,
   "metadata": {},
   "outputs": [],
   "source": [
    "### Calculate stress profile\n",
    "def get_stress_profile(**kwargs):\n",
    "    gamma_w = kwargs.get('rho_arr',9.81) # kN/m^3 unit weight of water, default to metric\n",
    "    z_arr = kwargs.get('z_arr',0) ## m, depth to get stresses\n",
    "    gamma_layer = kwargs.get('gamma_layer',18) ## kN/m^3, unit weight of layers, default to 18 kN/m^3\n",
    "    dH_layer = kwargs.get('dH_layer',0) ## m, thickness of layers, must be same length as gamma_layer\n",
    "    dtw = kwargs.get('dtw',0) ## m, depth to water-table, default 0 m\n",
    "    \n",
    "    nLayers = len(gamma_layer)\n",
    "    dsig_tot = [gamma_layer[i]*dH_layer[i] for i in range(nLayers)]\n",
    "    sig_sum = [sum(dsig_tot[0:i+1]) for i in range(nLayers)]\n",
    "    z_full = np.hstack([0,[sum(dH_layer[0:i+1]) for i in range(nLayers)]])\n",
    "    sig_tot_full = np.hstack([0,sig_sum])\n",
    "    \n",
    "    sig_tot_z = np.interp(z_arr,z_full,sig_tot_full)\n",
    "    u_z = [0 if z < dtw else gamma_w*(z-dtw) for z in z_arr]\n",
    "    sig_eff_z = sig_tot_z - u_z\n",
    "    \n",
    "    return sig_tot_z, u_z, sig_eff_z"
   ]
  },
  {
   "cell_type": "code",
   "execution_count": 17,
   "metadata": {},
   "outputs": [],
   "source": [
    "#####################################################################################################################\n",
    "##### Youd et al. (2002) Revised multilinear regression equations for prediction of lateral spread displacement\n",
    "#####################################################################################################################\n",
    "def youd_etal_2002(**kwargs):\n",
    "\n",
    "    ##### Regression coefficients for empirical lateral spread model\n",
    "    ## Model inputs:\n",
    "    ## - M = moment magnitude\n",
    "    ## - R = closest distance from site to source (km)\n",
    "    ## - W = free-face ratio (height and/or horizontal distance from site to toe) (%)\n",
    "    ## - S = ground slope\n",
    "    ## - T_15 = cumulative thickness (in upper 20 m) of all saturated soil layers susceptible to liquefaction initiation with N1_60\n",
    "    ## - F_15 = average fines content of the soil comprising T_15 (%)\n",
    "    ## - D50_15 = average mean grain size of the soil comprising T_15 (mm)\n",
    "    ##\n",
    "    ## Model output:\n",
    "    ## - Dh = median computed permanent lateral spread displacement (m)\n",
    "    ##\n",
    "    ## flag_model == 1: ground slope (infinite slope)\n",
    "    ## flag_model == 2: free face\n",
    "    ##\n",
    "    ## Ground slope\n",
    "    if flag_model == 1:\n",
    "        b0 = -16.213\n",
    "        b4 = 0\n",
    "        b5 = 0.338\n",
    "    elif flag_model == 2:\n",
    "        b0 = -16.713\n",
    "        b4 = 0.592\n",
    "        b5 = 0\n",
    "        \n",
    "\t## model params\n",
    "    b1 = 1.532\n",
    "    b2 = -1.406\n",
    "    b3 = -0.012\n",
    "    b6 = 0.540\n",
    "    b7 = 3.413\n",
    "    b8 = -0.795\n",
    "    \n",
    "\t## adjusted distance\n",
    "    R_star = R + 10**(0.89*M-5.64)\n",
    "    \n",
    "\t## standard deviation\n",
    "    sigma_log_Dh = 0.197\n",
    "\tsigma_ln_Dh = sigma_log_Dh*np.log(10)\n",
    "    \n",
    "\t## calcualte ln(D)\n",
    "    log_Dh = b0 + b1*M + b2*np.log10(R_star) + b3*R + b4*np.log10(W) + \\\n",
    "             b4*np.log10(S) + b6*np.log(T_15) + b7*np.log10(100-F_15) + b8*np.log10(D50_15+0.1)\n",
    "    \n",
    "\t## calculate D\n",
    "    Dh = 10**log_Dh\n",
    "    \n",
    "    ##\n",
    "    return Dh, sigma_ln_Dh"
   ]
  },
  {
   "cell_type": "code",
   "execution_count": 10,
   "metadata": {},
   "outputs": [],
   "source": [
    "##### Franke and Kramer (2014) Procedure for the Empirical Evaluation of Lateral Spread Displacement Hazard Curves\n",
    "def franke_kramer_2014(**kwargs):\n",
    "    \n",
    "    ## inputs for CSR\n",
    "    sv0_eff = kwargs.get('sv0_eff',None) # kPa, initial vertical effective stress\n",
    "    fc = kwargs.get('fc',0.0) # percent, fines content\n",
    "    N1_60_cs = kwargs.get('N1_60_cs',None) # blow corrected for sampling procedure, overburden, and fines content\n",
    "    m = kwargs.get('m',None) # moment magnitude\n",
    "    p_liq = kwargs.get('p_liq',None) # decimals, probability of liquefaction, if want to determine equivalent CRR\n",
    "    flag_include_error = kwargs.get('flag_include_error',1) # flag for cases 1 and 2: measurement/estimation errors included/removed, default to remove (Cetin et al., 2004)\n",
    "    patm = kwargs.get('patm',100) # atmphospheric pressure in units of svo_eff, default to 100 kPa\n",
    "    \n",
    "    ## Model parameters with measurement/estimation errors included/removed (Cetin et al., 2004)\n",
    "    if flag_include_error == 1:\n",
    "        t1 = 0.004\n",
    "        t2 = 13.79\n",
    "        t3 = 29.06\n",
    "        t4 = 3.82\n",
    "        t5 = 0.06\n",
    "        t6 = 15.25\n",
    "        sigma = 4.21\n",
    "    elif flag_include_error == 2:\n",
    "        t1 = 0.004\n",
    "        t2 = 13.32\n",
    "        t3 = 29.53\n",
    "        t4 = 3.70\n",
    "        t5 = 0.05\n",
    "        t6 = 16.85\n",
    "        sigma = 2.70\n",
    "\n",
    "    ## check what inputs are given\n",
    "    if p_liq is None:\n",
    "        \n",
    "        ## inputs for CSR\n",
    "        sv0_tot = kwargs.get('sv0_tot',None) # kPa, initial vertical total stress\n",
    "        amax = kwargs.get('amax',None) # g, peak surface acceleration\n",
    "        patm = kwargs.get('patm',100) # atmphospheric pressure in units of svo_eff, default to 100 kPa\n",
    "        rd = kwargs.get('rd',None) # depth reduction factor\n",
    "        \n",
    "        ##\n",
    "        MSF = 10**2.24/m**2.56\n",
    "        \n",
    "        ## CSR (Seed and Idriss, 1971)\n",
    "        csr_eq = 0.65*amax*sv0_tot/sv0_eff # eq. 1 without msf\n",
    "        csr = 0.65*amax*sv0_tot/sv0_eff*rd/MSF # eq. 1\n",
    "\n",
    "#         print(str(amax),str(sv0_tot),str(sv0_eff),str(rd),str(MSF),str(csr_eq),str(csr))\n",
    "        \n",
    "        ## Probability of liquefaction (Cetin et al., 2004)\n",
    "        p_liq_eq = norm.cdf(-(N1_60_cs*(1+t1*fc) - t2*np.log(csr_eq) - t3*np.log(m) - t4*np.log(sv0_eff/patm) + t5*fc)/sigma) # eq. 2\n",
    "        p_liq = norm.cdf(-(N1_60_cs*(1+t1*fc) - t2*np.log(csr) - t3*np.log(m) - t4*np.log(sv0_eff/patm) + t5*fc)/sigma) # eq. 2\n",
    "        \n",
    "        crr = np.nan # not trying to calculate CRR\n",
    "\n",
    "#         print(str(p_liq) + ' ' + str(p_liq_eq))\n",
    "        \n",
    "    elif p_liq is not None:\n",
    "        \n",
    "        ## Inverse analysis of CRR, (Cetin et al., 2004)\n",
    "        crr = np.exp((N1_60_cs*(1+t1*fc) - t3*np.log(m) - t4*np.log(sv0_eff/patm) + t5*fc + t6 + sigma*norm.ppf(p_liq))/t2) # eq. 3\n",
    "    \n",
    "    ##\n",
    "    return p_liq, crr, p_liq_eq"
   ]
  },
  {
   "cell_type": "code",
   "execution_count": 249,
   "metadata": {},
   "outputs": [
    {
     "ename": "UnboundLocalError",
     "evalue": "local variable 'p_liq_eq' referenced before assignment",
     "output_type": "error",
     "traceback": [
      "\u001b[1;31m---------------------------------------------------------------------------\u001b[0m",
      "\u001b[1;31mUnboundLocalError\u001b[0m                         Traceback (most recent call last)",
      "\u001b[1;32m<ipython-input-249-6ea8e3f180f9>\u001b[0m in \u001b[0;36m<module>\u001b[1;34m\u001b[0m\n\u001b[0;32m      8\u001b[0m     \u001b[0mtemp\u001b[0m \u001b[1;33m=\u001b[0m \u001b[1;33m[\u001b[0m\u001b[1;33m]\u001b[0m\u001b[1;33m\u001b[0m\u001b[1;33m\u001b[0m\u001b[0m\n\u001b[0;32m      9\u001b[0m     \u001b[1;32mfor\u001b[0m \u001b[0mj\u001b[0m \u001b[1;32min\u001b[0m \u001b[0mrange\u001b[0m\u001b[1;33m(\u001b[0m\u001b[0mlen\u001b[0m\u001b[1;33m(\u001b[0m\u001b[0mN1_60_cs\u001b[0m\u001b[1;33m)\u001b[0m\u001b[1;33m)\u001b[0m\u001b[1;33m:\u001b[0m\u001b[1;33m\u001b[0m\u001b[1;33m\u001b[0m\u001b[0m\n\u001b[1;32m---> 10\u001b[1;33m         \u001b[0m_\u001b[0m\u001b[1;33m,\u001b[0m\u001b[0mcrr\u001b[0m\u001b[1;33m,\u001b[0m\u001b[0m_\u001b[0m \u001b[1;33m=\u001b[0m \u001b[0mkramer_mayfield_2007\u001b[0m\u001b[1;33m(\u001b[0m\u001b[0mN1_60_cs\u001b[0m\u001b[1;33m=\u001b[0m\u001b[0mN1_60_cs\u001b[0m\u001b[1;33m[\u001b[0m\u001b[0mj\u001b[0m\u001b[1;33m]\u001b[0m\u001b[1;33m,\u001b[0m\u001b[0mfc\u001b[0m\u001b[1;33m=\u001b[0m\u001b[0mfc\u001b[0m\u001b[1;33m,\u001b[0m\u001b[0mp_liq\u001b[0m\u001b[1;33m=\u001b[0m\u001b[0mp_liq\u001b[0m\u001b[1;33m[\u001b[0m\u001b[0mi\u001b[0m\u001b[1;33m]\u001b[0m\u001b[1;33m,\u001b[0m\u001b[0msv0_eff\u001b[0m\u001b[1;33m=\u001b[0m\u001b[0msv0_eff\u001b[0m\u001b[1;33m,\u001b[0m\u001b[0mm\u001b[0m\u001b[1;33m=\u001b[0m\u001b[1;36m7.5\u001b[0m\u001b[1;33m,\u001b[0m\u001b[0mflag_include_error\u001b[0m\u001b[1;33m=\u001b[0m\u001b[1;36m2\u001b[0m\u001b[1;33m)\u001b[0m\u001b[1;33m\u001b[0m\u001b[1;33m\u001b[0m\u001b[0m\n\u001b[0m\u001b[0;32m     11\u001b[0m         \u001b[0mtemp\u001b[0m\u001b[1;33m.\u001b[0m\u001b[0mappend\u001b[0m\u001b[1;33m(\u001b[0m\u001b[0mcrr\u001b[0m\u001b[1;33m)\u001b[0m\u001b[1;33m\u001b[0m\u001b[1;33m\u001b[0m\u001b[0m\n\u001b[0;32m     12\u001b[0m     \u001b[0mcrr_dict\u001b[0m\u001b[1;33m[\u001b[0m\u001b[1;34m'p_liq_'\u001b[0m\u001b[1;33m+\u001b[0m\u001b[0mstr\u001b[0m\u001b[1;33m(\u001b[0m\u001b[0mp_liq\u001b[0m\u001b[1;33m[\u001b[0m\u001b[0mi\u001b[0m\u001b[1;33m]\u001b[0m\u001b[1;33m)\u001b[0m\u001b[1;33m]\u001b[0m \u001b[1;33m=\u001b[0m \u001b[0mtemp\u001b[0m\u001b[1;33m\u001b[0m\u001b[1;33m\u001b[0m\u001b[0m\n",
      "\u001b[1;32m<ipython-input-248-fa42ac0838e4>\u001b[0m in \u001b[0;36mkramer_mayfield_2007\u001b[1;34m(**kwargs)\u001b[0m\n\u001b[0;32m     59\u001b[0m \u001b[1;33m\u001b[0m\u001b[0m\n\u001b[0;32m     60\u001b[0m     \u001b[1;31m##\u001b[0m\u001b[1;33m\u001b[0m\u001b[1;33m\u001b[0m\u001b[1;33m\u001b[0m\u001b[0m\n\u001b[1;32m---> 61\u001b[1;33m     \u001b[1;32mreturn\u001b[0m \u001b[0mp_liq\u001b[0m\u001b[1;33m,\u001b[0m \u001b[0mcrr\u001b[0m\u001b[1;33m,\u001b[0m \u001b[0mp_liq_eq\u001b[0m\u001b[1;33m\u001b[0m\u001b[1;33m\u001b[0m\u001b[0m\n\u001b[0m",
      "\u001b[1;31mUnboundLocalError\u001b[0m: local variable 'p_liq_eq' referenced before assignment"
     ]
    }
   ],
   "source": [
    "N1_60_cs = np.arange(0,40+0.5,0.5)\n",
    "fc = 0\n",
    "p_liq = [0.05,0.2,0.5,0.85,0.95]\n",
    "sv0_eff = 100\n",
    "\n",
    "crr_dict = {}\n",
    "for i in range(len(p_liq)):\n",
    "    temp = []\n",
    "    for j in range(len(N1_60_cs)):\n",
    "        _,crr,_ = kramer_mayfield_2007(N1_60_cs=N1_60_cs[j],fc=fc,p_liq=p_liq[i],sv0_eff=sv0_eff,m=7.5,flag_include_error=2)\n",
    "        temp.append(crr)\n",
    "    crr_dict['p_liq_'+str(p_liq[i])] = temp"
   ]
  },
  {
   "cell_type": "code",
   "execution_count": 244,
   "metadata": {},
   "outputs": [],
   "source": [
    "matOut = N1_60_cs\n",
    "for i in crr_dict:\n",
    "    matOut = np.vstack([matOut,np.transpose(crr_dict[i])])\n",
    "matOut = np.transpose(np.asarray(matOut))"
   ]
  },
  {
   "cell_type": "code",
   "execution_count": 139,
   "metadata": {},
   "outputs": [],
   "source": [
    "np.savetxt(os.getcwd()+'\\\\crr_kramer_mayfield_2007.txt',matOut,fmt='%6.3f',delimiter=',')"
   ]
  },
  {
   "cell_type": "code",
   "execution_count": 204,
   "metadata": {},
   "outputs": [],
   "source": []
  },
  {
   "cell_type": "code",
   "execution_count": 11,
   "metadata": {},
   "outputs": [],
   "source": [
    "z_arr = np.arange(0,30+0.5,0.5)\n",
    "z_arr[0] = z_arr[1]/100\n",
    "gamma_layer = [17.2, 20, 20]\n",
    "dH_layer = [2, 10, 20]\n",
    "H_sum = np.hstack([0,[sum(dH_layer[0:i+1]) for i in range(len(dH_layer))]])\n",
    "dtw = 2\n",
    "N1_60_layer = [10,10,30,30]\n",
    "fc = 0\n",
    "\n",
    "sv0_tot, u0, sv0_eff = get_stress_profile(z_arr=z_arr,gamma_layer=gamma_layer,dH_layer=dH_layer,dtw=dtw)\n",
    "N1_60 = np.interp(z_arr,H_sum,N1_60_layer)\n",
    "rd = get_rd(z_arr)"
   ]
  },
  {
   "cell_type": "code",
   "execution_count": 22,
   "metadata": {},
   "outputs": [],
   "source": [
    "out = np.transpose([SPT_correction(N1_60=i,fc=fc) for i in N1_60])\n",
    "# N1_60_cs = np.transpose(out)\n",
    "amax = 0.2\n",
    "p_liq = [0.15,0.5,0.85]\n",
    "crr_km07 = {}\n",
    "out = [kramer_mayfield_2007(N1_60_cs=N1_60_cs[i],fc=fc,sv0_eff=sv0_eff[i],sv0_tot=sv0_tot[i],rd=rd[i],amax=amax,m=6) for i in range(len(N1_60_cs))]\n",
    "p_liq = np.transpose(out)[0]"
   ]
  },
  {
   "cell_type": "code",
   "execution_count": 23,
   "metadata": {},
   "outputs": [
    {
     "data": {
      "text/plain": [
       "array([10., 10., 10., 10., 10., 11., 12., 13., 14., 15., 16., 17., 18.,\n",
       "       19., 20., 21., 22., 23., 24., 25., 26., 27., 28., 29., 30., 30.,\n",
       "       30., 30., 30., 30., 30., 30., 30., 30., 30., 30., 30., 30., 30.,\n",
       "       30., 30., 30., 30., 30., 30., 30., 30., 30., 30., 30., 30., 30.,\n",
       "       30., 30., 30., 30., 30., 30., 30., 30., 30.])"
      ]
     },
     "execution_count": 23,
     "metadata": {},
     "output_type": "execute_result"
    }
   ],
   "source": [
    "N1_60_cs"
   ]
  },
  {
   "cell_type": "code",
   "execution_count": 24,
   "metadata": {},
   "outputs": [
    {
     "data": {
      "image/png": "[encoded data removed]",
      "text/plain": [
       "<Figure size 1440x288 with 4 Axes>"
      ]
     },
     "metadata": {
      "needs_background": "light"
     },
     "output_type": "display_data"
    }
   ],
   "source": [
    "nx = 1\n",
    "ny = 4\n",
    "fontsize_label = 16\n",
    "fontsize_axis = 12\n",
    "fontname = 'arial'\n",
    "##\n",
    "figsize = (20,4)\n",
    "fig, [ax1,ax2,ax3,ax4] = plt.subplots(nx, ny, figsize=figsize)\n",
    "##\n",
    "ax1.plot(sv0_tot,z_arr,'k',linewidth=3)\n",
    "ax1.plot(u0,z_arr,'b',linewidth=3)\n",
    "ax1.plot(sv0_eff,z_arr,'--k',linewidth=3)\n",
    "[ax1.plot([0,500],[i,i],'--k') for i in H_sum]\n",
    "ax1.plot([0,500],[dtw,dtw],'b')\n",
    "ax1.plot(17.2*1,1,'or')\n",
    "ax1.plot(17.2*2+20*(4-2),4,'or')\n",
    "ax1.plot(17.2*2+20*(4-2)-9.81*(4-2),4,'or')\n",
    "ax1.plot(17.2*2+20*(10-2),10,'or')\n",
    "ax1.plot(17.2*2+20*(10-2)-9.81*(10-2),10,'or')\n",
    "##\n",
    "ax1.set_xlim([0,500])\n",
    "ax1.set_ylim([0,max(H_sum)])\n",
    "ax1.set_xlabel('Stresses (kPa)',fontsize=16,fontname=fontname)\n",
    "ax1.set_ylabel('Depth (m)',fontsize=16,fontname=fontname)\n",
    "ax1.tick_params(labelsize=12)\n",
    "ax1.legend(['sv0_tot','u0','sv0_eff'],fontsize=12)\n",
    "ax1.invert_yaxis()\n",
    "\n",
    "##\n",
    "ax2.plot(N1_60,z_arr,'r',linewidth=3)\n",
    "[ax2.plot([i,i],[0,max(H_sum)],'--k') for i in N1_60_layer]\n",
    "[ax2.plot([0,250],[i,i],'--k') for i in H_sum]\n",
    "##\n",
    "ax2.set_xlim([5,35])\n",
    "ax2.set_ylim([0,max(H_sum)])\n",
    "ax2.set_xlabel('N1_60',fontsize=16,fontname=fontname)\n",
    "# ax2.set_ylabel('Depth (m)',fontsize=16,fontname=fontname)\n",
    "ax2.tick_params(labelsize=12)\n",
    "ax2.invert_yaxis()\n",
    "\n",
    "##\n",
    "ax3.plot(rd,z_arr,'r',linewidth=3)\n",
    "[ax3.plot([0,250],[i,i],'--k') for i in H_sum]\n",
    "##\n",
    "ax3.set_xlim([0,1])\n",
    "ax3.set_ylim([0,max(H_sum)])\n",
    "ax3.set_xlabel('Depth reduction factor',fontsize=16,fontname=fontname)\n",
    "# ax3.set_ylabel('Depth (m)',fontsize=16,fontname=fontname)\n",
    "ax3.tick_params(labelsize=12)\n",
    "ax3.invert_yaxis()\n",
    "\n",
    "##\n",
    "ax4.plot(p_liq,z_arr,'r',linewidth=3)\n",
    "[ax4.plot([0,250],[i,i],'--k') for i in H_sum]\n",
    "##\n",
    "ax4.set_xlim([0,1])\n",
    "ax4.set_ylim([0,max(H_sum)])\n",
    "ax4.set_xlabel('Probability of liquefaction',fontsize=16,fontname=fontname)\n",
    "# ax4.set_ylabel('Depth (m)',fontsize=16,fontname=fontname)\n",
    "ax4.tick_params(labelsize=12)\n",
    "ax4.invert_yaxis()\n",
    "##\n",
    "plt.show()"
   ]
  },
  {
   "cell_type": "code",
   "execution_count": null,
   "metadata": {},
   "outputs": [],
   "source": []
  },
  {
   "cell_type": "code",
   "execution_count": null,
   "metadata": {},
   "outputs": [],
   "source": []
  },
  {
   "cell_type": "code",
   "execution_count": 86,
   "metadata": {},
   "outputs": [],
   "source": [
    "N1_60 = np.arange(0,30+0.5,0.5)\n",
    "fc = [0,5,15,35]\n",
    "\n",
    "crr_dict = {}\n",
    "for i in range(len(fc)):\n",
    "    temp = []\n",
    "    for j in range(len(N1_60)):\n",
    "        N1_60_cs,crr_m7_5 = youd_etal_2001(N1_60=N1_60[j],fc=fc[i])\n",
    "        temp.append([N1_60_cs,crr_m7_5])\n",
    "    crr_dict['fc_'+str(fc[i])] = temp"
   ]
  },
  {
   "cell_type": "code",
   "execution_count": 87,
   "metadata": {},
   "outputs": [],
   "source": [
    "matOut = N1_60\n",
    "for i in crr_dict:\n",
    "    matOut = np.vstack([matOut,np.transpose(crr_dict[i])])\n",
    "matOut = np.transpose(np.asarray(matOut))"
   ]
  },
  {
   "cell_type": "code",
   "execution_count": 79,
   "metadata": {},
   "outputs": [],
   "source": [
    "# np.savetxt(os.getcwd()+'\\\\crr_youd_etal_2001.txt',matOut,fmt='%6.3f',delimiter=',')"
   ]
  },
  {
   "cell_type": "code",
   "execution_count": 3,
   "metadata": {},
   "outputs": [],
   "source": []
  },
  {
   "cell_type": "code",
   "execution_count": 96,
   "metadata": {},
   "outputs": [
    {
     "data": {
      "text/plain": [
       "(11.25, 0.12430499835261738)"
      ]
     },
     "execution_count": 96,
     "metadata": {},
     "output_type": "execute_result"
    }
   ],
   "source": [
    "Nm = 15\n",
    "fc = 5\n",
    "ERm = 60\n",
    "BH_diam = 100\n",
    "L_rod = 3\n",
    "sv0_eff = 100\n",
    "\n",
    "youd_etal_2001(Nm=Nm,fc=fc,ERm=ERm,BH_diam=BH_diam,L_rod=L_rod,sv0_eff=sv0_eff)"
   ]
  },
  {
   "cell_type": "code",
   "execution_count": 3,
   "metadata": {},
   "outputs": [],
   "source": []
  },
  {
   "cell_type": "code",
   "execution_count": 3,
   "metadata": {},
   "outputs": [],
   "source": []
  },
  {
   "cell_type": "code",
   "execution_count": null,
   "metadata": {},
   "outputs": [],
   "source": []
  }
 ],
 "metadata": {
  "kernelspec": {
   "display_name": "Python 3",
   "language": "python",
   "name": "python3"
  },
  "language_info": {
   "codemirror_mode": {
    "name": "ipython",
    "version": 3
   },
   "file_extension": ".py",
   "mimetype": "text/x-python",
   "name": "python",
   "nbconvert_exporter": "python",
   "pygments_lexer": "ipython3",
   "version": "3.7.3"
  }
 },
 "nbformat": 4,
 "nbformat_minor": 4
}
