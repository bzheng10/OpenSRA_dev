{
 "cells": [
  {
   "cell_type": "code",
   "execution_count": 77,
   "metadata": {},
   "outputs": [],
   "source": [
    "import numpy as np\n",
    "import os\n",
    "import matplotlib.pyplot as plt\n",
    "from scipy.stats import norm\n",
    "from numpy import fft\n",
    "# import pandas as pd"
   ]
  },
  {
   "cell_type": "code",
   "execution_count": 101,
   "metadata": {},
   "outputs": [],
   "source": [
    "## Get arias intensity\n",
    "def get_Ia(t, acc, gval=9.81):\n",
    "    \n",
    "    ## Determine time step of array \n",
    "    dt = [t[i+1]-t[i] for i in range(len(t)-1)] # sec\n",
    "    \n",
    "    ## Pad 1 to beginning of dt array for index multiplication of vectors\n",
    "    dt = np.asarray(np.hstack([1,dt])) # sec\n",
    "    \n",
    "    ## Multiply indices of dt and acc array\n",
    "    Ia = np.asarray([abs(acc[i])**2 * dt[i] for i in range(len(acc))]) # m/s^2 * m/s^2 * sec = m^2/s^3\n",
    "    \n",
    "    ## Sum up all the indices to get Ia\n",
    "    Ia = np.asarray([sum(Ia[0:i]) for i in range(len(Ia))]) * np.pi/2/gval # m^2/s^3 / m/s^2 = m/s\n",
    "    \n",
    "    ##\n",
    "    return max(Ia)"
   ]
  },
  {
   "cell_type": "code",
   "execution_count": 106,
   "metadata": {},
   "outputs": [],
   "source": [
    "##### Jibson (2007) Regression models for estimating coseismic landslide displacement\n",
    "##### Saygili (2008) Dissertation - A probabilistic approach for evaluating earthquake-induced landslides\n",
    "def jibson_2007(**kwargs):\n",
    "    \n",
    "    ## Get inputs\n",
    "    pga = kwargs.get('pga',None) # g, peak ground acceleration = amax in paper\n",
    "    M = kwargs.get('M',None) # moment magnitude\n",
    "    Ia = kwargs.get('Ia',None) # m/s, arias intensity\n",
    "    ky = kwargs.get('ky',None) # g, yield acceleration = ac in paper, either provided or computed below\n",
    "    \n",
    "    ## Check if ky is provided, if not then compute it\n",
    "    if ky is None:\n",
    "        \n",
    "        ## Get inputs to calculate ky\n",
    "        alpha = kwargs.get('alpha',None) # deg, slope angle\n",
    "        FS = kwargs.get('FS',None) # factor of safety, either provided or computed below\n",
    "    \n",
    "        ## Try to calculate ky\n",
    "        try:\n",
    "            ky = (FS-1)*np.sin(np.radians(alpha)) ## eq. 1 in Jibson (2007)\n",
    "            \n",
    "        except:\n",
    "            print('Not enough inputs to calculate ky - need factor of safety and slope angle')\n",
    "            ky = None\n",
    "        \n",
    "    ###########################################################\n",
    "    ## Pre-define output variables\n",
    "    D_pga = None\n",
    "    sig_pga = None\n",
    "\n",
    "    D_pga_M = None\n",
    "    sig_pga_M = None\n",
    "\n",
    "    D_Ia = None\n",
    "    sig_Ia = None\n",
    "\n",
    "    D_pga_Ia = None\n",
    "    sig_pga_Ia = None\n",
    "        \n",
    "    ###########################################################\n",
    "    if pga is None or ky is None:\n",
    "        print('Requires at the minimum pga and ky as inputs; cannot proceed with procedure')\n",
    "    \n",
    "    else:\n",
    "        ###########################################################\n",
    "        ## Model as a function of pga and ky only\n",
    "        \n",
    "        ## displacement, cm\n",
    "        D_pga = 10**(0.215 + np.log10((1 - ky/pga)**2.341 * (ky/pga)**-1.438)) ## eq. 6 in Jibson (2007)\n",
    "        \n",
    "        ## sigma for ln(D)\n",
    "        sig_pga = 0.510*np.log(10) ## eq. 6 in Jibson (2007)\n",
    "    \n",
    "        ###########################################################\n",
    "        ## Model as a function of pga, ky, and M\n",
    "        if M is not None:\n",
    "\n",
    "            ## displacement, cm\n",
    "            D_pga_M = 10**(-2.710 + np.log10((1 - ky/pga)**2.335 * (ky/pga)**-1.478) + 0.424*M) ## eq. 7 in Jibson (2007)\n",
    "            \n",
    "            ## sigma for ln(D)\n",
    "            sig_pga_M = 0.454*np.log(10) ## eq. 7 in Jibson (2007)\n",
    "            \n",
    "        ###########################################################\n",
    "        if Ia is not None:\n",
    "\n",
    "            ###########################################################\n",
    "            ## Model as a function of ky and Ia (no pga)\n",
    "            ## displacement, cm\n",
    "            D_Ia = 10**(2.401*np.log10(Ia) - 3.481*np.log10(ky) - 3.230) ## eq. 9 in Jibson (2007)\n",
    "            \n",
    "            ## sigma for ln(D)\n",
    "            sig_Ia = 0.656*np.log(10) ## eq. 9 in Jibson (2007)\n",
    "            \n",
    "            ###########################################################\n",
    "            ## Model as a function of ky, Ia, and pga\n",
    "            ## displacement, cm\n",
    "            D_pga_Ia = 10**(0.561*np.log10(Ia) - 3.833*np.log10(ky/pga) - 1.474) ## eq. 10 in Jibson (2007)\n",
    "            \n",
    "            ## sigma for ln(D)\n",
    "            sig_pga_Ia = 0.616*np.log(10) ## eq. 10 in Jibson (2007)\n",
    "    \n",
    "    \n",
    "    ###\n",
    "    outMat = np.array([[D_pga,        sig_pga],\n",
    "                       [D_pga_M,      sig_pga_M],\n",
    "                       [D_Ia,     sig_Ia],\n",
    "                       [D_pga_Ia,     sig_pga_Ia]])\n",
    "    \n",
    "    ##\n",
    "    return outMat"
   ]
  },
  {
   "cell_type": "code",
   "execution_count": 107,
   "metadata": {},
   "outputs": [],
   "source": [
    "pga = 0.57 # g\n",
    "M = 7 # moment magnitude\n",
    "ky = 0.15 # yield acceleration\n",
    "t = np.linspace(0,5,201) # sec, time array\n",
    "acc = pga*np.sin(2*np.pi*fn*1*t) # g, sinusoidal time history\n",
    "Ia = get_Ia(t,acc) # m/s, arias intensity"
   ]
  },
  {
   "cell_type": "code",
   "execution_count": 108,
   "metadata": {},
   "outputs": [],
   "source": [
    "result_j07 = jibson_2007(pga=pga,M=M,ky=ky,Ia=Ia)"
   ]
  },
  {
   "cell_type": "code",
   "execution_count": 109,
   "metadata": {},
   "outputs": [
    {
     "data": {
      "text/plain": [
       "array([[5.47333920e+00, 1.17431840e+00],\n",
       "       [6.38615508e+00, 1.04537363e+00],\n",
       "       [3.24397787e-03, 1.51049582e+00],\n",
       "       [1.78378865e+00, 1.41839242e+00]])"
      ]
     },
     "execution_count": 109,
     "metadata": {},
     "output_type": "execute_result"
    }
   ],
   "source": [
    "result_j07"
   ]
  },
  {
   "cell_type": "code",
   "execution_count": null,
   "metadata": {},
   "outputs": [],
   "source": []
  }
 ],
 "metadata": {
  "kernelspec": {
   "display_name": "Python 3",
   "language": "python",
   "name": "python3"
  },
  "language_info": {
   "codemirror_mode": {
    "name": "ipython",
    "version": 3
   },
   "file_extension": ".py",
   "mimetype": "text/x-python",
   "name": "python",
   "nbconvert_exporter": "python",
   "pygments_lexer": "ipython3",
   "version": "3.7.3"
  }
 },
 "nbformat": 4,
 "nbformat_minor": 2
}
