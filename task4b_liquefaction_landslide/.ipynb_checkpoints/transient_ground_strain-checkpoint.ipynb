{
 "cells": [
  {
   "cell_type": "code",
   "execution_count": 1,
   "metadata": {},
   "outputs": [],
   "source": [
    "### Ch10 - Response of Buried Continuous Pipelines to Wave Propagation\n",
    "### O'Rourke and Liu (2004) Seismic Design of Buried and Offshore Pipelines"
   ]
  },
  {
   "cell_type": "code",
   "execution_count": 2,
   "metadata": {},
   "outputs": [],
   "source": [
    "import numpy as np\n",
    "# from scipy.stats import norm\n",
    "# import matplotlib.pyplot as plt"
   ]
  },
  {
   "cell_type": "code",
   "execution_count": 4,
   "metadata": {},
   "outputs": [],
   "source": [
    "### Newmark (1967)\n",
    "def newmark_1967(**kwargs):\n",
    "    \n",
    "    ## inputs\n",
    "    Vmax = kwargs.get('Vmax',None) # peak ground velocity\n",
    "    \n",
    "    ## case 1: shear wave\n",
    "    Vs = kwargs.get('Vs',None) # shear wave velocity\n",
    "    gamma_s = kwargs.get('gamma_s',None) # deg, propagating angle relative to vertical axis\n",
    "    \n",
    "    ## case 2: Rayleigh wave\n",
    "    Cr = kwargs.get('Cr',None) # propagation or phase velocity of Rayleigh wave\n",
    "    \n",
    "    ## ground strain parallel to pipe axis\n",
    "    if Vs is not None:\n",
    "        # shear wave propagation\n",
    "        eps_g = Vmax/Vs*np.sin(np.radians(gamma_s))*np.cos(np.radians(gamma_s)) # eq. 10.1\n",
    "    elif Cr is not None:\n",
    "        # Rayleigh wave traveling parallel to pipe axis\n",
    "        eps_g = Vmax/Cr # eq. 10.2\n",
    "        \n",
    "    ##\n",
    "    return eps_g"
   ]
  },
  {
   "cell_type": "code",
   "execution_count": null,
   "metadata": {},
   "outputs": [],
   "source": [
    "### Shinozuka and Koike (1979)\n",
    "def shinozuka_koike_1979(**kwargs):\n",
    "    \n",
    "    ## inputs\n",
    "    egs_g = kwargs.get('egs_g',None) # peak ground velocity\n",
    "    D = kwargs.get('D',None) # outer diameter of pipe\n",
    "    l = kwargs.get('l',None) # wavelength\n",
    "    t = kwargs.get('t',None) # pipe wall thickness\n",
    "    E = kwargs.get('E',None) # modulus of elasticity\n",
    "    G = kwargs.get('G',None) # shear modulus\n",
    "    \n",
    "    ## ground to pipe conversion factor\n",
    "    beta_0 = kwargs.get('beta_0',None)\n",
    "    if beta_0 is None:\n",
    "        A = np.pi*(D**2 - (D-2*t)**2) # cross-sectional area of pipe\n",
    "        Kg = 2*np.pi*G # equivalent spring constant to reflect soil-structural interaction\n",
    "        beta_0 = 1/(1 + (2*np.pi/l)**2 * A*E/Kg) # eq. 10.5\n",
    "    \n",
    "    ## shear strain at soil-pipe interface\n",
    "    gamma_0 = kwargs.get('gamma_0',None)\n",
    "    if gamma_0 is None:\n",
    "        gamma_0 = 2*np.pi/l*E*t/G*eps_g*beta_0 # eq. 10.6\n",
    "        \n",
    "    ## critical shear strain, default = 1e-3\n",
    "    ## if gamma_0 <= gamma_cr, no slippage\n",
    "    ## if gamma_0 > gamma_cr, slips\n",
    "    gamma_cr = kwargs.get('gamma_cr',1.0e-3)\n",
    "    \n",
    "    ## ground to pipe conversion factor, for large ground movement, i.e., gamma_0 > gamma_cr\n",
    "    beta_c = gamma_cr/gamma_0*q*beta_0 # eq. 10.8\n",
    "    \n",
    "    ## pipe axial strain\n",
    "    eps_p = beta_c*eps_g # eq. 10.9\n",
    "        \n",
    "    ##\n",
    "    return eps_p"
   ]
  },
  {
   "cell_type": "code",
   "execution_count": null,
   "metadata": {},
   "outputs": [],
   "source": [
    "### O'Rourke and El Hmadi (1988)\n",
    "def orourke_elhmadi_1988(**kwargs):\n",
    "    \n",
    "    ## inputs\n",
    "    egs_g = kwargs.get('egs_g',None) # peak ground velocity\n",
    "    D = kwargs.get('D',None) # outer diameter of pipe\n",
    "    l = kwargs.get('l',None) # wavelength\n",
    "    t = kwargs.get('t',None) # pipe wall thickness\n",
    "    E = kwargs.get('E',None) # modulus of elasticity\n",
    "    tu = kwargs.get('tu',None) # maximum frictional resistance at shear interface\n",
    "    \n",
    "    # cross-sectional area of pipe\n",
    "    A = np.pi*(D**2 - (D-2*t)**2)\n",
    "    \n",
    "    ## strain due to friction forces acting over 1/4 of wavelength\n",
    "    ## controls when ground strain becomes large\n",
    "    eps_f = tu*(l/4)/(A*E) # eq. 10.15\n",
    "    \n",
    "    ## pipe axial strain\n",
    "    eps_p = min(eps_g, eps_f) # eq. 10.16\n",
    "        \n",
    "    ##\n",
    "    return eps_p"
   ]
  }
 ],
 "metadata": {
  "kernelspec": {
   "display_name": "Python 3",
   "language": "python",
   "name": "python3"
  },
  "language_info": {
   "codemirror_mode": {
    "name": "ipython",
    "version": 3
   },
   "file_extension": ".py",
   "mimetype": "text/x-python",
   "name": "python",
   "nbconvert_exporter": "python",
   "pygments_lexer": "ipython3",
   "version": "3.7.3"
  }
 },
 "nbformat": 4,
 "nbformat_minor": 2
}
