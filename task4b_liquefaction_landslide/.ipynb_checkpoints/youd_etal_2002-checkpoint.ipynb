{
 "cells": [
  {
   "cell_type": "code",
   "execution_count": null,
   "metadata": {},
   "outputs": [],
   "source": [
    "import numpy as np"
   ]
  },
  {
   "cell_type": "code",
   "execution_count": null,
   "metadata": {},
   "outputs": [],
   "source": [
    "#####################################################################################################################\n",
    "##### Youd et al. (2002) Revised multilinear regression equations for prediction of lateral spread displacement\n",
    "#####################################################################################################################\n",
    "def youd_etal_2002(**kwargs):\n",
    "\n",
    "    ##### Regression coefficients for empirical lateral spread model\n",
    "    ## Model inputs:\n",
    "    ## - M = moment magnitude\n",
    "    ## - R = closest distance from site to source (km)\n",
    "    ## - W = free-face ratio (height and/or horizontal distance from site to toe) (%)\n",
    "    ## - S = ground slope\n",
    "    ## - T_15 = cumulative thickness (in upper 20 m) of all saturated soil layers susceptible to liquefaction initiation with N1_60\n",
    "    ## - F_15 = average fines content of the soil comprising T_15 (%)\n",
    "    ## - D50_15 = average mean grain size of the soil comprising T_15 (mm)\n",
    "    ##\n",
    "    ## Model output:\n",
    "    ## - Dh = median computed permanent lateral spread displacement (m)\n",
    "    ##\n",
    "    ## flag_model == 1: ground slope (infinite slope)\n",
    "    ## flag_model == 2: free face\n",
    "    ##\n",
    "    ## Ground slope\n",
    "    if flag_model == 1:\n",
    "        b0 = -16.213\n",
    "        b4 = 0\n",
    "        b5 = 0.338\n",
    "    elif flag_model == 2:\n",
    "        b0 = -16.713\n",
    "        b4 = 0.592\n",
    "        b5 = 0\n",
    "        \n",
    "\t## model params\n",
    "    b1 = 1.532\n",
    "    b2 = -1.406\n",
    "    b3 = -0.012\n",
    "    b6 = 0.540\n",
    "    b7 = 3.413\n",
    "    b8 = -0.795\n",
    "    \n",
    "\t## adjusted distance\n",
    "    R_star = R + 10**(0.89*M-5.64)\n",
    "    \n",
    "\t## standard deviation\n",
    "    sigma_log_Dh = 0.197\n",
    "\tsigma_ln_Dh = sigma_log_Dh*np.log(10)\n",
    "    \n",
    "\t## calcualte ln(D)\n",
    "    log_Dh = b0 + b1*M + b2*np.log10(R_star) + b3*R + b4*np.log10(W) + \\\n",
    "             b4*np.log10(S) + b6*np.log(T_15) + b7*np.log10(100-F_15) + b8*np.log10(D50_15+0.1)\n",
    "    \n",
    "\t## calculate D\n",
    "    Dh = 10**log_Dh\n",
    "    \n",
    "    ##\n",
    "    return Dh, sigma_ln_Dh"
   ]
  }
 ],
 "metadata": {
  "kernelspec": {
   "display_name": "Python 3",
   "language": "python",
   "name": "python3"
  },
  "language_info": {
   "codemirror_mode": {
    "name": "ipython",
    "version": 3
   },
   "file_extension": ".py",
   "mimetype": "text/x-python",
   "name": "python",
   "nbconvert_exporter": "python",
   "pygments_lexer": "ipython3",
   "version": "3.7.3"
  }
 },
 "nbformat": 4,
 "nbformat_minor": 2
}
