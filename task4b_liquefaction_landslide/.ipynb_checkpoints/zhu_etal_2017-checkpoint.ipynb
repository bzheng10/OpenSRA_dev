{
 "cells": [
  {
   "cell_type": "code",
   "execution_count": 1,
   "metadata": {},
   "outputs": [],
   "source": [
    "##### Main libraries/modules\n",
    "import json, os, subprocess, shapely, time\n",
    "import rasterio as rio\n",
    "from rasterio.plot import show\n",
    "import numpy as np\n",
    "import geopandas as gpd\n",
    "import matplotlib.pyplot as plt\n",
    "from shapely.geometry import Point, Polygon\n",
    "from shapely.ops import nearest_points\n",
    "from matplotlib.colors import ListedColormap\n",
    "# import pandas as pd\n",
    "from scipy.spatial import KDTree\n",
    "from fiona import collection\n",
    "from scipy import ndimage"
   ]
  },
  {
   "cell_type": "code",
   "execution_count": 2,
   "metadata": {},
   "outputs": [],
   "source": [
    "# mapDir = 'C:\\\\Users\\\\BarryZheng\\\\SlateGeotech\\\\SlateDrive - Documents\\\\' + \\\n",
    "#          '_Projects\\\\18-020.00_CEC_Seismic_Risk\\\\04_Eval_Analysis\\\\' + \\\n",
    "#          '03 - Develop OpenSRA\\\\V0.01_Liquefaction_Landslide\\\\'\n",
    "mapDir = 'D:\\\\maps\\\\'"
   ]
  },
  {
   "cell_type": "code",
   "execution_count": 3,
   "metadata": {},
   "outputs": [],
   "source": [
    "##### Function to calculate the epicentral and hypocentral distances using the haversine equation\n",
    "\n",
    "def get_haversine_dist(r,lat1,long1,lat2,long2,z=0):\n",
    "    r = 6371 # km\n",
    "    lat1 = np.radians(lat1)\n",
    "    long1 = np.radians(long1)\n",
    "    lat2 = np.radians(lat2)\n",
    "    long2 = np.radians(long2)\n",
    "    # Haversine\n",
    "    d = 2*r*np.arcsin(np.sqrt(np.sin((lat2-lat1)/2)**2 + np.cos(lat1)*np.cos(lat2)*np.sin((long2-long1)/2)**2))\n",
    "    return d, np.sqrt(d**2 + z**2)"
   ]
  },
  {
   "cell_type": "code",
   "execution_count": 62,
   "metadata": {},
   "outputs": [],
   "source": [
    "##### Zhu et al. (2017) An Updated Geospatial Liquefaction Model for Global Application\n",
    "def zhu_etal_2017(pgv, vs30, precip, dc, dr, dw, wtd, m):\n",
    "    \n",
    "    ## Input parameters\n",
    "    ## - pgv = peak ground velocity (cm/s)\n",
    "    ## - vs30 = shear-wave velocity over the first 30 m (slope derived) (m/s)\n",
    "    ## - precip = mean annual precipitation (mm)\n",
    "    ## - dc = distance to nearest coast (km)\n",
    "    ## - dr = distance to nearest river (km)\n",
    "    ## - wtd = global water table depth (m)\n",
    "    \n",
    "    ## two models by Zhu et al. (2017):\n",
    "    ## -- Model 1: better globally\n",
    "    ## -- Model 2: better for noncoastal (coastal cutoff at 20 km?)\n",
    "\n",
    "    sf = 1/(1+np.exp(-2*(m-6))) # ad-hoc magnitude scaling factor added by USGS, to be applied to pgv\n",
    "                                # https://earthquake.usgs.gov/data/ground-failure/background.php\n",
    "    \n",
    "#     if dr < 0:\n",
    "# #         a = None\n",
    "# #         b = None\n",
    "# #         c = None\n",
    "# #         b_lnpgv = None\n",
    "# #         X_prob_liq = None\n",
    "#         a = np.nan\n",
    "#         b = np.nan\n",
    "#         c = np.nan\n",
    "#         b_lnpgv = np.nan\n",
    "#         X_prob_liq = np.nan\n",
    "        \n",
    "#     else:\n",
    "#         if dc < 0:\n",
    "#             a = None\n",
    "#             b = None\n",
    "#             c = None\n",
    "#             b_lnpgv = None\n",
    "#             X_prob_liq = None\n",
    "#             a = np.nan\n",
    "#             b = np.nan\n",
    "#             c = np.nan\n",
    "#             b_lnpgv = np.nan\n",
    "#             X_prob_liq = np.nan\n",
    "            \n",
    "#         elif dc >= 0 and dc < 20:\n",
    "    if dc < 20:\n",
    "        ## model coefficients\n",
    "        b_0 = 12.435 # intercept\n",
    "        b_lnpgv = 0.301 # cm/s, peak ground velocity\n",
    "        b_vs30 = -2.615 # m/s, shear-wave velocity over the first 30 m (slope derived)\n",
    "        b_precip = 5.556e-4 # mm, mean annual precipitation\n",
    "        b_sqrt_dc = -0.0287 # km, distance to nearest coast\n",
    "        b_dr = 0.0666 # km, distance to nearest river\n",
    "        b_sqrt_dc_dr = -0.0369 #\n",
    "\n",
    "        ## probability of liquefaction - sum of model variables\n",
    "        X_prob_liq = b_0 + b_lnpgv*np.log(pgv*sf) + b_vs30*np.log(vs30) + b_precip*precip + \\\n",
    "                     b_sqrt_dc*np.sqrt(dc) + b_dr*dr + b_sqrt_dc_dr*np.sqrt(dc)*dr    \n",
    "\n",
    "        ## coeffcients for areal liquefaction\n",
    "        a = 42.08\n",
    "        b = 62.59\n",
    "        c = 11.43\n",
    "\n",
    "    else:\n",
    "        ## model coefficients\n",
    "        b_0 = 8.801 # intercept\n",
    "        b_lnpgv = 0.334 # cm/s, peak ground velocity\n",
    "        b_vs30 = -1.918 # m/s, shear-wave velocity over the first 30 m (slope derived)\n",
    "        b_precip = 5.408e-4 # mm, mean annual precipitation\n",
    "        b_dw = -0.2054 # km, distance to nearest water body\n",
    "        b_wtd = -0.0333 # m, global water table depth\n",
    "\n",
    "        ## probability of liquefaction - sum of model variables\n",
    "        X_prob_liq = b_0 + b_lnpgv*np.log(pgv*sf) + b_vs30*np.log(vs30) + b_precip*precip + b_dw*dw + b_wtd*wtd\n",
    "\n",
    "        ## coeffcients for areal liquefaction\n",
    "        a = 49.15\n",
    "        b = 42.40\n",
    "        c = 9.165\n",
    "    \n",
    "    ## probability of liquefacion\n",
    "    if pgv < 3 or vs30 > 620:\n",
    "        prob_liq = 0\n",
    "    else:\n",
    "        prob_liq = 1 / (1 + np.exp(-X_prob_liq))\n",
    "\n",
    "    ## areal liquefaction percent\n",
    "    prob_liq_areal = a / (1 + b * np.exp(-c * prob_liq))**2\n",
    "\n",
    "    ## liquefaction susceptibility \n",
    "    liq_susc = X_prob_liq - b_lnpgv*np.log(pgv*sf)\n",
    "#     liq_susc = 1 / (1 + np.exp(-X_liq_susc))\n",
    "\n",
    "    if dc < 0:\n",
    "        prob_liq = -999\n",
    "        prob_liq_areal = -999\n",
    "        liq_susc = -999\n",
    "\n",
    "    return prob_liq, prob_liq_areal, liq_susc"
   ]
  },
  {
   "cell_type": "code",
   "execution_count": 8,
   "metadata": {},
   "outputs": [],
   "source": [
    "##### PGV results from OpenSHA for UCERF3 scenario 0-606\n",
    "ras_pgv = rio.open(mapDir + 'pgv_opensha.txt')\n",
    "data_pgv = ras_pgv.read(1) ## in cm/s\n",
    "data_pgv = data_pgv.astype(float)"
   ]
  },
  {
   "cell_type": "code",
   "execution_count": 9,
   "metadata": {},
   "outputs": [],
   "source": [
    "##### Global groundwater table data (Fan et al., 2013)\n",
    "##### https://glowasis.deltares.nl/thredds/catalog/opendap/opendap/Equilibrium_Water_Table/catalog.html\n",
    "ras_wtd = rio.open(mapDir + 'ModeledWTD\\\\ca_wtd_red_crop.txt')\n",
    "data_wtd = ras_wtd.read(1) ## in m/s\n",
    "data_wtd = data_wtd.astype(float)\n",
    "# row, col = ds_wtd.index(-118, 34)\n",
    "# ds_wtd_data[row,col]\n",
    "cutoff = data_wtd < 0\n",
    "data_wtd[cutoff] = None # screen out negative values"
   ]
  },
  {
   "cell_type": "code",
   "execution_count": 10,
   "metadata": {},
   "outputs": [],
   "source": [
    "##### Import Vs30 for California (Thompson et al., 2014)\n",
    "##### https://usgs.maps.arcgis.com/apps/webappviewer/index.html?id=8ac19bc334f747e486550f32837578e1\n",
    "# ras_vs30 = rio.open('C:\\\\Users\\\\BarryZheng\\\\Downloads\\\\VS30_extract\\\\zipfolder\\\\vs30_mosaic.tif')\n",
    "ras_vs30 = rio.open(mapDir+'usgs_vs30\\\\vs30_slope.tif')\n",
    "data_vs30 = ras_vs30.read(1) ## in m/s\n",
    "data_vs30 = data_vs30.astype(float)\n",
    "cutoff = data_vs30 > 10000\n",
    "data_vs30[cutoff] = None # screen out negative values\n",
    "# data_vs30 = [None if cutoff[i][j] is True else data_vs30[i][j] for i in range(len(cutoff)) for j in range(len(cutoff[i]))]"
   ]
  },
  {
   "cell_type": "code",
   "execution_count": 11,
   "metadata": {},
   "outputs": [],
   "source": [
    "##### Average Annual Precipitation (Inches): California, 1981-2010 (800m)\n",
    "##### https://earthworks.stanford.edu/catalog/stanford-td754wr4701\n",
    "##### Daly et al., 2010\n",
    "##################################### precip values are 10x higher than expected #################################\n",
    "# ras_precip = rio.open(os.getcwd() + '\\\\precip_data\\stanford\\\\' + 'precip_standford.tif')\n",
    "# data_precip = ras_precip.read(1) ## in mm\n",
    "# data_precip = data_precip.astype(float)"
   ]
  },
  {
   "cell_type": "code",
   "execution_count": 12,
   "metadata": {},
   "outputs": [],
   "source": [
    "# ##### Monthly Precipitation by WorldClim (mm), available in 4 spatial resolutions (10 minutes (~340 km^2), 5 min, 2.5 min, and 30 seconds (~ 1 km^2))\n",
    "# ##### http://worldclim.org/version2\n",
    "# ##### Fick and Hijmans (2017)\n",
    "# ras_precip_mo = rio.open(os.getcwd() + '\\\\' + 'wc2.0_10m_prec\\wc2.0_10m_prec_01.tif')\n",
    "# data_precip_mo = ras_precip_mo.read(1) ## in mm\n",
    "# data_precip_mo = data_precip_mo/25.4 ## convert to inches\n",
    "# data_precip_mo = data_precip_mo.astype(float)"
   ]
  },
  {
   "cell_type": "code",
   "execution_count": 13,
   "metadata": {},
   "outputs": [],
   "source": [
    "##### Monthly Precipitation by WorldClim (mm), available in 4 spatial resolutions (10 minutes (~340 km^2), 5 min, 2.5 min, and 30 seconds (~ 1 km^2))\n",
    "##### http://worldclim.org/version2\n",
    "##### Fick and Hijmans (2017)\n",
    "in_str = ['0'+str(i+1) if i < 9 else str(i+1) for i in range(12)]\n",
    "ras_precip_30s_dict = [rio.open(mapDir + 'precip_data\\world_climate\\wc2.0_30s_prec\\wc2.0_30s_prec_'+i+'_trunc.tif') for i in in_str]\n",
    "data_precip_30s_dict = [i.read(1) for i in ras_precip_30s_dict] ## in mm\n",
    "# data_precip_30s_dict = [i/25.4 for i in data_precip_30s_dict] ## convert to inches\n",
    "data_precip_30s_dict = [i.astype(float) for i in data_precip_30s_dict]\n",
    "for i in range(12):\n",
    "    cutoff = data_precip_30s_dict[i] < 0\n",
    "    data_precip_30s_dict[i][cutoff] = None # screen out negative values\n",
    "# precip = np.mean([data_precip_30s_dict[i][ras_precip_30s_dict[i].index(-122.29, 37.860)] for i in range(12)])"
   ]
  },
  {
   "cell_type": "code",
   "execution_count": 14,
   "metadata": {},
   "outputs": [],
   "source": [
    "## River network truncated to CA @ 15 and 30 sec. resolution\n",
    "## https://hydrosheds.cr.usgs.gov/dataavail.php\n",
    "gdf_dr = gpd.GeoDataFrame.from_file(mapDir + 'river_data\\\\na_riv_15s\\\\na_riv_15s_trunc.shp')\n",
    "gdf_dr_union = gdf_dr.unary_union\n",
    "# shapely_points = \n",
    "## algorithm for searching nearest polygon can generate list of coord2search before applying\n",
    "# coord2search = Point((-122.4,37.9))\n",
    "# nearest_pt = [o.wkt for o in shapely.ops.nearest_points(coord2search, df_dr.unary_union)]\n",
    "# nearest_pt = np.fromstring(nearest_pt[1][nearest_pt[1].find('(')+1:nearest_pt[1].find(')')], dtype=float, sep=' ')\n",
    "with collection(mapDir + 'river_data\\\\na_riv_15s\\\\na_riv_15s_trunc.shp', \"r\") as source:\n",
    "    features_dr = list(source)\n",
    "tree_dr = KDTree(np.asarray([coord for feat in features_dr for coord in feat['geometry']['coordinates']]))"
   ]
  },
  {
   "cell_type": "code",
   "execution_count": 15,
   "metadata": {},
   "outputs": [],
   "source": [
    "## Distance to nearest coast, truncated to CA (km)\n",
    "## https://oceancolor.gsfc.nasa.gov/docs/distfromcoast/#\n",
    "ras_dc = rio.open(mapDir + 'GMT_intermediate_coast_distance_01d\\\\GMT_intermediate_coast_distance_01d_trunc.tif')\n",
    "data_dc = ras_dc.read(1) ## in m/s\n",
    "data_dc = data_dc.astype(float)\n",
    "# zeros = data_dc == 0\n",
    "# data_dc_zeros = data_dc[zeros]"
   ]
  },
  {
   "cell_type": "code",
   "execution_count": 70,
   "metadata": {},
   "outputs": [],
   "source": [
    "#########################################################################\n",
    "#########################################################################\n",
    "#########################################################################\n",
    "#########################################################################\n",
    "#########################################################################\n",
    "xbounds = ([-122.8,-121.5]) # bay area\n",
    "ybounds = ([37,38.5]) # bay area\n",
    "dcoord = 0.001\n",
    "# xbounds = ([-122.45,-122.25]) # zoomed in to alameda\n",
    "# ybounds = ([37.77,38.025]) # zoomed in to alameda\n",
    "# dcoord = 0.0001\n",
    "# xbounds = ([-122.5,-121.9])\n",
    "# ybounds = ([37.4,38.1])\n",
    "# grid_x_tick = np.linspace(xbounds[0],xbounds[1],int((xbounds[1]-xbounds[0])/dcoord+2))\n",
    "# grid_y_tick = np.linspace(ybounds[0],ybounds[1],int((ybounds[1]-ybounds[0])/dcoord+2))\n",
    "grid_x_tick = np.arange(xbounds[0],xbounds[1]+dcoord,dcoord)\n",
    "grid_y_tick = np.arange(ybounds[0],ybounds[1]+dcoord,dcoord)\n",
    "grid_x_mid = [(grid_x_tick[i] + grid_x_tick[i+1])/2 for i in range(len(grid_x_tick)-1)]\n",
    "grid_y_mid = [(grid_y_tick[i] + grid_y_tick[i+1])/2 for i in range(len(grid_y_tick)-1)]\n",
    "xarr, yarr = np.meshgrid(grid_x_mid,grid_y_mid)\n",
    "mat_shape = xarr.shape\n",
    "xarr_rs = np.reshape(xarr.T,mat_shape[0]*mat_shape[1],1)\n",
    "yarr_rs = np.reshape(yarr.T,mat_shape[0]*mat_shape[1],1)\n",
    "listcoords = np.transpose(np.vstack([xarr_rs,yarr_rs]))\n",
    "rows = range(mat_shape[0])\n",
    "cols = range(mat_shape[1])"
   ]
  },
  {
   "cell_type": "code",
   "execution_count": 71,
   "metadata": {},
   "outputs": [
    {
     "name": "stdout",
     "output_type": "stream",
     "text": [
      "--- 5.957016944885254 seconds ---\n",
      "--- 6.654215335845947 seconds ---\n",
      "--- 70.38923859596252 seconds ---\n",
      "--- 5.995118856430054 seconds ---\n",
      "--- 352.2681210041046 seconds ---\n",
      "--- 0.01495981216430664 seconds ---\n",
      "--- 6.094908952713013 seconds ---\n"
     ]
    }
   ],
   "source": [
    "start_time = time.time()\n",
    "## pgv\n",
    "pgv_mat = np.reshape(data_pgv[ras_pgv.index(xarr_rs, yarr_rs)],mat_shape)\n",
    "# pgv_mat = np.ones(mat_shape)*200 # cm/s, temporary, to be updated later\n",
    "print(\"--- %s seconds ---\" % (time.time() - start_time))\n",
    "\n",
    "start_time = time.time()\n",
    "## vs30\n",
    "vs30_mat = np.reshape(data_vs30[ras_vs30.index(xarr_rs, yarr_rs)],mat_shape)\n",
    "print(\"--- %s seconds ---\" % (time.time() - start_time))\n",
    "\n",
    "start_time = time.time()\n",
    "## precip\n",
    "precip_mat = np.reshape(np.mean([data_precip_30s_dict[k][ras_precip_30s_dict[k].index(xarr_rs, yarr_rs)] for k in range(12)],axis=0),mat_shape)\n",
    "print(\"--- %s seconds ---\" % (time.time() - start_time))\n",
    "\n",
    "start_time = time.time()\n",
    "## dc\n",
    "# dc_mat = np.maximum(np.zeros(mat_shape),np.reshape(-data_dc[ras_dc.index(xarr_rs, yarr_rs)],mat_shape))\n",
    "dc_mat = np.reshape(-data_dc[ras_dc.index(xarr_rs, yarr_rs)],mat_shape)\n",
    "print(\"--- %s seconds ---\" % (time.time() - start_time))\n",
    "\n",
    "start_time = time.time()\n",
    "## dr\n",
    "# coord2search = [Point(xarr_rs[i], yarr_rs[i]) for i in range(len(xarr_rs))]\n",
    "# nearest_pt = [nearest_points(gdf_dr_union,i) for i in coord2search]\n",
    "# nearest_pt = [i[0] for i in nearest_pt]\n",
    "# nearest_pt = np.asarray([np.fromstring(i.wkt[i.wkt.find('(')+1:i.wkt.find(')')], dtype=float, sep=' ') for i in nearest_pt])\n",
    "# nearest_pt = np.transpose(np.radians(nearest_pt))\n",
    "# dr_mat = np.reshape(2*6371*np.arcsin(np.sqrt(np.sin((nearest_pt[1]-np.radians(yarr_rs))/2)**2 + \\\n",
    "#                                              np.cos(np.radians(yarr_rs))*np.cos(nearest_pt[1])*\\\n",
    "#                                              np.sin((nearest_pt[0]-np.radians(xarr_rs))/2)**2)),mat_shape)\n",
    "\n",
    "nearest_pt = tree_dr.query(listcoords,1)[1]\n",
    "nearest_pt = np.transpose(np.radians(tree_dr.data[nearest_pt]))\n",
    "dr_mat = np.reshape(2*6371*np.arcsin(np.sqrt(np.sin((nearest_pt[1]-np.radians(yarr_rs))/2)**2 + \\\n",
    "                                             np.cos(np.radians(yarr_rs))*np.cos(nearest_pt[1])*\\\n",
    "                                             np.sin((nearest_pt[0]-np.radians(xarr_rs))/2)**2)),mat_shape)\n",
    "# get_haversine_dist(0,pt[1],pt[0],temp[1],temp[0])\n",
    "dr_mat = np.reshape(dr_mat,mat_shape)\n",
    "print(\"--- %s seconds ---\" % (time.time() - start_time))\n",
    "\n",
    "start_time = time.time()\n",
    "## dw\n",
    "dw_mat = np.minimum(dc_mat,dr_mat)\n",
    "print(\"--- %s seconds ---\" % (time.time() - start_time))\n",
    "\n",
    "start_time = time.time()\n",
    "## wtd_mat\n",
    "wtd_mat = np.reshape(data_wtd[ras_wtd.index(xarr_rs, yarr_rs)],mat_shape)\n",
    "print(\"--- %s seconds ---\" % (time.time() - start_time))"
   ]
  },
  {
   "cell_type": "code",
   "execution_count": 63,
   "metadata": {},
   "outputs": [
    {
     "name": "stderr",
     "output_type": "stream",
     "text": [
      "C:\\Users\\Barry\\Anaconda3\\lib\\site-packages\\ipykernel_launcher.py:56: RuntimeWarning: invalid value encountered in sqrt\n"
     ]
    },
    {
     "name": "stdout",
     "output_type": "stream",
     "text": [
      "--- 0.41834259033203125 seconds ---\n"
     ]
    }
   ],
   "source": [
    "start_time = time.time()\n",
    "##\n",
    "prob_liq = np.zeros(mat_shape)\n",
    "prob_liq_areal = np.zeros(mat_shape)\n",
    "liq_susc = np.zeros(mat_shape)\n",
    "for i in range(mat_shape[0]):\n",
    "    for j in range(mat_shape[1]):\n",
    "        prob_liq[i,j], prob_liq_areal[i,j], liq_susc[i,j] = zhu_etal_2017(pgv_mat[i,j], vs30_mat[i,j], precip_mat[i,j],\n",
    "                                                                          dc_mat[i,j], dr_mat[i,j], dw_mat[i,j], wtd_mat[i,j], m=7)\n",
    "##\n",
    "filters = prob_liq == -999\n",
    "prob_liq[filters] = np.nan\n",
    "levels_pliq=[0,0.2,0.3,0.5,1]\n",
    "levels_pliq_norm = np.linspace(0,1,len(levels_pliq))\n",
    "# prob_liq_norm = \n",
    "prob_liq_norm = np.interp(prob_liq,levels_pliq,levels_pliq_norm)\n",
    "# filters = np.isnan(prob_liq_norm)\n",
    "# prob_liq_norm[filters] = -999\n",
    "##\n",
    "filters = liq_susc == -999\n",
    "liq_susc[filters] = np.nan\n",
    "levels_susc=[-38.1,-3.20,-3.15,-1.95,-1.15,5.30]\n",
    "levels_susc_norm = np.linspace(0,1,len(levels_susc))\n",
    "liq_susc_norm = np.interp(liq_susc,levels_susc,levels_susc_norm)\n",
    "# filters = np.isnan(liq_susc_norm)\n",
    "# liq_susc_norm[filters] = -999\n",
    "##\n",
    "print(\"--- %s seconds ---\" % (time.time() - start_time))"
   ]
  },
  {
   "cell_type": "code",
   "execution_count": 64,
   "metadata": {},
   "outputs": [
    {
     "name": "stdout",
     "output_type": "stream",
     "text": [
      "[[47, 37], [92, 82], [72, 42], [72, 87]]\n",
      "-122.42499999999981 37.47499999999991\n",
      "-121.97499999999957 37.92499999999981\n",
      "-122.37499999999977 37.72499999999985\n",
      "-121.92499999999956 37.72499999999985\n"
     ]
    },
    {
     "data": {
      "text/plain": [
       "[None, None, None, None]"
      ]
     },
     "execution_count": 64,
     "metadata": {},
     "output_type": "execute_result"
    }
   ],
   "source": [
    "coords1 = [[-122.425, 37.475],\n",
    "           [-121.975, 37.925],\n",
    "           [-122.375, 37.725],\n",
    "           [-121.925, 37.725]]\n",
    "inds1 = []\n",
    "liq_susc1 = []\n",
    "prob_liq1 = []\n",
    "prob_liq_areal1 = []\n",
    "for k in range(len(coords1)):\n",
    "    for i in range(mat_shape[0]):\n",
    "        for j in range(mat_shape[1]):\n",
    "            if abs((xarr[i,j]-coords1[k][0])/coords1[k][0])<0.00001 and abs((yarr[i,j]-coords1[k][1])/coords1[k][1])<0.00001:\n",
    "                inds1.append([i,j])\n",
    "                liq_susc1.append(liq_susc[i,j])\n",
    "                prob_liq1.append(prob_liq[i,j])\n",
    "                prob_liq_areal1.append(prob_liq_areal[i,j])\n",
    "print(inds1)\n",
    "[print(xarr[i[0],i[1]],yarr[i[0],i[1]]) for i in inds1]"
   ]
  },
  {
   "cell_type": "code",
   "execution_count": 65,
   "metadata": {},
   "outputs": [
    {
     "name": "stdout",
     "output_type": "stream",
     "text": [
      "4.509848642121651\n",
      "5.298398186367317\n",
      "24.498538996953126\n",
      "23.29332743598037\n"
     ]
    },
    {
     "data": {
      "text/plain": [
       "[None, None, None, None]"
      ]
     },
     "execution_count": 65,
     "metadata": {},
     "output_type": "execute_result"
    }
   ],
   "source": [
    "[print(i*100) for i in prob_liq1]"
   ]
  },
  {
   "cell_type": "code",
   "execution_count": 66,
   "metadata": {},
   "outputs": [
    {
     "name": "stdout",
     "output_type": "stream",
     "text": [
      "0.028567408821732754\n",
      "0.06697413715283895\n",
      "1.8222823889347177\n",
      "1.3587454019952103\n"
     ]
    },
    {
     "data": {
      "text/plain": [
       "[[47, 37], [92, 82], [72, 42], [72, 87]]"
      ]
     },
     "execution_count": 66,
     "metadata": {},
     "output_type": "execute_result"
    }
   ],
   "source": [
    "[print(i) for i in prob_liq_areal1]\n",
    "inds1"
   ]
  },
  {
   "cell_type": "code",
   "execution_count": 67,
   "metadata": {},
   "outputs": [
    {
     "name": "stdout",
     "output_type": "stream",
     "text": [
      "-3.8496109140833714\n",
      "-3.77676253449942\n",
      "-2.153015340344755\n",
      "-2.4354993108374816\n"
     ]
    },
    {
     "data": {
      "text/plain": [
       "[None, None, None, None]"
      ]
     },
     "execution_count": 67,
     "metadata": {},
     "output_type": "execute_result"
    }
   ],
   "source": [
    "[print(i) for i in liq_susc1]"
   ]
  },
  {
   "cell_type": "code",
   "execution_count": 34,
   "metadata": {},
   "outputs": [
    {
     "name": "stdout",
     "output_type": "stream",
     "text": [
      "507.0\n",
      "509.0\n",
      "273.0\n",
      "340.0\n"
     ]
    }
   ],
   "source": [
    "for k in inds1:\n",
    "    i = k[0]\n",
    "    j = k[1]\n",
    "    print(vs30_mat[i,j])"
   ]
  },
  {
   "cell_type": "code",
   "execution_count": 45,
   "metadata": {},
   "outputs": [
    {
     "data": {
      "text/plain": [
       "[[47, 37], [92, 82], [72, 42], [72, 87]]"
      ]
     },
     "execution_count": 45,
     "metadata": {},
     "output_type": "execute_result"
    }
   ],
   "source": [
    "inds1"
   ]
  },
  {
   "cell_type": "code",
   "execution_count": 69,
   "metadata": {},
   "outputs": [
    {
     "ename": "NameError",
     "evalue": "name 'M' is not defined",
     "output_type": "error",
     "traceback": [
      "\u001b[1;31m---------------------------------------------------------------------------\u001b[0m",
      "\u001b[1;31mNameError\u001b[0m                                 Traceback (most recent call last)",
      "\u001b[1;32m<ipython-input-69-f3e8788da83b>\u001b[0m in \u001b[0;36m<module>\u001b[1;34m\u001b[0m\n\u001b[1;32m----> 1\u001b[1;33m \u001b[0mM\u001b[0m\u001b[1;33m\u001b[0m\u001b[1;33m\u001b[0m\u001b[0m\n\u001b[0m",
      "\u001b[1;31mNameError\u001b[0m: name 'M' is not defined"
     ]
    }
   ],
   "source": [
    "M"
   ]
  },
  {
   "cell_type": "code",
   "execution_count": null,
   "metadata": {},
   "outputs": [],
   "source": []
  },
  {
   "cell_type": "raw",
   "metadata": {},
   "source": [
    "ij = []\n",
    "for i in range(mat_shape[0]):\n",
    "    for j in range(mat_shape[1]):\n",
    "        if np.allclose(xarr[i,j],-122.425) and np.allclose(yarr[i,j],37.475):\n",
    "            ij.append([i,j])\n",
    "        if np.allclose(xarr[i,j],-121.975) and np.allclose(yarr[i,j],37.925):\n",
    "            ij.append([i,j])\n",
    "        if np.allclose(xarr[i,j],-122.375) and np.allclose(yarr[i,j],37.725):\n",
    "            ij.append([i,j])\n",
    "        if np.allclose(xarr[i,j],-121.925) and np.allclose(yarr[i,j],37.725):\n",
    "            ij.append([i,j])\n",
    "        if np.allclose(xarr[i,j],-122.005) and np.allclose(yarr[i,j],37.605):\n",
    "            ij.append([i,j])\n",
    "            \n",
    "coords = [[xarr[i[0],i[1]],yarr[i[0],i[1]]] for i in ij]\n",
    "# pgv_vals = [pgv_mat[i[0],i[1]] for i in ij]\n",
    "# vs30_vals = [vs30_mat[i[0],i[1]] for i in ij]\n",
    "# precip_vals = [precip_mat[i[0],i[1]] for i in ij]\n",
    "# dc_vals = [dc_mat[i[0],i[1]] for i in ij]\n",
    "# dr_vals = [dr_mat[i[0],i[1]] for i in ij]\n",
    "# dw_vals = [dw_mat[i[0],i[1]] for i in ij]\n",
    "# wtd_vals = [wtd_mat[i[0],i[1]] for i in ij]"
   ]
  },
  {
   "cell_type": "raw",
   "metadata": {},
   "source": [
    "nx = 1\n",
    "ny = 1\n",
    "figsize = (16,8)\n",
    "fig, ax = plt.subplots(nx, ny, figsize=figsize)\n",
    "fontsize_label = 16\n",
    "fontsize_axis = 12\n",
    "fontname = 'arial'\n",
    "##\n",
    "[ax.plot(i[0],i[1],'or') for i in coords]\n",
    "# show(data_precip, ax=ax, transform=ras_precip.transform, alpha=1, cmap='Blues')\n",
    "show(data_wtd, ax=ax, transform=ras_wtd.transform, alpha=1, cmap='Blues')\n",
    "ax.set_xlabel('Longitude',fontsize=16,fontname=fontname)\n",
    "ax.set_ylabel('Latitude',fontsize=16,fontname=fontname)\n",
    "# ax.set_xlim([-125,-113.5])\n",
    "# ax.set_ylim([32.2,42.2])\n",
    "ax.set_xlim([-122.5,-121.9])\n",
    "ax.set_ylim([37.4,38.1])\n",
    "ax.tick_params(labelsize=12)\n",
    "plt.show()"
   ]
  },
  {
   "cell_type": "code",
   "execution_count": null,
   "metadata": {},
   "outputs": [],
   "source": []
  },
  {
   "cell_type": "code",
   "execution_count": null,
   "metadata": {},
   "outputs": [],
   "source": []
  },
  {
   "cell_type": "raw",
   "metadata": {},
   "source": [
    "nx = 1\n",
    "ny = 1\n",
    "figsize = (16,8)\n",
    "fig, ax = plt.subplots(nx, ny, figsize=figsize)\n",
    "fontsize_label = 16\n",
    "fontsize_axis = 12\n",
    "fontname = 'arial'\n",
    "##\n",
    "df_dr.plot(ax=ax,ec=[.7,.7,.7], alpha=1)\n",
    "ax.set_xlabel('Longitude',fontsize=16,fontname=fontname)\n",
    "ax.set_ylabel('Latitude',fontsize=16,fontname=fontname)\n",
    "ax.set_xlim([-122.5,-121.9])\n",
    "ax.set_ylim([37.4,38.1])\n",
    "ax.tick_params(labelsize=12)\n",
    "plt.show()"
   ]
  },
  {
   "cell_type": "code",
   "execution_count": 189,
   "metadata": {},
   "outputs": [
    {
     "data": {
      "image/png": "[encoded data removed]",
      "text/plain": [
       "<Figure size 576x684 with 1 Axes>"
      ]
     },
     "metadata": {
      "needs_background": "light"
     },
     "output_type": "display_data"
    }
   ],
   "source": [
    "nx = 1\n",
    "ny = 1\n",
    "fontsize_label = 16\n",
    "fontsize_axis = 12\n",
    "fontname = 'arial'\n",
    "##\n",
    "figsize = (8,9.5)\n",
    "fig, ax = plt.subplots(nx, ny, figsize=figsize)\n",
    "##\n",
    "# [ax.plot([i,i],ybounds,'-',color=[0.7,0.7,0.7]) for i in grid_x_tick]\n",
    "# [ax.plot(xbounds,[j,j],'-',color=[0.7,0.7,0.7]) for j in grid_y_tick]\n",
    "# cs = ax.contour(xarr,yarr,prob_liq,levels[0,0.2,0.3,0.5,1],cmap='Greens')\n",
    "# colors_prob_liq = np.divide([[168,218,214],\n",
    "#                              [219,219,219],\n",
    "#                              [255,249,161],\n",
    "#                              [253,192, 77],\n",
    "#                              [229, 86, 88]],255)\n",
    "# colors_liq_susc = np.divide([[168,218,214],\n",
    "#                              [255,255,255],\n",
    "#                              [236,239,108],\n",
    "#                              [255,255, 62],\n",
    "#                              [255,188, 65],\n",
    "#                              [245,125, 65]],255)\n",
    "colors_prob_liq = np.divide([[219,219,219],\n",
    "                             [255,249,161],\n",
    "                             [253,192, 77],\n",
    "                             [229, 86, 88]],255)\n",
    "colors_liq_susc = np.divide([[255,255,255],\n",
    "                             [236,239,108],\n",
    "                             [255,255, 62],\n",
    "                             [255,188, 65],\n",
    "                             [245,125, 65]],255)\n",
    "cmap_pliq = ListedColormap(colors_prob_liq, name='colors_prob_liq')\n",
    "cmap_susc = ListedColormap(colors_liq_susc, name='colors_liq_susc')\n",
    "# cs = ax.contourf(xarr,yarr,prob_liq,levels=[0,0.2,0.3,0.5,1],colors=colors_prob_liq)\n",
    "# cs = ax.contourf(xarr,yarr,liq_susc,levels=[-38.1,-3.20,-3.15,-1.95,-1.15,5.30],colors=colors_liq_susc)\n",
    "# plt.clabel(cs,fmt='%5.0f')\n",
    "# ax.pcolormesh(xarr,yarr,prob_liq_norm,cmap=cmap_pliq)\n",
    "ax.pcolormesh(xarr,yarr,liq_susc_norm,cmap=cmap_susc)\n",
    "# cs2 = ax.contourf(xarr,yarr,liq_susc,levels=[-38.1,-3.20,-3.15,-1.95,-1.15,5.30],cmap='Blues_r')\n",
    "# [ax.plot(i[0],i[1],'or') for i in coords]\n",
    "# show(data_precip, ax=ax, transform=ras_precip.transform, alpha=1, cmap='Blues')\n",
    "# show(data_wtd, ax=ax, transform=ras_wtd.transform, alpha=1, cmap='Blues')\n",
    "# ax.plot(*areal_source_poly.exterior.xy,'r')\n",
    "# ax.plot(xy_pair_areal[:,[0]],xy_pair_areal[:,[1]],'or')\n",
    "# ax.plot(fault_source[:,[0]],fault_source[:,[1]],'-r')\n",
    "# ax.plot(fault_list[:,[0]],fault_list[:,[1]],'or')\n",
    "# plt.plot(xy_pair[:,[0]],xy_pair[:,[1]],'ok',markersize=4)\n",
    "# gdf_dr.plot(ax=ax, cmap='Blues', ec=[0.4,0.4,0.4])\n",
    "##\n",
    "# ax.set_xlim(xbounds)\n",
    "# ax.set_ylim(ybounds)\n",
    "ax.set_xlabel('Longitude',fontsize=16,fontname=fontname)\n",
    "ax.set_ylabel('Latitude',fontsize=16,fontname=fontname)\n",
    "# ax.set_xlim([-122.5,-121.9])\n",
    "# ax.set_ylim([37.4,38.1])\n",
    "\n",
    "# ax.set_xlim([-122.8,-121.55]) # bay area\n",
    "# ax.set_ylim([37.1,38.3]) # bay area\n",
    "\n",
    "ax.set_xlim([-122.45,-122.25]) # zoomed in to alameda\n",
    "ax.set_ylim([37.77,38.025]) # zoomed in to alameda\n",
    "ax.tick_params(labelsize=12)\n",
    "bg_fc = np.divide([168,218,214],255)\n",
    "ax.set_facecolor(bg_fc)\n",
    "##\n",
    "plt.show()"
   ]
  },
  {
   "cell_type": "code",
   "execution_count": 343,
   "metadata": {},
   "outputs": [
    {
     "data": {
      "text/plain": [
       "array([[-41., -41., -40., ...,  32.,  32.,  32.],\n",
       "       [-41., -41., -40., ...,  32.,  32.,  32.],\n",
       "       [-40., -40., -39., ...,  32.,  33.,  33.],\n",
       "       ...,\n",
       "       [ 28.,  28.,  29., ...,  81.,  82.,  82.],\n",
       "       [ 28.,  28.,  29., ...,  81.,  82.,  82.],\n",
       "       [ 29.,  29.,  30., ...,  82.,  82.,  82.]])"
      ]
     },
     "execution_count": 343,
     "metadata": {},
     "output_type": "execute_result"
    }
   ],
   "source": [
    "dc_mat"
   ]
  },
  {
   "cell_type": "code",
   "execution_count": 203,
   "metadata": {},
   "outputs": [],
   "source": [
    "np.savetxt(os.getcwd()+'\\\\zhu_etal_liq_susc_norm.txt',liq_susc_norm,fmt='%6.3f',delimiter=',')"
   ]
  },
  {
   "cell_type": "code",
   "execution_count": 204,
   "metadata": {},
   "outputs": [],
   "source": [
    "np.savetxt(os.getcwd()+'\\\\zhu_etal_prob_liq.txt',prob_liq,fmt='%6.3f',delimiter=',')"
   ]
  },
  {
   "cell_type": "code",
   "execution_count": 205,
   "metadata": {},
   "outputs": [],
   "source": [
    "np.savetxt(os.getcwd()+'\\\\zhu_etal_long_arr.txt',xarr,fmt='%7.4f',delimiter=',')\n",
    "np.savetxt(os.getcwd()+'\\\\zhu_etal_lat_arr.txt',yarr,fmt='%7.4f',delimiter=',')"
   ]
  },
  {
   "cell_type": "code",
   "execution_count": 35,
   "metadata": {},
   "outputs": [
    {
     "data": {
      "text/plain": [
       "array([-122.7995, -122.7985, -122.7975, ..., -121.5015, -121.5005,\n",
       "       -121.4995])"
      ]
     },
     "execution_count": 35,
     "metadata": {},
     "output_type": "execute_result"
    }
   ],
   "source": [
    "xarr[0]"
   ]
  },
  {
   "cell_type": "code",
   "execution_count": 206,
   "metadata": {},
   "outputs": [
    {
     "data": {
      "image/png": "[encoded data removed]",
      "text/plain": [
       "<Figure size 576x684 with 1 Axes>"
      ]
     },
     "metadata": {
      "needs_background": "light"
     },
     "output_type": "display_data"
    }
   ],
   "source": [
    "nx = 1\n",
    "ny = 1\n",
    "fontsize_label = 16\n",
    "fontsize_axis = 12\n",
    "fontname = 'arial'\n",
    "##\n",
    "figsize = (8,9.5)\n",
    "fig, ax = plt.subplots(nx, ny, figsize=figsize)\n",
    "##\n",
    "# [ax.plot([i,i],ybounds,'-',color=[0.7,0.7,0.7]) for i in grid_x_tick]\n",
    "# [ax.plot(xbounds,[j,j],'-',color=[0.7,0.7,0.7]) for j in grid_y_tick]\n",
    "# cs = ax.contour(xarr,yarr,prob_liq,levels[0,0.2,0.3,0.5,1],cmap='Greens')\n",
    "# colors_prob_liq = np.divide([[168,218,214],\n",
    "#                              [219,219,219],\n",
    "#                              [255,249,161],\n",
    "#                              [253,192, 77],\n",
    "#                              [229, 86, 88]],255)\n",
    "# colors_liq_susc = np.divide([[168,218,214],\n",
    "#                              [255,255,255],\n",
    "#                              [236,239,108],\n",
    "#                              [255,255, 62],\n",
    "#                              [255,188, 65],\n",
    "#                              [245,125, 65]],255)\n",
    "colors_prob_liq = np.divide([[255,255,255],\n",
    "                             [255,249,161],\n",
    "                             [253,192, 77],\n",
    "                             [229, 86, 88]],255)\n",
    "colors_liq_susc = np.divide([[255,255,255],\n",
    "                             [236,239,108],\n",
    "                             [255,255, 62],\n",
    "                             [255,188, 65],\n",
    "                             [245,125, 65]],255)\n",
    "cmap_pliq = ListedColormap(colors_prob_liq, name='colors_prob_liq')\n",
    "cmap_susc = ListedColormap(colors_liq_susc, name='colors_liq_susc')\n",
    "# cs = ax.contourf(xarr,yarr,prob_liq,levels=[0,0.2,0.3,0.5,1],colors=colors_prob_liq)\n",
    "# cs = ax.contourf(xarr,yarr,liq_susc,levels=[-38.1,-3.20,-3.15,-1.95,-1.15,5.30],colors=colors_liq_susc)\n",
    "# plt.clabel(cs,fmt='%5.0f')\n",
    "ax.pcolormesh(xarr,yarr,prob_liq_norm,cmap=cmap_pliq)\n",
    "# ax.pcolormesh(xarr,yarr,liq_susc_norm,cmap=cmap_susc)\n",
    "# cs2 = ax.contourf(xarr,yarr,liq_susc,levels=[-38.1,-3.20,-3.15,-1.95,-1.15,5.30],cmap='Blues_r')\n",
    "# [ax.plot(i[0],i[1],'or') for i in coords]\n",
    "# show(data_precip, ax=ax, transform=ras_precip.transform, alpha=1, cmap='Blues')\n",
    "# show(data_wtd, ax=ax, transform=ras_wtd.transform, alpha=1, cmap='Blues')\n",
    "# ax.plot(*areal_source_poly.exterior.xy,'r')\n",
    "# ax.plot(xy_pair_areal[:,[0]],xy_pair_areal[:,[1]],'or')\n",
    "# ax.plot(fault_source[:,[0]],fault_source[:,[1]],'-r')\n",
    "# ax.plot(fault_list[:,[0]],fault_list[:,[1]],'or')\n",
    "# plt.plot(xy_pair[:,[0]],xy_pair[:,[1]],'ok',markersize=4)\n",
    "# gdf_dr.plot(ax=ax, cmap='Blues', ec=[0.4,0.4,0.4])\n",
    "##\n",
    "# ax.set_xlim(xbounds)\n",
    "# ax.set_ylim(ybounds)\n",
    "ax.set_xlabel('Longitude',fontsize=16,fontname=fontname)\n",
    "ax.set_ylabel('Latitude',fontsize=16,fontname=fontname)\n",
    "# ax.set_xlim([-122.5,-121.9])\n",
    "# ax.set_ylim([37.4,38.1])\n",
    "ax.set_xlim([-122.8,-121.55])\n",
    "ax.set_ylim([37.1,38.3])\n",
    "ax.tick_params(labelsize=12)\n",
    "bg_fc = np.divide([168,218,214],255)\n",
    "ax.set_facecolor(bg_fc)\n",
    "##\n",
    "plt.show()"
   ]
  },
  {
   "cell_type": "code",
   "execution_count": 350,
   "metadata": {},
   "outputs": [
    {
     "data": {
      "text/plain": [
       "(480, 280)"
      ]
     },
     "execution_count": 350,
     "metadata": {},
     "output_type": "execute_result"
    }
   ],
   "source": [
    "ras_dc.index(-122.2,37.4)"
   ]
  },
  {
   "cell_type": "code",
   "execution_count": 351,
   "metadata": {},
   "outputs": [
    {
     "data": {
      "text/plain": [
       "-11.0"
      ]
     },
     "execution_count": 351,
     "metadata": {},
     "output_type": "execute_result"
    }
   ],
   "source": [
    "data_dc[480,280]"
   ]
  },
  {
   "cell_type": "code",
   "execution_count": 348,
   "metadata": {},
   "outputs": [],
   "source": []
  },
  {
   "cell_type": "code",
   "execution_count": 348,
   "metadata": {},
   "outputs": [
    {
     "data": {
      "text/plain": [
       "14.0"
      ]
     },
     "execution_count": 348,
     "metadata": {},
     "output_type": "execute_result"
    }
   ],
   "source": []
  },
  {
   "cell_type": "code",
   "execution_count": null,
   "metadata": {},
   "outputs": [],
   "source": [
    "b_0 = 12.4351 # intercept\n",
    "b_lnpgv = 0.301 # cm/s, peak ground velocity\n",
    "b_vs30 = -2.615 # m/s, shear-wave velocity over the first 30 m (slope derived)\n",
    "b_precip = 5.556e-4 # mm, mean annual precipitation\n",
    "b_sqrt_dc = -0.287 # km, distance to nearest coast\n",
    "b_dr = -0.0666 # km, distance to nearest river\n",
    "b_sqrt_dc_dr = -0.0369 #"
   ]
  },
  {
   "cell_type": "code",
   "execution_count": null,
   "metadata": {},
   "outputs": [],
   "source": [
    "b_0 = 8.801 # intercept\n",
    "b_lnpgv = 0.334 # cm/s, peak ground velocity\n",
    "b_vs30 = -1.918 # m/s, shear-wave velocity over the first 30 m (slope derived)\n",
    "b_precip = 5.408e-4 # mm, mean annual precipitation\n",
    "b_dw = -0.2054 # km, distance to nearest water body\n",
    "b_wtd = -0.0333 # m, global water table depth"
   ]
  },
  {
   "cell_type": "code",
   "execution_count": null,
   "metadata": {},
   "outputs": [],
   "source": [
    "pgv_vals"
   ]
  },
  {
   "cell_type": "code",
   "execution_count": null,
   "metadata": {},
   "outputs": [],
   "source": [
    "coords"
   ]
  },
  {
   "cell_type": "code",
   "execution_count": null,
   "metadata": {},
   "outputs": [],
   "source": [
    "liq_susc"
   ]
  },
  {
   "cell_type": "code",
   "execution_count": null,
   "metadata": {},
   "outputs": [],
   "source": [
    "# from mpl_toolkits.mplot3d import Axes3D"
   ]
  },
  {
   "cell_type": "code",
   "execution_count": null,
   "metadata": {},
   "outputs": [],
   "source": [
    "nx = 1\n",
    "ny = 1\n",
    "fontsize_label = 16\n",
    "fontsize_axis = 12\n",
    "fontname = 'arial'\n",
    "##\n",
    "figsize = (8,9.5)\n",
    "fig = plt.figure()\n",
    "ax = fig.gca(projection='3d')\n",
    "# fig, ax = plt.subplots(nx, ny, figsize=figsize)\n",
    "##\n",
    "# [ax.plot([i,i],ybounds,'-',color=[0.7,0.7,0.7]) for i in grid_x_tick]\n",
    "# [ax.plot(xbounds,[j,j],'-',color=[0.7,0.7,0.7]) for j in grid_y_tick]\n",
    "# cs = ax.contour(xarr,yarr,prob_liq,levels[0,0.2,0.3,0.5,1],cmap='Greens')\n",
    "colors_prob_liq = np.divide([[219,219,219],\n",
    "                             [255,249,161],\n",
    "                             [253,192, 77],\n",
    "                             [229, 86, 88]],255)\n",
    "colors_liq_susc = np.divide([[255,255,255],\n",
    "                             [236,239,108],\n",
    "                             [255,255, 62],\n",
    "                             [255,188, 65],\n",
    "                             [245,125, 65]],255)\n",
    "\n",
    "\n",
    "surf = ax.plot_surface(xarr,yarr,liq_susc)\n",
    "\n",
    "# plt.imshow(liq_susc,cmap='Blues')\n",
    "\n",
    "[ax.plot(i[0],i[1],'or') for i in coords]\n",
    "##\n",
    "ax.set_xlim([-122.8,-121.5])\n",
    "ax.set_ylim([37,38.5])\n",
    "ax.tick_params(labelsize=12)\n",
    "bg_fc = np.divide([168,218,214],255)\n",
    "ax.set_facecolor(bg_fc)\n",
    "##\n",
    "plt.show()"
   ]
  },
  {
   "cell_type": "code",
   "execution_count": null,
   "metadata": {},
   "outputs": [],
   "source": [
    "aout = [[xarr[i,j],yarr[i,j],-999] if np.isnan(liq_susc[i,j]) else [xarr[i,j],yarr[i,j],liq_susc[i,j]] for i in range(mat_shape[0]) for j in range(mat_shape[1])]"
   ]
  },
  {
   "cell_type": "code",
   "execution_count": null,
   "metadata": {},
   "outputs": [],
   "source": [
    "np.savetxt(os.getcwd() + '/liq_susc.txt',aout,fmt='%8.4f,%8.4f,%8.4f')"
   ]
  },
  {
   "cell_type": "code",
   "execution_count": null,
   "metadata": {},
   "outputs": [],
   "source": [
    "## Distance to nearest coast, truncated to CA (km)\n",
    "## https://oceancolor.gsfc.nasa.gov/docs/distfromcoast/#\n",
    "ras_liqsusc_out = rio.open(os.getcwd() + '/liq_susc.txt')\n",
    "data_liqsusc_out = ras_liqsusc_out.read(1) ## in m/s\n",
    "data_liqsusc_out = data_liqsusc_out.astype(float)\n",
    "filters = data_liqsusc_out == -999\n",
    "data_liqsusc_out[filters] = np.nan"
   ]
  },
  {
   "cell_type": "code",
   "execution_count": null,
   "metadata": {},
   "outputs": [],
   "source": [
    "nx = 1\n",
    "ny = 1\n",
    "figsize = (16,8)\n",
    "fig, ax = plt.subplots(nx, ny, figsize=figsize)\n",
    "fontsize_label = 16\n",
    "fontsize_axis = 12\n",
    "fontname = 'arial'\n",
    "##\n",
    "# [ax.plot(i[0],i[1],'or') for i in coords]\n",
    "# show(data_precip, ax=ax, transform=ras_precip.transform, alpha=1, cmap='Blues')\n",
    "show(data_liqsusc_out, ax=ax, transform=ras_liqsusc_out.transform, alpha=1, cmap='Blues')\n",
    "ax.set_xlabel('Longitude',fontsize=16,fontname=fontname)\n",
    "ax.set_ylabel('Latitude',fontsize=16,fontname=fontname)\n",
    "# ax.set_xlim([-125,-113.5])\n",
    "# ax.set_ylim([32.2,42.2])\n",
    "ax.set_xlim([-122.8,-121.5])\n",
    "ax.set_ylim([37,38.3])\n",
    "ax.tick_params(labelsize=12)\n",
    "plt.show()"
   ]
  },
  {
   "cell_type": "code",
   "execution_count": null,
   "metadata": {},
   "outputs": [],
   "source": [
    "import matplotlib.pyplot as plt"
   ]
  },
  {
   "cell_type": "code",
   "execution_count": 43,
   "metadata": {},
   "outputs": [
    {
     "data": {
      "image/png": "[encoded data removed]",
      "text/plain": [
       "<Figure size 1152x576 with 1 Axes>"
      ]
     },
     "metadata": {
      "needs_background": "light"
     },
     "output_type": "display_data"
    }
   ],
   "source": [
    "nx = 1\n",
    "ny = 1\n",
    "figsize = (16,8)\n",
    "fig, ax = plt.subplots(nx, ny, figsize=figsize)\n",
    "fontsize_label = 16\n",
    "fontsize_axis = 12\n",
    "fontname = 'arial'\n",
    "##\n",
    "gdf_dr.plot(ax=ax, cmap='Blues', ec=[0.4,0.4,0.4], alpha=0.4, legend=True)\n",
    "ax.set_xlabel('Longitude',fontsize=16,fontname=fontname)\n",
    "ax.set_ylabel('Latitude',fontsize=16,fontname=fontname)\n",
    "# ax.set_xlim([-122.5,-121.9])\n",
    "# ax.set_ylim([37.4,38.1])\n",
    "ax.set_xlim([-122.8,-121.55])\n",
    "ax.set_ylim([37.1,38.3])\n",
    "ax.tick_params(labelsize=12)\n",
    "plt.show()"
   ]
  },
  {
   "cell_type": "code",
   "execution_count": null,
   "metadata": {},
   "outputs": [],
   "source": [
    "colors_liq_susc"
   ]
  },
  {
   "cell_type": "code",
   "execution_count": 65,
   "metadata": {},
   "outputs": [
    {
     "data": {
      "image/png": "[encoded data removed]",
      "text/plain": [
       "<Figure size 1152x576 with 1 Axes>"
      ]
     },
     "metadata": {
      "needs_background": "light"
     },
     "output_type": "display_data"
    }
   ],
   "source": [
    "nx = 1\n",
    "ny = 1\n",
    "figsize = (16,8)\n",
    "fig, ax = plt.subplots(nx, ny, figsize=figsize)\n",
    "fontsize_label = 16\n",
    "fontsize_axis = 12\n",
    "fontname = 'arial'\n",
    "##\n",
    "show(data_dc, ax=ax, transform=ras_dc.transform, alpha=1, cmap='Blues')\n",
    "ax.set_xlabel('Longitude',fontsize=16,fontname=fontname)\n",
    "ax.set_ylabel('Latitude',fontsize=16,fontname=fontname)\n",
    "# ax.set_xlim([-125,-113.5])\n",
    "# ax.set_ylim([32.2,42.2])\n",
    "ax.set_xlim([-122.5,-121.9])\n",
    "ax.set_ylim([37.4,38.1])\n",
    "ax.tick_params(labelsize=12)\n",
    "plt.show()"
   ]
  }
 ],
 "metadata": {
  "kernelspec": {
   "display_name": "Python 3",
   "language": "python",
   "name": "python3"
  },
  "language_info": {
   "codemirror_mode": {
    "name": "ipython",
    "version": 3
   },
   "file_extension": ".py",
   "mimetype": "text/x-python",
   "name": "python",
   "nbconvert_exporter": "python",
   "pygments_lexer": "ipython3",
   "version": "3.7.3"
  }
 },
 "nbformat": 4,
 "nbformat_minor": 4
}
